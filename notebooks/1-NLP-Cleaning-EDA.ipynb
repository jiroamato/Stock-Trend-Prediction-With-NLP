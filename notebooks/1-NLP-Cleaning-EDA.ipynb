{
 "cells": [
  {
   "cell_type": "markdown",
   "metadata": {},
   "source": [
    "# **NLP Cleaning and EDA**\n",
    "\n",
    "### **By:** Jiro Amato\n",
    "\n",
    "### **Date:** May, 30, 2024\n",
    "### **Edited:** July 7, 2024\n",
    "\n",
    "---"
   ]
  },
  {
   "cell_type": "markdown",
   "metadata": {},
   "source": [
    "## ***Introduction:***\n",
    "\n",
    "In this notebook, we wll be going through a first pass of the training dataset for the sentiment analysis model. This dataset contains 4,840 financial articles that have been classified as positive, neutral or negative by 16 financial professionals. It is crucial to complete this step as it sets the foundation for the rest of the model. We will be looking through text-preprocessing and some EDA using techniques such as Bag of Words and TF-IDF to vecotrize the text data.\n",
    "\n",
    "**Other datasets of the project (will investigate further):**\n",
    "\n",
    "The second dataset of the project contains daily news gather from 2009-2020 which has the following:\n",
    "\n",
    "### ***Data Dictionary (2nd Dataset)***\n",
    "\n",
    "**Column Name:**   \n",
    "Contains **843,062** unique articles.\n",
    "\n",
    "- `headline:` The headline of the news article\n",
    "- `url:` Link to the article\n",
    "- `publisher:` Name of the publisher\n",
    "- `date:` Date the article was released\n",
    "- `stock:` The stock that the article refers to\n",
    "\n",
    "Lastly, the third dataset contains the daily historical price of the S&P 500 index from 2000-2024 which has the following:\n",
    "\n",
    "### ***Data Dictionary (3rd Dataset)***\n",
    "\n",
    "**Column Name:**\n",
    "Contains **6,038** observations.  \n",
    "\n",
    "- `Date:` Date of when the price was recorded\n",
    "- `Open:` Price level during the market opening\n",
    "- `High:` Highest that price went to during trading hours\n",
    "- `Low:` Lowest that price went to during trading hours\n",
    "- `Adj Close:` The closing price (adjusted to include any corporate decision made before the next trading day)\n",
    "- `Volume:` The total amount that the index was traded expressed in $\n",
    "\n",
    "---"
   ]
  },
  {
   "cell_type": "markdown",
   "metadata": {},
   "source": [
    "## ***Table of contents***<a id='toc0_'></a>    \n",
    "- 1.1. [***Preface: Verifying the cleanliness of our data***](#toc1_1_)    \n",
    "    - 1.1.1. [***Loading Datasets***](#toc1_1_1_)    \n",
    "    - 1.1.2. [***Data Dictionary***](#toc1_1_2_)    \n",
    "    - 1.1.3. [***Checking for nulls***](#toc1_1_3_)    \n",
    "    - 1.1.4. [***Checking for duplicates***](#toc1_1_4_)    \n",
    "- 1.2. [***Exploratory Data Analysis***](#toc1_2_)    \n",
    "    - 1.2.1. [***Sentiment Breakdown/Imbalance***](#toc1_2_1_)    \n",
    "    - 1.2.2. [***Counts of words and characters***](#toc1_2_2_)    \n",
    "- 1.3. [***Vectorization***](#toc1_3_)    \n",
    "    - 1.3.1. [***Data Standardization***](#toc1_3_1_)    \n",
    "    - 1.3.2. [***Tokenization and Lemmatization***](#toc1_3_2_)    \n",
    "    - 1.3.3. [***Stop-word and empty string removal***](#toc1_3_3_)    \n",
    "    - 1.3.4. [***Tokenizer function***](#toc1_3_4_)    \n",
    "    - 1.3.5. [***Bag of Words***](#toc1_3_5_)    \n",
    "    - 1.3.6. [***TF-IDF***](#toc1_3_6_)    \n",
    "    - 1.3.7. [***Word Embeddings (Word2Vec)***](#toc1_3_7_)    \n",
    "      - 1.3.7.1. [***Word Similarity***](#toc1_3_7_1_)    \n",
    "      - 1.3.7.2. [***Embedding the Dataset***](#toc1_3_7_2_)    \n",
    "- 1.4. [***Next Steps***](#toc1_4_)    \n",
    "\n",
    "<!-- vscode-jupyter-toc-config\n",
    "\tnumbering=true\n",
    "\tanchor=true\n",
    "\tflat=false\n",
    "\tminLevel=1\n",
    "\tmaxLevel=6\n",
    "\t/vscode-jupyter-toc-config -->\n",
    "<!-- THIS CELL WILL BE REPLACED ON TOC UPDATE. DO NOT WRITE YOUR TEXT IN THIS CELL -->"
   ]
  },
  {
   "cell_type": "code",
   "execution_count": 1,
   "metadata": {},
   "outputs": [
    {
     "name": "stderr",
     "output_type": "stream",
     "text": [
      "[nltk_data] Downloading package wordnet to\n",
      "[nltk_data]     C:\\Users\\amato\\AppData\\Roaming\\nltk_data...\n",
      "[nltk_data]   Package wordnet is already up-to-date!\n"
     ]
    }
   ],
   "source": [
    "# Importing necessary libraries\n",
    "\n",
    "# Libraries for data manipulation\n",
    "import numpy as np\n",
    "import pandas as pd\n",
    "import os # For path name manipulation\n",
    "\n",
    "# Libraries for data visualization\n",
    "import matplotlib.pyplot as plt\n",
    "import seaborn as sns\n",
    "\n",
    "# For Train/Test splitting\n",
    "from sklearn.model_selection import train_test_split\n",
    "from sklearn.model_selection import KFold\n",
    "\n",
    "# NLP specific libraries\n",
    "import nltk\n",
    "nltk.download('wordnet')\n",
    "from nltk.corpus import stopwords\n",
    "from sklearn.feature_extraction.text import CountVectorizer\n",
    "from sklearn.feature_extraction.text import TfidfVectorizer\n",
    "from nltk.stem.wordnet import WordNetLemmatizer\n",
    "import string\n",
    "import gensim"
   ]
  },
  {
   "cell_type": "markdown",
   "metadata": {},
   "source": [
    "## 1.1. <a id='toc1_1_'></a>[***Preface: Verifying the cleanliness of our data***](#toc0_)"
   ]
  },
  {
   "cell_type": "markdown",
   "metadata": {},
   "source": [
    "### 1.1.1. <a id='toc1_1_1_'></a>[***Loading Datasets***](#toc0_)"
   ]
  },
  {
   "cell_type": "markdown",
   "metadata": {},
   "source": [
    "Sourced code to open multiple files in a for-loop [here](https://saturncloud.io/blog/how-to-import-multiple-csv-files-into-pandas-and-concatenate-into-one-dataframe/)."
   ]
  },
  {
   "cell_type": "code",
   "execution_count": 2,
   "metadata": {},
   "outputs": [
    {
     "data": {
      "text/html": [
       "<div>\n",
       "<style scoped>\n",
       "    .dataframe tbody tr th:only-of-type {\n",
       "        vertical-align: middle;\n",
       "    }\n",
       "\n",
       "    .dataframe tbody tr th {\n",
       "        vertical-align: top;\n",
       "    }\n",
       "\n",
       "    .dataframe thead th {\n",
       "        text-align: right;\n",
       "    }\n",
       "</style>\n",
       "<table border=\"1\" class=\"dataframe\">\n",
       "  <thead>\n",
       "    <tr style=\"text-align: right;\">\n",
       "      <th></th>\n",
       "      <th>Headline</th>\n",
       "      <th>Sentiment</th>\n",
       "    </tr>\n",
       "  </thead>\n",
       "  <tbody>\n",
       "    <tr>\n",
       "      <th>0</th>\n",
       "      <td>According to Gran , the company has no plans t...</td>\n",
       "      <td>neutral</td>\n",
       "    </tr>\n",
       "    <tr>\n",
       "      <th>1</th>\n",
       "      <td>For the last quarter of 2010 , Componenta 's n...</td>\n",
       "      <td>positive</td>\n",
       "    </tr>\n",
       "    <tr>\n",
       "      <th>2</th>\n",
       "      <td>In the third quarter of 2010 , net sales incre...</td>\n",
       "      <td>positive</td>\n",
       "    </tr>\n",
       "    <tr>\n",
       "      <th>3</th>\n",
       "      <td>Operating profit rose to EUR 13.1 mn from EUR ...</td>\n",
       "      <td>positive</td>\n",
       "    </tr>\n",
       "    <tr>\n",
       "      <th>4</th>\n",
       "      <td>Operating profit totalled EUR 21.1 mn , up fro...</td>\n",
       "      <td>positive</td>\n",
       "    </tr>\n",
       "    <tr>\n",
       "      <th>...</th>\n",
       "      <td>...</td>\n",
       "      <td>...</td>\n",
       "    </tr>\n",
       "    <tr>\n",
       "      <th>14775</th>\n",
       "      <td>LONDON MarketWatch -- Share prices ended lower...</td>\n",
       "      <td>negative</td>\n",
       "    </tr>\n",
       "    <tr>\n",
       "      <th>14776</th>\n",
       "      <td>Rinkuskiai 's beer sales fell by 6.5 per cent ...</td>\n",
       "      <td>neutral</td>\n",
       "    </tr>\n",
       "    <tr>\n",
       "      <th>14777</th>\n",
       "      <td>Operating profit fell to EUR 35.4 mn from EUR ...</td>\n",
       "      <td>negative</td>\n",
       "    </tr>\n",
       "    <tr>\n",
       "      <th>14778</th>\n",
       "      <td>Net sales of the Paper segment decreased to EU...</td>\n",
       "      <td>negative</td>\n",
       "    </tr>\n",
       "    <tr>\n",
       "      <th>14779</th>\n",
       "      <td>Sales in Finland decreased by 10.5 % in Januar...</td>\n",
       "      <td>negative</td>\n",
       "    </tr>\n",
       "  </tbody>\n",
       "</table>\n",
       "<p>14780 rows × 2 columns</p>\n",
       "</div>"
      ],
      "text/plain": [
       "                                                Headline Sentiment\n",
       "0      According to Gran , the company has no plans t...   neutral\n",
       "1      For the last quarter of 2010 , Componenta 's n...  positive\n",
       "2      In the third quarter of 2010 , net sales incre...  positive\n",
       "3      Operating profit rose to EUR 13.1 mn from EUR ...  positive\n",
       "4      Operating profit totalled EUR 21.1 mn , up fro...  positive\n",
       "...                                                  ...       ...\n",
       "14775  LONDON MarketWatch -- Share prices ended lower...  negative\n",
       "14776  Rinkuskiai 's beer sales fell by 6.5 per cent ...   neutral\n",
       "14777  Operating profit fell to EUR 35.4 mn from EUR ...  negative\n",
       "14778  Net sales of the Paper segment decreased to EU...  negative\n",
       "14779  Sales in Finland decreased by 10.5 % in Januar...  negative\n",
       "\n",
       "[14780 rows x 2 columns]"
      ]
     },
     "execution_count": 2,
     "metadata": {},
     "output_type": "execute_result"
    }
   ],
   "source": [
    "# Loading the dataset for training the sentiment analysis model\n",
    "\n",
    "# Instantiating an empty dataframe\n",
    "phrase_bank_df = pd.DataFrame()\n",
    "\n",
    "# Creating a list of the file names for a for-loop\n",
    "files = ['Sentences_AllAgree.txt', 'Sentences_75Agree.txt', 'Sentences_66Agree.txt', 'Sentences_50Agree.txt']\n",
    "path = 'C:/Users/amato/Desktop/Brainstation/Capstone/data/'\n",
    "\n",
    "# For-loop to load in all the files and combine them into one\n",
    "for file in files:\n",
    "    df = pd.read_csv(os.path.join(path, file), encoding='ISO-8859-1', delimiter='@', names=['Headline', 'Sentiment'])  # The files are in \"@\" separated format\n",
    "    phrase_bank_df = pd.concat([phrase_bank_df, df], axis=0, ignore_index=True)\n",
    "\n",
    "phrase_bank_df\n"
   ]
  },
  {
   "cell_type": "markdown",
   "metadata": {},
   "source": [
    "### 1.1.2. <a id='toc1_1_2_'></a>[***Data Dictionary***](#toc0_)\n",
    "\n",
    "**Column Name:**   \n",
    "\n",
    "- `Headline:` The headline of the news article\n",
    "- `Sentiment:` Classifications by positive, neutral or negative. These classifications were agreed upon by 16 professionals in the Finance domain."
   ]
  },
  {
   "cell_type": "markdown",
   "metadata": {},
   "source": [
    "### 1.1.3. <a id='toc1_1_3_'></a>[***Checking for nulls***](#toc0_)"
   ]
  },
  {
   "cell_type": "code",
   "execution_count": 3,
   "metadata": {},
   "outputs": [
    {
     "data": {
      "text/plain": [
       "Headline     0\n",
       "Sentiment    0\n",
       "dtype: int64"
      ]
     },
     "execution_count": 3,
     "metadata": {},
     "output_type": "execute_result"
    }
   ],
   "source": [
    "# Checking for nulls\n",
    "\n",
    "phrase_bank_df.isna().sum()"
   ]
  },
  {
   "cell_type": "markdown",
   "metadata": {},
   "source": [
    "We do not have any null values."
   ]
  },
  {
   "cell_type": "markdown",
   "metadata": {},
   "source": [
    "### 1.1.4. <a id='toc1_1_4_'></a>[***Checking for duplicates***](#toc0_)"
   ]
  },
  {
   "cell_type": "code",
   "execution_count": 4,
   "metadata": {},
   "outputs": [
    {
     "data": {
      "text/plain": [
       "9940"
      ]
     },
     "execution_count": 4,
     "metadata": {},
     "output_type": "execute_result"
    }
   ],
   "source": [
    "# Checking for duplicates\n",
    "\n",
    "phrase_bank_df.duplicated(keep='first').sum()"
   ]
  },
  {
   "cell_type": "markdown",
   "metadata": {},
   "source": [
    "We have 9,940 duplicates in our dataframe. Let's check what they are ."
   ]
  },
  {
   "cell_type": "code",
   "execution_count": 5,
   "metadata": {},
   "outputs": [
    {
     "data": {
      "text/html": [
       "<div>\n",
       "<style scoped>\n",
       "    .dataframe tbody tr th:only-of-type {\n",
       "        vertical-align: middle;\n",
       "    }\n",
       "\n",
       "    .dataframe tbody tr th {\n",
       "        vertical-align: top;\n",
       "    }\n",
       "\n",
       "    .dataframe thead th {\n",
       "        text-align: right;\n",
       "    }\n",
       "</style>\n",
       "<table border=\"1\" class=\"dataframe\">\n",
       "  <thead>\n",
       "    <tr style=\"text-align: right;\">\n",
       "      <th></th>\n",
       "      <th>Headline</th>\n",
       "      <th>Sentiment</th>\n",
       "    </tr>\n",
       "  </thead>\n",
       "  <tbody>\n",
       "    <tr>\n",
       "      <th>519</th>\n",
       "      <td>The issuer is solely responsible for the conte...</td>\n",
       "      <td>neutral</td>\n",
       "    </tr>\n",
       "    <tr>\n",
       "      <th>626</th>\n",
       "      <td>The report profiles 614 companies including ma...</td>\n",
       "      <td>neutral</td>\n",
       "    </tr>\n",
       "    <tr>\n",
       "      <th>929</th>\n",
       "      <td>Ahlstrom 's share is quoted on the NASDAQ OMX ...</td>\n",
       "      <td>neutral</td>\n",
       "    </tr>\n",
       "    <tr>\n",
       "      <th>1027</th>\n",
       "      <td>SSH Communications Security Corporation is hea...</td>\n",
       "      <td>neutral</td>\n",
       "    </tr>\n",
       "    <tr>\n",
       "      <th>1409</th>\n",
       "      <td>The company serves customers in various indust...</td>\n",
       "      <td>neutral</td>\n",
       "    </tr>\n",
       "  </tbody>\n",
       "</table>\n",
       "</div>"
      ],
      "text/plain": [
       "                                               Headline Sentiment\n",
       "519   The issuer is solely responsible for the conte...   neutral\n",
       "626   The report profiles 614 companies including ma...   neutral\n",
       "929   Ahlstrom 's share is quoted on the NASDAQ OMX ...   neutral\n",
       "1027  SSH Communications Security Corporation is hea...   neutral\n",
       "1409  The company serves customers in various indust...   neutral"
      ]
     },
     "execution_count": 5,
     "metadata": {},
     "output_type": "execute_result"
    }
   ],
   "source": [
    "phrase_bank_df[phrase_bank_df.duplicated(keep='first') == True].head()"
   ]
  },
  {
   "cell_type": "code",
   "execution_count": 6,
   "metadata": {},
   "outputs": [],
   "source": [
    "# Dropping duplicates\n",
    "\n",
    "phrase_bank_df = phrase_bank_df.drop_duplicates(keep='first', ignore_index=True)"
   ]
  },
  {
   "cell_type": "code",
   "execution_count": 7,
   "metadata": {},
   "outputs": [
    {
     "data": {
      "text/plain": [
       "0"
      ]
     },
     "execution_count": 7,
     "metadata": {},
     "output_type": "execute_result"
    }
   ],
   "source": [
    "# Sanity check\n",
    "\n",
    "phrase_bank_df.duplicated().sum()"
   ]
  },
  {
   "cell_type": "code",
   "execution_count": 8,
   "metadata": {},
   "outputs": [
    {
     "name": "stdout",
     "output_type": "stream",
     "text": [
      "<class 'pandas.core.frame.DataFrame'>\n",
      "RangeIndex: 4840 entries, 0 to 4839\n",
      "Data columns (total 2 columns):\n",
      " #   Column     Non-Null Count  Dtype \n",
      "---  ------     --------------  ----- \n",
      " 0   Headline   4840 non-null   object\n",
      " 1   Sentiment  4840 non-null   object\n",
      "dtypes: object(2)\n",
      "memory usage: 75.8+ KB\n"
     ]
    }
   ],
   "source": [
    "# Checking the cleaned dataframe\n",
    "\n",
    "phrase_bank_df.info()"
   ]
  },
  {
   "cell_type": "code",
   "execution_count": 9,
   "metadata": {},
   "outputs": [
    {
     "data": {
      "text/html": [
       "<div>\n",
       "<style scoped>\n",
       "    .dataframe tbody tr th:only-of-type {\n",
       "        vertical-align: middle;\n",
       "    }\n",
       "\n",
       "    .dataframe tbody tr th {\n",
       "        vertical-align: top;\n",
       "    }\n",
       "\n",
       "    .dataframe thead th {\n",
       "        text-align: right;\n",
       "    }\n",
       "</style>\n",
       "<table border=\"1\" class=\"dataframe\">\n",
       "  <thead>\n",
       "    <tr style=\"text-align: right;\">\n",
       "      <th></th>\n",
       "      <th>Headline</th>\n",
       "      <th>Sentiment</th>\n",
       "    </tr>\n",
       "  </thead>\n",
       "  <tbody>\n",
       "    <tr>\n",
       "      <th>0</th>\n",
       "      <td>According to Gran , the company has no plans t...</td>\n",
       "      <td>neutral</td>\n",
       "    </tr>\n",
       "    <tr>\n",
       "      <th>1</th>\n",
       "      <td>For the last quarter of 2010 , Componenta 's n...</td>\n",
       "      <td>positive</td>\n",
       "    </tr>\n",
       "    <tr>\n",
       "      <th>2</th>\n",
       "      <td>In the third quarter of 2010 , net sales incre...</td>\n",
       "      <td>positive</td>\n",
       "    </tr>\n",
       "    <tr>\n",
       "      <th>3</th>\n",
       "      <td>Operating profit rose to EUR 13.1 mn from EUR ...</td>\n",
       "      <td>positive</td>\n",
       "    </tr>\n",
       "    <tr>\n",
       "      <th>4</th>\n",
       "      <td>Operating profit totalled EUR 21.1 mn , up fro...</td>\n",
       "      <td>positive</td>\n",
       "    </tr>\n",
       "    <tr>\n",
       "      <th>...</th>\n",
       "      <td>...</td>\n",
       "      <td>...</td>\n",
       "    </tr>\n",
       "    <tr>\n",
       "      <th>4835</th>\n",
       "      <td>Bosse added that Trygvesta does not have the f...</td>\n",
       "      <td>negative</td>\n",
       "    </tr>\n",
       "    <tr>\n",
       "      <th>4836</th>\n",
       "      <td>Finnish-Swedish Stora Enso does not understand...</td>\n",
       "      <td>negative</td>\n",
       "    </tr>\n",
       "    <tr>\n",
       "      <th>4837</th>\n",
       "      <td>The 2015 target for net sales has been set at ...</td>\n",
       "      <td>positive</td>\n",
       "    </tr>\n",
       "    <tr>\n",
       "      <th>4838</th>\n",
       "      <td>have notified that as a result of the Company ...</td>\n",
       "      <td>negative</td>\n",
       "    </tr>\n",
       "    <tr>\n",
       "      <th>4839</th>\n",
       "      <td>Net sales of the Paper segment decreased to EU...</td>\n",
       "      <td>negative</td>\n",
       "    </tr>\n",
       "  </tbody>\n",
       "</table>\n",
       "<p>4840 rows × 2 columns</p>\n",
       "</div>"
      ],
      "text/plain": [
       "                                               Headline Sentiment\n",
       "0     According to Gran , the company has no plans t...   neutral\n",
       "1     For the last quarter of 2010 , Componenta 's n...  positive\n",
       "2     In the third quarter of 2010 , net sales incre...  positive\n",
       "3     Operating profit rose to EUR 13.1 mn from EUR ...  positive\n",
       "4     Operating profit totalled EUR 21.1 mn , up fro...  positive\n",
       "...                                                 ...       ...\n",
       "4835  Bosse added that Trygvesta does not have the f...  negative\n",
       "4836  Finnish-Swedish Stora Enso does not understand...  negative\n",
       "4837  The 2015 target for net sales has been set at ...  positive\n",
       "4838  have notified that as a result of the Company ...  negative\n",
       "4839  Net sales of the Paper segment decreased to EU...  negative\n",
       "\n",
       "[4840 rows x 2 columns]"
      ]
     },
     "execution_count": 9,
     "metadata": {},
     "output_type": "execute_result"
    }
   ],
   "source": [
    "phrase_bank_df"
   ]
  },
  {
   "cell_type": "markdown",
   "metadata": {},
   "source": [
    "The dataframe now has 4840 rows with no nulls and duplicates. We can now proceed to start with an EDA and data-preprocessing."
   ]
  },
  {
   "cell_type": "code",
   "execution_count": 53,
   "metadata": {},
   "outputs": [],
   "source": [
    "# Saving dataset for next steps\n",
    "\n",
    "phrase_bank_df.to_csv('../data/df_clean.csv', index=False)"
   ]
  },
  {
   "cell_type": "markdown",
   "metadata": {},
   "source": [
    "## 1.2. <a id='toc1_2_'></a>[***Exploratory Data Analysis***](#toc0_)"
   ]
  },
  {
   "cell_type": "markdown",
   "metadata": {},
   "source": [
    "### 1.2.1. <a id='toc1_2_1_'></a>[***Sentiment Breakdown/Imbalance***](#toc0_)"
   ]
  },
  {
   "cell_type": "markdown",
   "metadata": {},
   "source": [
    "The first thing that I will be exploring is the breakdown of sentiment in the dataset. After, I will be simplifying the problem statement by combining neutral with positive to just have a binary sentiment output"
   ]
  },
  {
   "cell_type": "code",
   "execution_count": 11,
   "metadata": {},
   "outputs": [],
   "source": [
    "# Breakdown of positive, neutral and negative sentiments in percentages\n",
    "\n",
    "positive = phrase_bank_df['Sentiment'].value_counts()['positive'] # We know from our last code that we have 4840 observations\n",
    "negative = phrase_bank_df['Sentiment'].value_counts()['negative']\n",
    "neutral = phrase_bank_df['Sentiment'].value_counts()['neutral']"
   ]
  },
  {
   "cell_type": "code",
   "execution_count": 12,
   "metadata": {},
   "outputs": [
    {
     "data": {
      "image/png": "[encoded data removed]",
      "text/plain": [
       "<Figure size 640x480 with 1 Axes>"
      ]
     },
     "metadata": {},
     "output_type": "display_data"
    }
   ],
   "source": [
    "# Pie chart to show the breakdown of sentiment in the dataset\n",
    "plt.figure()\n",
    "plt.pie([positive, negative, neutral], labels=['Positive', 'Negative', 'Neutral'], autopct='%1.1f%%')\n",
    "plt.show()"
   ]
  },
  {
   "cell_type": "markdown",
   "metadata": {},
   "source": [
    "We can see that the neutral sentiment make up almost 60% of our data with positive at 28.2% and negative at 12.5%. The financial phrase bank is not balanced when it comes to outcomes. If we consolidate `Neutral` to `Positive` we will have data that is tremendously unbalanced towards positive sentiment. By looking at this, it seems more reasonable to consolidate `Neutral` into `Negative`instead. Although the data will still be unbalanced, it will not be as bad as if we consolidated `Neutral` and `Positive` together."
   ]
  },
  {
   "cell_type": "code",
   "execution_count": 13,
   "metadata": {},
   "outputs": [
    {
     "name": "stderr",
     "output_type": "stream",
     "text": [
      "C:\\Users\\amato\\AppData\\Local\\Temp\\ipykernel_85284\\629409407.py:2: SettingWithCopyWarning: \n",
      "A value is trying to be set on a copy of a slice from a DataFrame.\n",
      "Try using .loc[row_indexer,col_indexer] = value instead\n",
      "\n",
      "See the caveats in the documentation: https://pandas.pydata.org/pandas-docs/stable/user_guide/indexing.html#returning-a-view-versus-a-copy\n",
      "  phrase_bank_df['Sentiment'] = np.where(phrase_bank_df['Sentiment'] == 'positive', 1, 0)\n"
     ]
    },
    {
     "data": {
      "text/plain": [
       "0    3477\n",
       "1    1363\n",
       "Name: Sentiment, dtype: int64"
      ]
     },
     "execution_count": 13,
     "metadata": {},
     "output_type": "execute_result"
    }
   ],
   "source": [
    "# Mapping sentiments into binary (consolidating neutral into negative)\n",
    "phrase_bank_df['Sentiment'] = np.where(phrase_bank_df['Sentiment'] == 'positive', 1, 0)\n",
    "\n",
    "# Sanity check\n",
    "phrase_bank_df['Sentiment'].value_counts()\n"
   ]
  },
  {
   "cell_type": "code",
   "execution_count": 14,
   "metadata": {},
   "outputs": [
    {
     "data": {
      "image/png": "[encoded data removed]",
      "text/plain": [
       "<Figure size 640x480 with 1 Axes>"
      ]
     },
     "metadata": {},
     "output_type": "display_data"
    },
    {
     "name": "stdout",
     "output_type": "stream",
     "text": [
      "Class imbalance: [0.72 0.28]\n"
     ]
    }
   ],
   "source": [
    "# Class imbalance\n",
    "\n",
    "values, counts = np.unique(phrase_bank_df['Sentiment'], return_counts=True)\n",
    "normalized_counts = counts/counts.sum()\n",
    "\n",
    "plt.figure()\n",
    "plt.bar([\"0\", \"1\"], normalized_counts*100) # plot normalized counts\n",
    "plt.xlabel('Sentiment')\n",
    "plt.ylabel('% of Dataset')\n",
    "plt.show()\n",
    "\n",
    "print(f\"Class imbalance: {np.round(normalized_counts, 2)}\")"
   ]
  },
  {
   "cell_type": "markdown",
   "metadata": {},
   "source": [
    "Quite a big class imbalance here. Since this is a first pass EDA, we will see where this takes us for now. Some changes that I am already thinking about for future iterations are implementing models that allow for multi-class classification like KNN and DT. Logistic regression is also capable of this but it is costly in computation (we can accept this as our dataset is relatively low)."
   ]
  },
  {
   "cell_type": "markdown",
   "metadata": {},
   "source": [
    "### 1.2.2. <a id='toc1_2_2_'></a>[***Counts of words and characters***](#toc0_)\n",
    "\n",
    "Before we start vectorizing our data, it is good to explore the nature of our headlines when it comes to the count of characters and words. We will do the following below:"
   ]
  },
  {
   "cell_type": "code",
   "execution_count": 15,
   "metadata": {},
   "outputs": [],
   "source": [
    "# Checking the length of characters in each headline\n",
    "length = len(phrase_bank_df['Headline'][0])\n"
   ]
  },
  {
   "cell_type": "code",
   "execution_count": 16,
   "metadata": {},
   "outputs": [
    {
     "name": "stdout",
     "output_type": "stream",
     "text": [
      "According to Gran , the company has no plans to move all production to Russia , although that is where the company is growing .\n",
      "127\n"
     ]
    }
   ],
   "source": [
    "print(phrase_bank_df['Headline'][0])\n",
    "print(length)"
   ]
  },
  {
   "cell_type": "code",
   "execution_count": 17,
   "metadata": {},
   "outputs": [
    {
     "name": "stderr",
     "output_type": "stream",
     "text": [
      "C:\\Users\\amato\\AppData\\Local\\Temp\\ipykernel_85284\\192333379.py:2: SettingWithCopyWarning: \n",
      "A value is trying to be set on a copy of a slice from a DataFrame.\n",
      "Try using .loc[row_indexer,col_indexer] = value instead\n",
      "\n",
      "See the caveats in the documentation: https://pandas.pydata.org/pandas-docs/stable/user_guide/indexing.html#returning-a-view-versus-a-copy\n",
      "  phrase_bank_df['char_count'] = phrase_bank_df['Headline'].apply(lambda x: len(x))\n"
     ]
    },
    {
     "data": {
      "text/html": [
       "<div>\n",
       "<style scoped>\n",
       "    .dataframe tbody tr th:only-of-type {\n",
       "        vertical-align: middle;\n",
       "    }\n",
       "\n",
       "    .dataframe tbody tr th {\n",
       "        vertical-align: top;\n",
       "    }\n",
       "\n",
       "    .dataframe thead th {\n",
       "        text-align: right;\n",
       "    }\n",
       "</style>\n",
       "<table border=\"1\" class=\"dataframe\">\n",
       "  <thead>\n",
       "    <tr style=\"text-align: right;\">\n",
       "      <th></th>\n",
       "      <th>Headline</th>\n",
       "      <th>Sentiment</th>\n",
       "      <th>char_count</th>\n",
       "    </tr>\n",
       "  </thead>\n",
       "  <tbody>\n",
       "    <tr>\n",
       "      <th>0</th>\n",
       "      <td>According to Gran , the company has no plans t...</td>\n",
       "      <td>0</td>\n",
       "      <td>127</td>\n",
       "    </tr>\n",
       "    <tr>\n",
       "      <th>1</th>\n",
       "      <td>For the last quarter of 2010 , Componenta 's n...</td>\n",
       "      <td>1</td>\n",
       "      <td>193</td>\n",
       "    </tr>\n",
       "    <tr>\n",
       "      <th>2</th>\n",
       "      <td>In the third quarter of 2010 , net sales incre...</td>\n",
       "      <td>1</td>\n",
       "      <td>125</td>\n",
       "    </tr>\n",
       "    <tr>\n",
       "      <th>3</th>\n",
       "      <td>Operating profit rose to EUR 13.1 mn from EUR ...</td>\n",
       "      <td>1</td>\n",
       "      <td>122</td>\n",
       "    </tr>\n",
       "    <tr>\n",
       "      <th>4</th>\n",
       "      <td>Operating profit totalled EUR 21.1 mn , up fro...</td>\n",
       "      <td>1</td>\n",
       "      <td>103</td>\n",
       "    </tr>\n",
       "  </tbody>\n",
       "</table>\n",
       "</div>"
      ],
      "text/plain": [
       "                                            Headline  Sentiment  char_count\n",
       "0  According to Gran , the company has no plans t...          0         127\n",
       "1  For the last quarter of 2010 , Componenta 's n...          1         193\n",
       "2  In the third quarter of 2010 , net sales incre...          1         125\n",
       "3  Operating profit rose to EUR 13.1 mn from EUR ...          1         122\n",
       "4  Operating profit totalled EUR 21.1 mn , up fro...          1         103"
      ]
     },
     "execution_count": 17,
     "metadata": {},
     "output_type": "execute_result"
    }
   ],
   "source": [
    "# Creating a new column that calculates the number of characters in each headline\n",
    "phrase_bank_df['char_count'] = phrase_bank_df['Headline'].apply(lambda x: len(x))\n",
    "\n",
    "# Sanity check\n",
    "phrase_bank_df.head()"
   ]
  },
  {
   "cell_type": "code",
   "execution_count": 18,
   "metadata": {},
   "outputs": [
    {
     "name": "stdout",
     "output_type": "stream",
     "text": [
      "25\n"
     ]
    }
   ],
   "source": [
    "# Counting the words in a headline using split() and len()\n",
    "word_count = len(phrase_bank_df['Headline'][0].split())\n",
    "print(word_count)"
   ]
  },
  {
   "cell_type": "code",
   "execution_count": 19,
   "metadata": {},
   "outputs": [
    {
     "name": "stderr",
     "output_type": "stream",
     "text": [
      "C:\\Users\\amato\\AppData\\Local\\Temp\\ipykernel_85284\\1647580670.py:2: SettingWithCopyWarning: \n",
      "A value is trying to be set on a copy of a slice from a DataFrame.\n",
      "Try using .loc[row_indexer,col_indexer] = value instead\n",
      "\n",
      "See the caveats in the documentation: https://pandas.pydata.org/pandas-docs/stable/user_guide/indexing.html#returning-a-view-versus-a-copy\n",
      "  phrase_bank_df['word_count'] = phrase_bank_df['Headline'].str.split().apply(len)\n"
     ]
    },
    {
     "data": {
      "text/html": [
       "<div>\n",
       "<style scoped>\n",
       "    .dataframe tbody tr th:only-of-type {\n",
       "        vertical-align: middle;\n",
       "    }\n",
       "\n",
       "    .dataframe tbody tr th {\n",
       "        vertical-align: top;\n",
       "    }\n",
       "\n",
       "    .dataframe thead th {\n",
       "        text-align: right;\n",
       "    }\n",
       "</style>\n",
       "<table border=\"1\" class=\"dataframe\">\n",
       "  <thead>\n",
       "    <tr style=\"text-align: right;\">\n",
       "      <th></th>\n",
       "      <th>Headline</th>\n",
       "      <th>Sentiment</th>\n",
       "      <th>char_count</th>\n",
       "      <th>word_count</th>\n",
       "    </tr>\n",
       "  </thead>\n",
       "  <tbody>\n",
       "    <tr>\n",
       "      <th>0</th>\n",
       "      <td>According to Gran , the company has no plans t...</td>\n",
       "      <td>0</td>\n",
       "      <td>127</td>\n",
       "      <td>25</td>\n",
       "    </tr>\n",
       "    <tr>\n",
       "      <th>1</th>\n",
       "      <td>For the last quarter of 2010 , Componenta 's n...</td>\n",
       "      <td>1</td>\n",
       "      <td>193</td>\n",
       "      <td>39</td>\n",
       "    </tr>\n",
       "    <tr>\n",
       "      <th>2</th>\n",
       "      <td>In the third quarter of 2010 , net sales incre...</td>\n",
       "      <td>1</td>\n",
       "      <td>125</td>\n",
       "      <td>29</td>\n",
       "    </tr>\n",
       "    <tr>\n",
       "      <th>3</th>\n",
       "      <td>Operating profit rose to EUR 13.1 mn from EUR ...</td>\n",
       "      <td>1</td>\n",
       "      <td>122</td>\n",
       "      <td>24</td>\n",
       "    </tr>\n",
       "    <tr>\n",
       "      <th>4</th>\n",
       "      <td>Operating profit totalled EUR 21.1 mn , up fro...</td>\n",
       "      <td>1</td>\n",
       "      <td>103</td>\n",
       "      <td>22</td>\n",
       "    </tr>\n",
       "  </tbody>\n",
       "</table>\n",
       "</div>"
      ],
      "text/plain": [
       "                                            Headline  Sentiment  char_count  \\\n",
       "0  According to Gran , the company has no plans t...          0         127   \n",
       "1  For the last quarter of 2010 , Componenta 's n...          1         193   \n",
       "2  In the third quarter of 2010 , net sales incre...          1         125   \n",
       "3  Operating profit rose to EUR 13.1 mn from EUR ...          1         122   \n",
       "4  Operating profit totalled EUR 21.1 mn , up fro...          1         103   \n",
       "\n",
       "   word_count  \n",
       "0          25  \n",
       "1          39  \n",
       "2          29  \n",
       "3          24  \n",
       "4          22  "
      ]
     },
     "execution_count": 19,
     "metadata": {},
     "output_type": "execute_result"
    }
   ],
   "source": [
    "# Applying to the entire row\n",
    "phrase_bank_df['word_count'] = phrase_bank_df['Headline'].str.split().apply(len)\n",
    "\n",
    "# Sanity check\n",
    "phrase_bank_df.head()"
   ]
  },
  {
   "cell_type": "code",
   "execution_count": 20,
   "metadata": {},
   "outputs": [
    {
     "data": {
      "image/png": "[encoded data removed]",
      "text/plain": [
       "<Figure size 1000x2000 with 6 Axes>"
      ]
     },
     "metadata": {},
     "output_type": "display_data"
    }
   ],
   "source": [
    "# Visualizing the character and word counts in box plots\n",
    "\n",
    "plt.subplots(3, 2, figsize=(10, 20))\n",
    "\n",
    "plt.subplot(3, 2, 1)\n",
    "sns.boxplot(y=phrase_bank_df.loc[phrase_bank_df['Sentiment'] == 1, 'char_count'], color='green')\n",
    "plt.ylabel('Character Count')\n",
    "plt.title('Character Count for Positive News')\n",
    "\n",
    "plt.subplot(3, 2, 2)\n",
    "sns.boxplot(y=phrase_bank_df.loc[phrase_bank_df['Sentiment'] == 1, 'word_count'], color='green')\n",
    "plt.ylabel('Word Count')\n",
    "plt.title('Word Count for Positive News')\n",
    "\n",
    "plt.subplot(3, 2, 3)\n",
    "sns.boxplot(y=phrase_bank_df.loc[phrase_bank_df['Sentiment'] == 0, 'char_count'], color='red')\n",
    "plt.ylabel('Character Count')\n",
    "plt.title('Character Count for Negative News')\n",
    "\n",
    "plt.subplot(3, 2, 4)\n",
    "sns.boxplot(y=phrase_bank_df.loc[phrase_bank_df['Sentiment'] == 0, 'word_count'], color='red')\n",
    "plt.ylabel('Character Count')\n",
    "plt.title('Word Count for Negative News')\n",
    "\n",
    "plt.subplot(3, 2, 5)\n",
    "sns.boxplot(y=phrase_bank_df['char_count'])\n",
    "plt.ylabel('Character Count')\n",
    "plt.title('Character Count for All News')\n",
    "\n",
    "plt.subplot(3, 2, 6)\n",
    "sns.boxplot(y=phrase_bank_df['word_count'])\n",
    "plt.ylabel('Word Count')\n",
    "plt.title('Word Count for All News')\n",
    "\n",
    "plt.show()"
   ]
  },
  {
   "cell_type": "markdown",
   "metadata": {},
   "source": [
    "## 1.3. <a id='toc1_3_'></a>[***Vectorization***](#toc0_)"
   ]
  },
  {
   "cell_type": "markdown",
   "metadata": {},
   "source": [
    "The next part of our data preprocessing is to vectorize our `Headline` column in order to make our data approriate inputs to any model."
   ]
  },
  {
   "cell_type": "markdown",
   "metadata": {},
   "source": [
    "### 1.3.1. <a id='toc1_3_1_'></a>[***Data Standardization***](#toc0_)\n",
    "\n",
    "In this step I am going to transform the headlines all in lowercase and take out punctuations."
   ]
  },
  {
   "cell_type": "code",
   "execution_count": 21,
   "metadata": {},
   "outputs": [
    {
     "data": {
      "text/plain": [
       "'according to gran  the company has no plans to move all production to russia  although that is where the company is growing '"
      ]
     },
     "execution_count": 21,
     "metadata": {},
     "output_type": "execute_result"
    }
   ],
   "source": [
    "sentence = phrase_bank_df['Headline'][0]\n",
    "\n",
    "for punctuation in string.punctuation:\n",
    "    sentence = sentence.replace(punctuation,'')\n",
    "\n",
    "sentence_new = sentence.lower()\n",
    "sentence_new"
   ]
  },
  {
   "cell_type": "markdown",
   "metadata": {},
   "source": [
    "### 1.3.2. <a id='toc1_3_2_'></a>[***Tokenization and Lemmatization***](#toc0_)\n",
    "\n",
    "After taking out the punctuations, I am going to split the headline into a list of words which I then lemmatize.\n",
    "\n",
    "Lemmatization is the process of reducing a word to its root form called 'lemma'. This is the dictionary form of a root (ex: laziness to lazy). This allows us to have more accurate and meaningful root words in comparison to stemming where it can lead to unusual rootwords as it is 'rules-based' rather than vocabulary-based (ex: laziness to lazi). For this reason, I will attempt to lemmatize the dataset. The only draw back of lemmatization is the computational cost but since we are dealing with a rather small dataset, we can afford to lose some efficiency for accuracy."
   ]
  },
  {
   "cell_type": "code",
   "execution_count": 22,
   "metadata": {},
   "outputs": [
    {
     "data": {
      "text/plain": [
       "['according',\n",
       " 'to',\n",
       " 'gran',\n",
       " '',\n",
       " 'the',\n",
       " 'company',\n",
       " 'has',\n",
       " 'no',\n",
       " 'plans',\n",
       " 'to',\n",
       " 'move',\n",
       " 'all',\n",
       " 'production',\n",
       " 'to',\n",
       " 'russia',\n",
       " '',\n",
       " 'although',\n",
       " 'that',\n",
       " 'is',\n",
       " 'where',\n",
       " 'the',\n",
       " 'company',\n",
       " 'is',\n",
       " 'growing',\n",
       " '']"
      ]
     },
     "execution_count": 22,
     "metadata": {},
     "output_type": "execute_result"
    }
   ],
   "source": [
    "# Splitting the headline into a list of words\n",
    "listofwords = sentence_new.split(' ')\n",
    "listofwords"
   ]
  },
  {
   "cell_type": "code",
   "execution_count": 23,
   "metadata": {},
   "outputs": [
    {
     "data": {
      "text/plain": [
       "['according',\n",
       " 'to',\n",
       " 'gran',\n",
       " '',\n",
       " 'the',\n",
       " 'company',\n",
       " 'ha',\n",
       " 'no',\n",
       " 'plan',\n",
       " 'to',\n",
       " 'move',\n",
       " 'all',\n",
       " 'production',\n",
       " 'to',\n",
       " 'russia',\n",
       " '',\n",
       " 'although',\n",
       " 'that',\n",
       " 'is',\n",
       " 'where',\n",
       " 'the',\n",
       " 'company',\n",
       " 'is',\n",
       " 'growing',\n",
       " '']"
      ]
     },
     "execution_count": 23,
     "metadata": {},
     "output_type": "execute_result"
    }
   ],
   "source": [
    "# Lemmatization\n",
    "\n",
    "wnl = WordNetLemmatizer()\n",
    "\n",
    "lemmatized_sentence = [wnl.lemmatize(i) for i in listofwords]\n",
    "lemmatized_sentence"
   ]
  },
  {
   "cell_type": "markdown",
   "metadata": {},
   "source": [
    "### 1.3.3. <a id='toc1_3_3_'></a>[***Stop-word and empty string removal***](#toc0_)\n",
    "\n",
    "The next step is to remove any stop-words (words without significant meaning such as 'the' and 'like') and any leftover whitespaces."
   ]
  },
  {
   "cell_type": "code",
   "execution_count": 24,
   "metadata": {},
   "outputs": [
    {
     "data": {
      "text/plain": [
       "['according',\n",
       " 'gran',\n",
       " 'company',\n",
       " 'ha',\n",
       " 'plan',\n",
       " 'move',\n",
       " 'production',\n",
       " 'russia',\n",
       " 'although',\n",
       " 'company',\n",
       " 'growing']"
      ]
     },
     "execution_count": 24,
     "metadata": {},
     "output_type": "execute_result"
    }
   ],
   "source": [
    "# Removing stop-words and empty strings\n",
    "\n",
    "stop_words = stopwords.words('english')\n",
    "\n",
    "words_clean = [word for word in lemmatized_sentence if word not in stop_words and (word != '')]\n",
    "words_clean"
   ]
  },
  {
   "cell_type": "markdown",
   "metadata": {},
   "source": [
    "As expected, we now have processed the headline appropriately. However noticed that there are words like 'ha' in our tokenized headline that is meaningless. I will words that have one or two elements that have little to no meaning."
   ]
  },
  {
   "cell_type": "code",
   "execution_count": 25,
   "metadata": {},
   "outputs": [
    {
     "data": {
      "text/plain": [
       "['according',\n",
       " 'gran',\n",
       " 'company',\n",
       " 'plan',\n",
       " 'move',\n",
       " 'production',\n",
       " 'russia',\n",
       " 'although',\n",
       " 'company',\n",
       " 'growing']"
      ]
     },
     "execution_count": 25,
     "metadata": {},
     "output_type": "execute_result"
    }
   ],
   "source": [
    "# Removing any other words with 1 or 2 letters that are insignificant\n",
    "words_final = [word for word in words_clean if (len(word) != 1) and (len(word) != 2)]\n",
    "words_final"
   ]
  },
  {
   "cell_type": "markdown",
   "metadata": {},
   "source": [
    "### 1.3.4. <a id='toc1_3_4_'></a>[***Tokenizer function***](#toc0_)\n",
    "\n",
    "Now that all the steps for text processing have been outline. We are now going to put everything in a function in order to create our own tokenizer:"
   ]
  },
  {
   "cell_type": "code",
   "execution_count": 26,
   "metadata": {},
   "outputs": [],
   "source": [
    "wnl = WordNetLemmatizer()\n",
    "stop_words = stopwords.words('english')\n",
    "\n",
    "def my_tokenizer(sentence: str) -> list[str]:\n",
    "    \"\"\"\n",
    "    Tokenizes a sentence into a list of lemmatized words, removing punctuation, stop words, and insignificant short words.\n",
    "\n",
    "    Input:\n",
    "        sentence (str): The input sentence to be tokenized.\n",
    "\n",
    "    Output:\n",
    "        list: A list of lemmatized tokens from the input sentence.\n",
    "    \"\"\"\n",
    "    # transform string into lower case and take out punctuations\n",
    "    for punctuation in string.punctuation:\n",
    "        sentence = sentence.replace(punctuation, '').lower()\n",
    "\n",
    "    # tokenization\n",
    "    listofwords = sentence.split(' ')\n",
    "    lemmatized_words = []\n",
    "\n",
    "    # removal of stop-words\n",
    "    for word in listofwords:\n",
    "        if word not in stop_words and (word != ''):\n",
    "            # lemmatizing\n",
    "            lemma = wnl.lemmatize(word)\n",
    "            lemmatized_words.append(lemma)\n",
    "            \n",
    "    # Removing any other words with 1 or 2 letters that are insignificant        \n",
    "    tokenized_list = [word for word in lemmatized_words if (len(word) != 1) and (len(word) != 2)]\n",
    "\n",
    "    return tokenized_list\n"
   ]
  },
  {
   "cell_type": "markdown",
   "metadata": {},
   "source": [
    "### 1.3.5. <a id='toc1_3_5_'></a>[***Bag of Words***](#toc0_)\n",
    "\n",
    "Now that I have created my own tokenizer, I am going to tokenize the dataset. Here we will be using Bag of words with a min_df=5.\n"
   ]
  },
  {
   "cell_type": "code",
   "execution_count": 27,
   "metadata": {},
   "outputs": [
    {
     "name": "stdout",
     "output_type": "stream",
     "text": [
      "0       According to Gran , the company has no plans t...\n",
      "1       For the last quarter of 2010 , Componenta 's n...\n",
      "2       In the third quarter of 2010 , net sales incre...\n",
      "3       Operating profit rose to EUR 13.1 mn from EUR ...\n",
      "4       Operating profit totalled EUR 21.1 mn , up fro...\n",
      "                              ...                        \n",
      "4835    Bosse added that Trygvesta does not have the f...\n",
      "4836    Finnish-Swedish Stora Enso does not understand...\n",
      "4837    The 2015 target for net sales has been set at ...\n",
      "4838    have notified that as a result of the Company ...\n",
      "4839    Net sales of the Paper segment decreased to EU...\n",
      "Name: Headline, Length: 4840, dtype: object \n",
      "\n",
      "0       0\n",
      "1       1\n",
      "2       1\n",
      "3       1\n",
      "4       1\n",
      "       ..\n",
      "4835    0\n",
      "4836    0\n",
      "4837    1\n",
      "4838    0\n",
      "4839    0\n",
      "Name: Sentiment, Length: 4840, dtype: int32\n"
     ]
    }
   ],
   "source": [
    "# Split the data into Features and Target\n",
    "\n",
    "X = phrase_bank_df['Headline']\n",
    "y = phrase_bank_df['Sentiment']\n",
    "\n",
    "# Sanity Check\n",
    "print(X, '\\n')\n",
    "print(y)"
   ]
  },
  {
   "cell_type": "code",
   "execution_count": 28,
   "metadata": {},
   "outputs": [],
   "source": [
    "# Split the data into Train/Test Split. I will use a test split of 20%\n",
    "\n",
    "X_train, X_test, y_train, y_test = train_test_split(X, y, test_size=0.2, random_state=17)"
   ]
  },
  {
   "cell_type": "code",
   "execution_count": 29,
   "metadata": {},
   "outputs": [
    {
     "name": "stderr",
     "output_type": "stream",
     "text": [
      "c:\\Users\\amato\\anaconda3\\envs\\capstone\\lib\\site-packages\\sklearn\\feature_extraction\\text.py:521: UserWarning: The parameter 'token_pattern' will not be used since 'tokenizer' is not None'\n",
      "  warnings.warn(\n"
     ]
    },
    {
     "data": {
      "text/plain": [
       "(3872, 1628)"
      ]
     },
     "execution_count": 29,
     "metadata": {},
     "output_type": "execute_result"
    }
   ],
   "source": [
    "# Vectorize\n",
    "\n",
    "bagofwords = CountVectorizer(min_df=5, \n",
    "                             tokenizer=my_tokenizer)\n",
    "bagofwords.fit(X_train)\n",
    "\n",
    "X_train_transformed = bagofwords.transform(X_train)\n",
    "X_test_transformed = bagofwords.transform(X_test)\n",
    "\n",
    "X_train_transformed.shape"
   ]
  },
  {
   "cell_type": "markdown",
   "metadata": {},
   "source": [
    "Using the `CountVectorizer()` we can see that it has created 1,628 tokens. These tokens can be thought of as features of our data in which we will use to determine sentiment."
   ]
  },
  {
   "cell_type": "code",
   "execution_count": 30,
   "metadata": {},
   "outputs": [
    {
     "name": "stdout",
     "output_type": "stream",
     "text": [
      "  (0, 270)\t1\n",
      "  (0, 424)\t1\n",
      "  (0, 644)\t1\n",
      "  (0, 1064)\t2\n",
      "  (0, 1122)\t1\n",
      "  (0, 1242)\t1\n",
      "  (0, 1273)\t1\n",
      "  (0, 1620)\t1\n",
      "  (1, 609)\t1\n",
      "  (1, 695)\t1\n",
      "  (1, 1316)\t1\n",
      "  (2, 26)\t1\n",
      "  (2, 77)\t1\n",
      "  (2, 108)\t1\n",
      "  (2, 127)\t1\n",
      "  (2, 325)\t3\n",
      "  (2, 502)\t1\n",
      "  (2, 613)\t1\n",
      "  (2, 623)\t1\n",
      "  (2, 641)\t1\n",
      "  (2, 912)\t1\n",
      "  (2, 938)\t3\n",
      "  (2, 948)\t1\n",
      "  (2, 1021)\t1\n",
      "  (2, 1168)\t1\n",
      "  :\t:\n",
      "  (3867, 1108)\t1\n",
      "  (3867, 1144)\t1\n",
      "  (3868, 839)\t1\n",
      "  (3869, 29)\t1\n",
      "  (3869, 512)\t1\n",
      "  (3869, 647)\t1\n",
      "  (3869, 1071)\t1\n",
      "  (3869, 1295)\t1\n",
      "  (3870, 28)\t1\n",
      "  (3870, 29)\t1\n",
      "  (3870, 365)\t1\n",
      "  (3870, 483)\t2\n",
      "  (3870, 783)\t1\n",
      "  (3870, 1273)\t1\n",
      "  (3871, 76)\t1\n",
      "  (3871, 123)\t1\n",
      "  (3871, 270)\t1\n",
      "  (3871, 272)\t1\n",
      "  (3871, 483)\t2\n",
      "  (3871, 923)\t2\n",
      "  (3871, 965)\t1\n",
      "  (3871, 1023)\t1\n",
      "  (3871, 1072)\t1\n",
      "  (3871, 1616)\t1\n",
      "  (3871, 1620)\t1\n"
     ]
    }
   ],
   "source": [
    "print(X_train_transformed)"
   ]
  },
  {
   "cell_type": "markdown",
   "metadata": {},
   "source": [
    "By default, vectorizing our dataframe turns it into a ***Sparse Matrix*** which only stores non-zero elements and their positions. This is more memory efficient as it most of the dataframe are zeros. \n",
    "\n",
    "From our sparse matrix we can visualize the most frequently occuring words in our corpus."
   ]
  },
  {
   "cell_type": "code",
   "execution_count": 31,
   "metadata": {},
   "outputs": [
    {
     "data": {
      "image/png": "[encoded data removed]",
      "text/plain": [
       "<Figure size 1500x500 with 1 Axes>"
      ]
     },
     "metadata": {},
     "output_type": "display_data"
    }
   ],
   "source": [
    "word_counts = pd.DataFrame(\n",
    "    {\"counts\": X_train_transformed.toarray().sum(axis=0)},\n",
    "    index=bagofwords.get_feature_names_out()\n",
    ").sort_values(\"counts\", ascending=False)\n",
    "\n",
    "word_counts.head(20).plot(kind=\"bar\", figsize=(15, 5), legend=False)\n",
    "plt.title(\"Top 20 most frequently occurring words\")\n",
    "plt.ylabel(\"Count\")\n",
    "plt.xticks(rotation=45)\n",
    "plt.show()"
   ]
  },
  {
   "cell_type": "markdown",
   "metadata": {},
   "source": [
    "It looks like `eur` and `company` are the most frequent words in our corpus."
   ]
  },
  {
   "cell_type": "markdown",
   "metadata": {},
   "source": [
    "### 1.3.6. <a id='toc1_3_6_'></a>[***TF-IDF***](#toc0_)\n",
    "\n",
    "`TF-IDF` is different way of vectorizing than in `Bag-of-Words` as it gives emphasis on the frequency of the word within each document and also how rare the word is in the entire corpus.\n",
    "\n",
    "To understand how the `TF-IDF` score is calculated we need to breakdown its components:\n",
    "\n",
    "1. **Term Frequency (TF)** - which is the number of times a given token appears in a document (headline in our case). This is the same as the content of our `bag-of-words` document-term matrix.\n",
    "2. **Inverse Document Frequency (IDF)** - Inverse of the number of documents (headlines) a given word appears in. This is the `rarity` component.\n",
    "\n",
    "\n",
    "Assuming we have a collection of tokens $[t_1, t_2, t_3, ..., t_n]$, and a collection of documents $D = [d_1, d_2, d_3, ... d_m]$ the overall formula for a `TF-IDF` score is:\n",
    "\n",
    "$$TF(t_i, d_j) \\times IDF(t_i, D)$$\n",
    "\n",
    "Where:\n",
    "* $TF(t_i, d_j)$ is the term frequency of term $i$ in document $j$.\n",
    "* $IDF(t_i, D)$ is the inverse document frequency of term $i$ in all documents (rarity of the token across the entire corpus). In the simplest case it is:\n",
    "\n",
    "\n",
    "$$\\frac{{\\text{The total number of documents in the corpus}}}{{\\text{Number of documents containing token $t_i$ in the corpus}}+1} = \\frac{len(D)}{len(\\{\\text{all $d_k$ such that $t_i \\in d_k$} \\})+1}$$"
   ]
  },
  {
   "cell_type": "code",
   "execution_count": 32,
   "metadata": {},
   "outputs": [
    {
     "name": "stderr",
     "output_type": "stream",
     "text": [
      "c:\\Users\\amato\\anaconda3\\envs\\capstone\\lib\\site-packages\\sklearn\\feature_extraction\\text.py:521: UserWarning: The parameter 'token_pattern' will not be used since 'tokenizer' is not None'\n",
      "  warnings.warn(\n"
     ]
    }
   ],
   "source": [
    "# using our custom tokenizer in TfidfVectorizer\n",
    "tfidf = TfidfVectorizer(min_df=5,\n",
    "                        tokenizer=my_tokenizer)\n",
    "tfidf.fit(X_train)\n",
    "\n",
    "X_train_transformed = tfidf.transform(X_train)\n",
    "X_test_transformed = tfidf.transform(X_test)"
   ]
  },
  {
   "cell_type": "code",
   "execution_count": 33,
   "metadata": {},
   "outputs": [
    {
     "data": {
      "image/png": "[encoded data removed]",
      "text/plain": [
       "<Figure size 1500x500 with 1 Axes>"
      ]
     },
     "metadata": {},
     "output_type": "display_data"
    }
   ],
   "source": [
    "word_counts = pd.DataFrame(\n",
    "    {\"counts\": X_train_transformed.toarray().sum(axis=0)},\n",
    "    index=tfidf.get_feature_names_out()\n",
    ").sort_values(\"counts\", ascending=False)\n",
    "\n",
    "word_counts.head(20).plot(kind=\"bar\", figsize=(15, 5), legend=False)\n",
    "plt.title(\"Top 20 highest weighted words by TF-IDF\")\n",
    "plt.ylabel(\"Total TF-IDF weight\")\n",
    "plt.xticks(rotation=45)\n",
    "plt.show()"
   ]
  },
  {
   "cell_type": "markdown",
   "metadata": {},
   "source": [
    "It looks like we are getting the similar results as `Bag-of-Words`. There are some words like million which are emphasized more using `TF-IDF` and words that weigh less like 'finnish' which are emphasized more in `Bag-of-Words`. This graph however looks at the weights associated with each lemma instead of frequency so the differences are to be expected"
   ]
  },
  {
   "cell_type": "markdown",
   "metadata": {},
   "source": [
    "### 1.3.7. <a id='toc1_3_7_'></a>[***Word Embeddings (Word2Vec)***](#toc0_)"
   ]
  },
  {
   "cell_type": "markdown",
   "metadata": {},
   "source": [
    "Now we will be looking at Word Embeddings using Word2Vec. \n",
    "\n",
    "Word embeddings represent words as dense vectors in a continuous vector space where semantically similar words are close to each other. These vectors capture semantic relationships between words.\n",
    "\n",
    "We will be using `Word2Vec` from the `gensim` library to achieve this. In essence, Word2Vec is an algorithm based on neural networks which learns relationships between words measured by its `Cosine Distance` this is known as `Word Similarity`.\n",
    "\n",
    " Here is a visual of what the vector space looks like:<br>\n",
    "\n",
    "<img src=\"assets/vector_space.png\" alt=\"image\">\n",
    "\n",
    "We can see that the word `good` is closer to `okay` in the vector space compared to its distance to `turtle` indicating that `good` and `okay` have a close relationship to each other.\n",
    "\n",
    "We won't train word embedding models in this notebook but we will load pretrained models. We will be using a model pretrained using Googles News Dataset which contains about 100 billion words. You can read more about this model [here](#https://code.google.com/archive/p/word2vec/).\n",
    "\n",
    "You can also check out the different models available in gensim using the following code:"
   ]
  },
  {
   "cell_type": "code",
   "execution_count": 34,
   "metadata": {},
   "outputs": [
    {
     "name": "stdout",
     "output_type": "stream",
     "text": [
      "['fasttext-wiki-news-subwords-300', 'conceptnet-numberbatch-17-06-300', 'word2vec-ruscorpora-300', 'word2vec-google-news-300', 'glove-wiki-gigaword-50', 'glove-wiki-gigaword-100', 'glove-wiki-gigaword-200', 'glove-wiki-gigaword-300', 'glove-twitter-25', 'glove-twitter-50', 'glove-twitter-100', 'glove-twitter-200', '__testing_word2vec-matrix-synopsis']\n"
     ]
    }
   ],
   "source": [
    "# Showing all available models in gensim\n",
    "import gensim.downloader\n",
    "\n",
    "print(list(gensim.downloader.info()['models'].keys()))"
   ]
  },
  {
   "cell_type": "markdown",
   "metadata": {},
   "source": [
    "We will be using `'word2vec-google-news-300'`. The model is around 2GB so it may take a few minutes depending on your connection."
   ]
  },
  {
   "cell_type": "code",
   "execution_count": 35,
   "metadata": {},
   "outputs": [],
   "source": [
    "# Loading the model\n",
    "model = gensim.downloader.load('word2vec-google-news-300')"
   ]
  },
  {
   "cell_type": "code",
   "execution_count": 36,
   "metadata": {},
   "outputs": [
    {
     "data": {
      "text/plain": [
       "(3000000, 300)"
      ]
     },
     "execution_count": 36,
     "metadata": {},
     "output_type": "execute_result"
    }
   ],
   "source": [
    "# Checking the shape of the entire model\n",
    "model.vectors.shape"
   ]
  },
  {
   "cell_type": "markdown",
   "metadata": {},
   "source": [
    "From the shape of the model, we can see that the model stores 3,000,000 words or tokens in its vocabulary. 300 is the dimensionality of each word vector (you can think of them as coordinates of a word vector). This captures the semantic meaning of words and allows us to determine 'similarity'.\n",
    "\n",
    "Below is an example of a word vector:"
   ]
  },
  {
   "cell_type": "code",
   "execution_count": 37,
   "metadata": {},
   "outputs": [
    {
     "data": {
      "text/plain": [
       "(300,)"
      ]
     },
     "execution_count": 37,
     "metadata": {},
     "output_type": "execute_result"
    }
   ],
   "source": [
    "# Extracting the word vector \"money\"\n",
    "money_vector = model['money']\n",
    "money_vector.shape"
   ]
  },
  {
   "cell_type": "code",
   "execution_count": 38,
   "metadata": {},
   "outputs": [
    {
     "data": {
      "image/png": "[encoded data removed]",
      "text/plain": [
       "<Figure size 2000x500 with 1 Axes>"
      ]
     },
     "metadata": {},
     "output_type": "display_data"
    }
   ],
   "source": [
    "# Visualizing the word vector into heat map where greater values appear brighter\n",
    "plt.figure(figsize=(20, 5))\n",
    "# tiling the vector vertically to create a thicker heatmap\n",
    "plt.imshow(np.tile(money_vector, (10, 1)))\n",
    "plt.xticks([])\n",
    "plt.yticks([])\n",
    "plt.title(f'\\'money\\' embedding vector')\n",
    "plt.show()"
   ]
  },
  {
   "cell_type": "markdown",
   "metadata": {},
   "source": [
    "#### 1.3.7.1. <a id='toc1_3_7_1_'></a>[***Word Similarity***](#toc0_)"
   ]
  },
  {
   "cell_type": "markdown",
   "metadata": {},
   "source": [
    "Word embeddings allow us to measure the 'similarity' between words which are quantified using `Cosine Distance` (also `Cosine Similarity`).\n",
    "\n",
    "Using the `distance` method of our model, we can calculate the `Cosine Distance` between words. Recall that `Cosine Distance` is the cosine of the angle between two vectors (in our case word vectors) which is a value between 0 and 1. Higher distances mean greater dissimilar words."
   ]
  },
  {
   "cell_type": "code",
   "execution_count": 39,
   "metadata": {},
   "outputs": [
    {
     "data": {
      "text/plain": [
       "0.47378790378570557"
      ]
     },
     "execution_count": 39,
     "metadata": {},
     "output_type": "execute_result"
    }
   ],
   "source": [
    "# Calculating distance between \"okay\" and \"good\"\n",
    "model.distance('okay', 'good')"
   ]
  },
  {
   "cell_type": "code",
   "execution_count": 40,
   "metadata": {},
   "outputs": [
    {
     "data": {
      "text/plain": [
       "0.8934817984700203"
      ]
     },
     "execution_count": 40,
     "metadata": {},
     "output_type": "execute_result"
    }
   ],
   "source": [
    "# Calculating distance between \"okay\" and \"turtle\"\n",
    "model.distance(\"okay\", \"turtle\")"
   ]
  },
  {
   "cell_type": "markdown",
   "metadata": {},
   "source": [
    "We can see that the words `okay` and `good` are more similar than the words `okay` and `turtle`."
   ]
  },
  {
   "cell_type": "markdown",
   "metadata": {},
   "source": [
    "#### 1.3.7.2. <a id='toc1_3_7_2_'></a>[***Embedding the Dataset***](#toc0_)"
   ]
  },
  {
   "cell_type": "markdown",
   "metadata": {},
   "source": [
    "We can now embed the entire dataframe of labeled financial headlines using the Word2Vec model that we have implemented. Below is a function that embeds the headlines by doing the following:\n",
    "\n",
    "1. Tokenizing the headline using the `my_tokenizer()` function that we created.\n",
    "2. Using the Word2Vec model to find the individual word embeddings. (If the token is not in the model, then we would skip it).\n",
    "3. Averaging the Word2Vec embeddings of the words in the headline."
   ]
  },
  {
   "cell_type": "code",
   "execution_count": 41,
   "metadata": {},
   "outputs": [],
   "source": [
    "def headline2vec(text: str) -> np.ndarray:\n",
    "    \"\"\"\n",
    "    Converts a headline into a 300-dimensional embedding vector by averaging the Word2Vec embeddings of the words.\n",
    "\n",
    "    Input:\n",
    "        text (str): The input headline to be converted into an embedding vector.\n",
    "\n",
    "    Output:\n",
    "        numpy.ndarray: A 300-dimensional vector representing the headline.\n",
    "    \"\"\"\n",
    "    tokenized = my_tokenizer(text)\n",
    "\n",
    "    word_embeddings = [np.zeros(300)]\n",
    "    for word in tokenized:\n",
    "        # if the word is in the model then embed\n",
    "        if word in model:\n",
    "            vector = model[word]\n",
    "        # add zeros for out-of-vocab words\n",
    "        else:\n",
    "            vector = np.zeros(300)\n",
    "\n",
    "        word_embeddings.append(vector)\n",
    "\n",
    "    # average the word vectors\n",
    "    headline_embedding = np.stack(word_embeddings).mean(axis=0)\n",
    "\n",
    "    return headline_embedding"
   ]
  },
  {
   "cell_type": "markdown",
   "metadata": {},
   "source": [
    "Recall the `phrase_bank_df` dataframe:"
   ]
  },
  {
   "cell_type": "code",
   "execution_count": 54,
   "metadata": {},
   "outputs": [
    {
     "data": {
      "text/html": [
       "<div>\n",
       "<style scoped>\n",
       "    .dataframe tbody tr th:only-of-type {\n",
       "        vertical-align: middle;\n",
       "    }\n",
       "\n",
       "    .dataframe tbody tr th {\n",
       "        vertical-align: top;\n",
       "    }\n",
       "\n",
       "    .dataframe thead th {\n",
       "        text-align: right;\n",
       "    }\n",
       "</style>\n",
       "<table border=\"1\" class=\"dataframe\">\n",
       "  <thead>\n",
       "    <tr style=\"text-align: right;\">\n",
       "      <th></th>\n",
       "      <th>Headline</th>\n",
       "      <th>Sentiment</th>\n",
       "    </tr>\n",
       "  </thead>\n",
       "  <tbody>\n",
       "    <tr>\n",
       "      <th>0</th>\n",
       "      <td>According to Gran , the company has no plans t...</td>\n",
       "      <td>neutral</td>\n",
       "    </tr>\n",
       "    <tr>\n",
       "      <th>1</th>\n",
       "      <td>For the last quarter of 2010 , Componenta 's n...</td>\n",
       "      <td>positive</td>\n",
       "    </tr>\n",
       "    <tr>\n",
       "      <th>2</th>\n",
       "      <td>In the third quarter of 2010 , net sales incre...</td>\n",
       "      <td>positive</td>\n",
       "    </tr>\n",
       "    <tr>\n",
       "      <th>3</th>\n",
       "      <td>Operating profit rose to EUR 13.1 mn from EUR ...</td>\n",
       "      <td>positive</td>\n",
       "    </tr>\n",
       "    <tr>\n",
       "      <th>4</th>\n",
       "      <td>Operating profit totalled EUR 21.1 mn , up fro...</td>\n",
       "      <td>positive</td>\n",
       "    </tr>\n",
       "  </tbody>\n",
       "</table>\n",
       "</div>"
      ],
      "text/plain": [
       "                                            Headline Sentiment\n",
       "0  According to Gran , the company has no plans t...   neutral\n",
       "1  For the last quarter of 2010 , Componenta 's n...  positive\n",
       "2  In the third quarter of 2010 , net sales incre...  positive\n",
       "3  Operating profit rose to EUR 13.1 mn from EUR ...  positive\n",
       "4  Operating profit totalled EUR 21.1 mn , up fro...  positive"
      ]
     },
     "execution_count": 54,
     "metadata": {},
     "output_type": "execute_result"
    }
   ],
   "source": [
    "# Loading the phrase bank dataframe that we created before\n",
    "phrase_bank_df = pd.read_csv('../data/df_clean.csv')\n",
    "phrase_bank_df.head()"
   ]
  },
  {
   "cell_type": "markdown",
   "metadata": {},
   "source": [
    "We will compare headline embeddings of a positive sentiment headline and a negative sentiment headline to see if there are great distances between them.\n",
    "\n",
    "From the dataframe above, we will take a random positive and a negative headline."
   ]
  },
  {
   "cell_type": "code",
   "execution_count": 107,
   "metadata": {},
   "outputs": [
    {
     "data": {
      "text/html": [
       "<div>\n",
       "<style scoped>\n",
       "    .dataframe tbody tr th:only-of-type {\n",
       "        vertical-align: middle;\n",
       "    }\n",
       "\n",
       "    .dataframe tbody tr th {\n",
       "        vertical-align: top;\n",
       "    }\n",
       "\n",
       "    .dataframe thead th {\n",
       "        text-align: right;\n",
       "    }\n",
       "</style>\n",
       "<table border=\"1\" class=\"dataframe\">\n",
       "  <thead>\n",
       "    <tr style=\"text-align: right;\">\n",
       "      <th></th>\n",
       "      <th>Headline</th>\n",
       "      <th>Sentiment</th>\n",
       "    </tr>\n",
       "  </thead>\n",
       "  <tbody>\n",
       "    <tr>\n",
       "      <th>296</th>\n",
       "      <td>Kalnapilio-Tauro Grupe ( Kalnapilis-Tauras Gro...</td>\n",
       "      <td>positive</td>\n",
       "    </tr>\n",
       "  </tbody>\n",
       "</table>\n",
       "</div>"
      ],
      "text/plain": [
       "                                              Headline Sentiment\n",
       "296  Kalnapilio-Tauro Grupe ( Kalnapilis-Tauras Gro...  positive"
      ]
     },
     "execution_count": 107,
     "metadata": {},
     "output_type": "execute_result"
    }
   ],
   "source": [
    "# Locating a random positive headline. Random state is for reproducibility\n",
    "phrase_bank_df.loc[phrase_bank_df['Sentiment'] == 'positive'].sample(1, random_state=2)"
   ]
  },
  {
   "cell_type": "markdown",
   "metadata": {},
   "source": [
    "We will embed the random positive headline at index 3765."
   ]
  },
  {
   "cell_type": "code",
   "execution_count": 110,
   "metadata": {},
   "outputs": [],
   "source": [
    "# Embedding the positive headline\n",
    "pos_emb1 = headline2vec(phrase_bank_df['Headline'][296])"
   ]
  },
  {
   "cell_type": "markdown",
   "metadata": {},
   "source": [
    "Now we will look for a negative headline."
   ]
  },
  {
   "cell_type": "code",
   "execution_count": 111,
   "metadata": {},
   "outputs": [
    {
     "data": {
      "text/html": [
       "<div>\n",
       "<style scoped>\n",
       "    .dataframe tbody tr th:only-of-type {\n",
       "        vertical-align: middle;\n",
       "    }\n",
       "\n",
       "    .dataframe tbody tr th {\n",
       "        vertical-align: top;\n",
       "    }\n",
       "\n",
       "    .dataframe thead th {\n",
       "        text-align: right;\n",
       "    }\n",
       "</style>\n",
       "<table border=\"1\" class=\"dataframe\">\n",
       "  <thead>\n",
       "    <tr style=\"text-align: right;\">\n",
       "      <th></th>\n",
       "      <th>Headline</th>\n",
       "      <th>Sentiment</th>\n",
       "    </tr>\n",
       "  </thead>\n",
       "  <tbody>\n",
       "    <tr>\n",
       "      <th>2248</th>\n",
       "      <td>Repeats sees 2008 operating profit down y-y ( ...</td>\n",
       "      <td>negative</td>\n",
       "    </tr>\n",
       "  </tbody>\n",
       "</table>\n",
       "</div>"
      ],
      "text/plain": [
       "                                               Headline Sentiment\n",
       "2248  Repeats sees 2008 operating profit down y-y ( ...  negative"
      ]
     },
     "execution_count": 111,
     "metadata": {},
     "output_type": "execute_result"
    }
   ],
   "source": [
    "# Locating a random negative headline\n",
    "phrase_bank_df.loc[phrase_bank_df['Sentiment'] == 'negative'].sample(1, random_state=2)"
   ]
  },
  {
   "cell_type": "markdown",
   "metadata": {},
   "source": [
    "We have a negative headline at index 2230."
   ]
  },
  {
   "cell_type": "code",
   "execution_count": 112,
   "metadata": {},
   "outputs": [],
   "source": [
    "# Embedding the negative headline\n",
    "neg_emb = headline2vec(phrase_bank_df['Headline'][2248])"
   ]
  },
  {
   "cell_type": "markdown",
   "metadata": {},
   "source": [
    "Now we will calculate the `Cosine Similarity` using `cosine_distance` from `scipy`."
   ]
  },
  {
   "cell_type": "code",
   "execution_count": 113,
   "metadata": {},
   "outputs": [
    {
     "data": {
      "text/plain": [
       "0.6655263274392924"
      ]
     },
     "execution_count": 113,
     "metadata": {},
     "output_type": "execute_result"
    }
   ],
   "source": [
    "from scipy.spatial.distance import cosine as cosine_distance\n",
    "\n",
    "cosine_distance(pos_emb1, neg_emb)"
   ]
  },
  {
   "cell_type": "markdown",
   "metadata": {},
   "source": [
    "There is a cosine distance of `0.67` which indicates a degree of ***dissimilarity*** between the headlines.\n",
    "\n",
    "What if we embed another positive headline? We would assume that the cosine distance is shorter than what we have above.\n",
    "\n",
    "Let's see if that's the case."
   ]
  },
  {
   "cell_type": "code",
   "execution_count": 115,
   "metadata": {},
   "outputs": [
    {
     "data": {
      "text/html": [
       "<div>\n",
       "<style scoped>\n",
       "    .dataframe tbody tr th:only-of-type {\n",
       "        vertical-align: middle;\n",
       "    }\n",
       "\n",
       "    .dataframe tbody tr th {\n",
       "        vertical-align: top;\n",
       "    }\n",
       "\n",
       "    .dataframe thead th {\n",
       "        text-align: right;\n",
       "    }\n",
       "</style>\n",
       "<table border=\"1\" class=\"dataframe\">\n",
       "  <thead>\n",
       "    <tr style=\"text-align: right;\">\n",
       "      <th></th>\n",
       "      <th>Headline</th>\n",
       "      <th>Sentiment</th>\n",
       "    </tr>\n",
       "  </thead>\n",
       "  <tbody>\n",
       "    <tr>\n",
       "      <th>203</th>\n",
       "      <td>The operating profit for Grain Trading increas...</td>\n",
       "      <td>positive</td>\n",
       "    </tr>\n",
       "  </tbody>\n",
       "</table>\n",
       "</div>"
      ],
      "text/plain": [
       "                                              Headline Sentiment\n",
       "203  The operating profit for Grain Trading increas...  positive"
      ]
     },
     "execution_count": 115,
     "metadata": {},
     "output_type": "execute_result"
    }
   ],
   "source": [
    "# Locating another positive headline\n",
    "phrase_bank_df.loc[phrase_bank_df['Sentiment'] == 'positive'].sample(1, random_state=17)"
   ]
  },
  {
   "cell_type": "code",
   "execution_count": 116,
   "metadata": {},
   "outputs": [],
   "source": [
    "# Embedding the positive headline\n",
    "pos_emb2 = headline2vec(phrase_bank_df['Headline'][203])"
   ]
  },
  {
   "cell_type": "code",
   "execution_count": 117,
   "metadata": {},
   "outputs": [
    {
     "data": {
      "text/plain": [
       "0.5024655490476522"
      ]
     },
     "execution_count": 117,
     "metadata": {},
     "output_type": "execute_result"
    }
   ],
   "source": [
    "# Calculating the cosine distance between both embedded positive headlines\n",
    "cosine_distance(pos_emb1, pos_emb2)"
   ]
  },
  {
   "cell_type": "markdown",
   "metadata": {},
   "source": [
    "We can see that the positive headlines (`pos_emb1`, `pos_emb2`) were closer in distance at `0.50` than the first positive headline (`pos_emb`) and the negative headline (neg_emb) at `0.67`. This confirms that there are varying degrees of similarities between all our headlines depending on their sentiments.\n",
    "\n",
    "Finally, to embed the entire dataframe, we simply use the following code:"
   ]
  },
  {
   "cell_type": "code",
   "execution_count": 118,
   "metadata": {},
   "outputs": [
    {
     "data": {
      "text/plain": [
       "2303    [-0.008184259588068182, -0.0018393776633522727...\n",
       "3636    [-0.01640625, -0.021923828125, 0.085400390625,...\n",
       "4053    [-0.006858543113425926, -0.010693020290798612,...\n",
       "1682    [-0.0294921875, 0.07607421875, 0.083203125, 0....\n",
       "3691    [-0.007699446244673295, -0.010141546075994318,...\n",
       "Name: Headline, dtype: object"
      ]
     },
     "execution_count": 118,
     "metadata": {},
     "output_type": "execute_result"
    }
   ],
   "source": [
    "# Embedding the entire dataframe\n",
    "X_train_emb = X_train.apply(headline2vec)\n",
    "X_train_emb.head()"
   ]
  },
  {
   "cell_type": "markdown",
   "metadata": {},
   "source": [
    "## 1.4. <a id='toc1_4_'></a>[***Next Steps***](#toc0_)\n",
    "\n",
    "Now that our data is in numerical form through vectorization, the next steps are to run the appropriate models of classification. In the next notebook, we will go over the following base models: Logistic Regression, KNN and Decision Tree. We will ultimately compare the performance over all the models. \n",
    "\n",
    "Another aspect to go over are other vectorization techniques to process our text data. So far we have only gone over the following: Bag-of-Words, TF-IDF, and Word Embeddings (Word2Vec). There are few that I would like to explore in the following notebooks such as transformer models like `FinBERT`.\n",
    "\n",
    "---"
   ]
  }
 ],
 "metadata": {
  "kernelspec": {
   "display_name": "Python 3 (ipykernel)",
   "language": "python",
   "name": "python3"
  },
  "language_info": {
   "codemirror_mode": {
    "name": "ipython",
    "version": 3
   },
   "file_extension": ".py",
   "mimetype": "text/x-python",
   "name": "python",
   "nbconvert_exporter": "python",
   "pygments_lexer": "ipython3",
   "version": "3.9.19"
  }
 },
 "nbformat": 4,
 "nbformat_minor": 4
}
