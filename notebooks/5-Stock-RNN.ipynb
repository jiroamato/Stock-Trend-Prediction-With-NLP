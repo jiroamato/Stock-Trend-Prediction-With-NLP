{
 "cells": [
  {
   "cell_type": "code",
   "execution_count": 1,
   "metadata": {},
   "outputs": [],
   "source": [
    "# Imports\n",
    "\n",
    "import pandas as pd\n",
    "import numpy as np\n",
    "import matplotlib.pyplot as plt\n",
    "\n",
    "# NN libraries\n",
    "import torch\n",
    "import torch.nn as nn"
   ]
  },
  {
   "cell_type": "code",
   "execution_count": 2,
   "metadata": {},
   "outputs": [
    {
     "data": {
      "text/html": [
       "<div>\n",
       "<style scoped>\n",
       "    .dataframe tbody tr th:only-of-type {\n",
       "        vertical-align: middle;\n",
       "    }\n",
       "\n",
       "    .dataframe tbody tr th {\n",
       "        vertical-align: top;\n",
       "    }\n",
       "\n",
       "    .dataframe thead th {\n",
       "        text-align: right;\n",
       "    }\n",
       "</style>\n",
       "<table border=\"1\" class=\"dataframe\">\n",
       "  <thead>\n",
       "    <tr style=\"text-align: right;\">\n",
       "      <th></th>\n",
       "      <th>Date</th>\n",
       "      <th>Open</th>\n",
       "      <th>High</th>\n",
       "      <th>Low</th>\n",
       "      <th>Close</th>\n",
       "      <th>Adj Close</th>\n",
       "      <th>Volume</th>\n",
       "    </tr>\n",
       "  </thead>\n",
       "  <tbody>\n",
       "    <tr>\n",
       "      <th>0</th>\n",
       "      <td>2000-05-01</td>\n",
       "      <td>1452.430054</td>\n",
       "      <td>1481.510010</td>\n",
       "      <td>1452.430054</td>\n",
       "      <td>1468.250000</td>\n",
       "      <td>1468.250000</td>\n",
       "      <td>966300000</td>\n",
       "    </tr>\n",
       "    <tr>\n",
       "      <th>1</th>\n",
       "      <td>2000-05-02</td>\n",
       "      <td>1468.250000</td>\n",
       "      <td>1468.250000</td>\n",
       "      <td>1445.219971</td>\n",
       "      <td>1446.290039</td>\n",
       "      <td>1446.290039</td>\n",
       "      <td>1011500000</td>\n",
       "    </tr>\n",
       "    <tr>\n",
       "      <th>2</th>\n",
       "      <td>2000-05-03</td>\n",
       "      <td>1446.290039</td>\n",
       "      <td>1446.290039</td>\n",
       "      <td>1398.359985</td>\n",
       "      <td>1415.099976</td>\n",
       "      <td>1415.099976</td>\n",
       "      <td>991600000</td>\n",
       "    </tr>\n",
       "    <tr>\n",
       "      <th>3</th>\n",
       "      <td>2000-05-04</td>\n",
       "      <td>1415.099976</td>\n",
       "      <td>1420.989990</td>\n",
       "      <td>1404.939941</td>\n",
       "      <td>1409.569946</td>\n",
       "      <td>1409.569946</td>\n",
       "      <td>925800000</td>\n",
       "    </tr>\n",
       "    <tr>\n",
       "      <th>4</th>\n",
       "      <td>2000-05-05</td>\n",
       "      <td>1409.569946</td>\n",
       "      <td>1436.030029</td>\n",
       "      <td>1405.079956</td>\n",
       "      <td>1432.630005</td>\n",
       "      <td>1432.630005</td>\n",
       "      <td>805500000</td>\n",
       "    </tr>\n",
       "  </tbody>\n",
       "</table>\n",
       "</div>"
      ],
      "text/plain": [
       "         Date         Open         High          Low        Close  \\\n",
       "0  2000-05-01  1452.430054  1481.510010  1452.430054  1468.250000   \n",
       "1  2000-05-02  1468.250000  1468.250000  1445.219971  1446.290039   \n",
       "2  2000-05-03  1446.290039  1446.290039  1398.359985  1415.099976   \n",
       "3  2000-05-04  1415.099976  1420.989990  1404.939941  1409.569946   \n",
       "4  2000-05-05  1409.569946  1436.030029  1405.079956  1432.630005   \n",
       "\n",
       "     Adj Close      Volume  \n",
       "0  1468.250000   966300000  \n",
       "1  1446.290039  1011500000  \n",
       "2  1415.099976   991600000  \n",
       "3  1409.569946   925800000  \n",
       "4  1432.630005   805500000  "
      ]
     },
     "execution_count": 2,
     "metadata": {},
     "output_type": "execute_result"
    }
   ],
   "source": [
    "df = pd.read_csv('../data/^SPX.csv')\n",
    "df.head()"
   ]
  },
  {
   "cell_type": "code",
   "execution_count": 6,
   "metadata": {},
   "outputs": [
    {
     "data": {
      "text/html": [
       "<div>\n",
       "<style scoped>\n",
       "    .dataframe tbody tr th:only-of-type {\n",
       "        vertical-align: middle;\n",
       "    }\n",
       "\n",
       "    .dataframe tbody tr th {\n",
       "        vertical-align: top;\n",
       "    }\n",
       "\n",
       "    .dataframe thead th {\n",
       "        text-align: right;\n",
       "    }\n",
       "</style>\n",
       "<table border=\"1\" class=\"dataframe\">\n",
       "  <thead>\n",
       "    <tr style=\"text-align: right;\">\n",
       "      <th></th>\n",
       "      <th>Date</th>\n",
       "      <th>Close</th>\n",
       "    </tr>\n",
       "  </thead>\n",
       "  <tbody>\n",
       "    <tr>\n",
       "      <th>0</th>\n",
       "      <td>2000-05-01</td>\n",
       "      <td>1468.250000</td>\n",
       "    </tr>\n",
       "    <tr>\n",
       "      <th>1</th>\n",
       "      <td>2000-05-02</td>\n",
       "      <td>1446.290039</td>\n",
       "    </tr>\n",
       "    <tr>\n",
       "      <th>2</th>\n",
       "      <td>2000-05-03</td>\n",
       "      <td>1415.099976</td>\n",
       "    </tr>\n",
       "    <tr>\n",
       "      <th>3</th>\n",
       "      <td>2000-05-04</td>\n",
       "      <td>1409.569946</td>\n",
       "    </tr>\n",
       "    <tr>\n",
       "      <th>4</th>\n",
       "      <td>2000-05-05</td>\n",
       "      <td>1432.630005</td>\n",
       "    </tr>\n",
       "    <tr>\n",
       "      <th>...</th>\n",
       "      <td>...</td>\n",
       "      <td>...</td>\n",
       "    </tr>\n",
       "    <tr>\n",
       "      <th>6033</th>\n",
       "      <td>2024-04-24</td>\n",
       "      <td>5071.629883</td>\n",
       "    </tr>\n",
       "    <tr>\n",
       "      <th>6034</th>\n",
       "      <td>2024-04-25</td>\n",
       "      <td>5048.419922</td>\n",
       "    </tr>\n",
       "    <tr>\n",
       "      <th>6035</th>\n",
       "      <td>2024-04-26</td>\n",
       "      <td>5099.959961</td>\n",
       "    </tr>\n",
       "    <tr>\n",
       "      <th>6036</th>\n",
       "      <td>2024-04-29</td>\n",
       "      <td>5116.169922</td>\n",
       "    </tr>\n",
       "    <tr>\n",
       "      <th>6037</th>\n",
       "      <td>2024-04-30</td>\n",
       "      <td>5035.689941</td>\n",
       "    </tr>\n",
       "  </tbody>\n",
       "</table>\n",
       "<p>6038 rows × 2 columns</p>\n",
       "</div>"
      ],
      "text/plain": [
       "            Date        Close\n",
       "0     2000-05-01  1468.250000\n",
       "1     2000-05-02  1446.290039\n",
       "2     2000-05-03  1415.099976\n",
       "3     2000-05-04  1409.569946\n",
       "4     2000-05-05  1432.630005\n",
       "...          ...          ...\n",
       "6033  2024-04-24  5071.629883\n",
       "6034  2024-04-25  5048.419922\n",
       "6035  2024-04-26  5099.959961\n",
       "6036  2024-04-29  5116.169922\n",
       "6037  2024-04-30  5035.689941\n",
       "\n",
       "[6038 rows x 2 columns]"
      ]
     },
     "execution_count": 6,
     "metadata": {},
     "output_type": "execute_result"
    }
   ],
   "source": [
    "# Only using close data\n",
    "df = df[['Date', 'Close']]\n",
    "df"
   ]
  },
  {
   "cell_type": "code",
   "execution_count": 8,
   "metadata": {},
   "outputs": [
    {
     "name": "stdout",
     "output_type": "stream",
     "text": [
      "<class 'pandas.core.frame.DataFrame'>\n",
      "RangeIndex: 6038 entries, 0 to 6037\n",
      "Data columns (total 2 columns):\n",
      " #   Column  Non-Null Count  Dtype  \n",
      "---  ------  --------------  -----  \n",
      " 0   Date    6038 non-null   object \n",
      " 1   Close   6038 non-null   float64\n",
      "dtypes: float64(1), object(1)\n",
      "memory usage: 94.5+ KB\n"
     ]
    }
   ],
   "source": [
    "df.info()"
   ]
  },
  {
   "cell_type": "code",
   "execution_count": 9,
   "metadata": {},
   "outputs": [
    {
     "name": "stdout",
     "output_type": "stream",
     "text": [
      "<class 'pandas.core.frame.DataFrame'>\n",
      "RangeIndex: 6038 entries, 0 to 6037\n",
      "Data columns (total 2 columns):\n",
      " #   Column  Non-Null Count  Dtype         \n",
      "---  ------  --------------  -----         \n",
      " 0   Date    6038 non-null   datetime64[ns]\n",
      " 1   Close   6038 non-null   float64       \n",
      "dtypes: datetime64[ns](1), float64(1)\n",
      "memory usage: 94.5 KB\n"
     ]
    }
   ],
   "source": [
    "# Casting Date as DateTime\n",
    "\n",
    "df['Date'] = pd.to_datetime(df['Date'])\n",
    "df.info()"
   ]
  },
  {
   "cell_type": "code",
   "execution_count": 14,
   "metadata": {},
   "outputs": [
    {
     "data": {
      "image/png": "[encoded data removed]",
      "text/plain": [
       "<Figure size 640x480 with 1 Axes>"
      ]
     },
     "metadata": {},
     "output_type": "display_data"
    }
   ],
   "source": [
    "# Plotting stock data as a refresher\n",
    "\n",
    "plt.figure()\n",
    "plt.plot(df['Date'], df['Close'])\n",
    "plt.title('S&P 500 Price')\n",
    "plt.xlabel('Year')\n",
    "plt.ylabel('Price')\n",
    "plt.show()"
   ]
  },
  {
   "cell_type": "markdown",
   "metadata": {},
   "source": [
    "## Data Preprocessing for RNN"
   ]
  },
  {
   "cell_type": "markdown",
   "metadata": {},
   "source": []
  }
 ],
 "metadata": {
  "kernelspec": {
   "display_name": "capstone",
   "language": "python",
   "name": "python3"
  },
  "language_info": {
   "codemirror_mode": {
    "name": "ipython",
    "version": 3
   },
   "file_extension": ".py",
   "mimetype": "text/x-python",
   "name": "python",
   "nbconvert_exporter": "python",
   "pygments_lexer": "ipython3",
   "version": "3.8.19"
  }
 },
 "nbformat": 4,
 "nbformat_minor": 2
}
