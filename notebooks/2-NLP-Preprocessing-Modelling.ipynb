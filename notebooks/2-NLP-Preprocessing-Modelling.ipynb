{
 "cells": [
  {
   "cell_type": "markdown",
   "metadata": {},
   "source": [
    "# **NLP Cleaning and EDA**\n",
    "\n",
    "### **By:** Jiro Amato\n",
    "\n",
    "### **Date:** May, 30, 2024\n",
    "\n",
    "---"
   ]
  },
  {
   "cell_type": "markdown",
   "metadata": {},
   "source": [
    "In this notebook, we wll be going through a first pass of preprocessing our training dataset for the sentiment analysis model. This dataset contains 4,840 financial articles that have been classified as positive, neutral or negative by 16 financial professionals. It is crucial to complete this step as it sets the foundation for the rest of the model. We will be looking through text-preprocessing and some EDA using techniques such as Bag of Words and TF-IDF to vecotrize the text data.\n",
    "\n",
    "### Data Dictionary\n",
    "\n",
    "**Column Name:**   \n",
    "\n",
    "- `Headline:` The headline of the news article\n",
    "- `Sentiment:` Classifications by positive, neutral or negative. These classifications were agreed upon by 16 professionals in the Finance domain."
   ]
  },
  {
   "cell_type": "markdown",
   "metadata": {},
   "source": [
    "TOC TBD"
   ]
  },
  {
   "cell_type": "code",
   "execution_count": 29,
   "metadata": {},
   "outputs": [
    {
     "name": "stderr",
     "output_type": "stream",
     "text": [
      "[nltk_data] Downloading package wordnet to\n",
      "[nltk_data]     C:\\Users\\amato\\AppData\\Roaming\\nltk_data...\n",
      "[nltk_data]   Package wordnet is already up-to-date!\n"
     ]
    }
   ],
   "source": [
    "# Importing necessary libraries\n",
    "\n",
    "# Libraries for data manipulation\n",
    "import numpy as np\n",
    "import pandas as pd\n",
    "\n",
    "# Libraries for data visualization\n",
    "import matplotlib.pyplot as plt\n",
    "import seaborn as sns\n",
    "\n",
    "#  ML related libraries\n",
    "from sklearn.linear_model import LogisticRegression\n",
    "from sklearn.tree import DecisionTreeClassifier\n",
    "from sklearn.neighbors import KNeighborsClassifier\n",
    "from sklearn.naive_bayes import GaussianNB, MultinomialNB, BernoulliNB\n",
    "from sklearn.decomposition import PCA\n",
    "from sklearn.pipeline import Pipeline\n",
    "from sklearn.model_selection import cross_validate\n",
    "from sklearn.model_selection import cross_val_score\n",
    "from sklearn.model_selection import GridSearchCV\n",
    "\n",
    "# Scalers\n",
    "from sklearn.preprocessing import StandardScaler, RobustScaler, MinMaxScaler\n",
    "\n",
    "# For memory caching\n",
    "from tempfile import mkdtemp\n",
    "\n",
    "# For Train/Test splitting\n",
    "from sklearn.model_selection import train_test_split\n",
    "from sklearn.model_selection import KFold\n",
    "\n",
    "# NLP specific libraries\n",
    "import nltk\n",
    "nltk.download('wordnet')\n",
    "from nltk.corpus import stopwords\n",
    "from sklearn.feature_extraction.text import CountVectorizer\n",
    "from sklearn.feature_extraction.text import TfidfVectorizer\n",
    "from nltk.stem.wordnet import WordNetLemmatizer\n",
    "import string"
   ]
  },
  {
   "cell_type": "code",
   "execution_count": 30,
   "metadata": {},
   "outputs": [
    {
     "data": {
      "text/html": [
       "<div>\n",
       "<style scoped>\n",
       "    .dataframe tbody tr th:only-of-type {\n",
       "        vertical-align: middle;\n",
       "    }\n",
       "\n",
       "    .dataframe tbody tr th {\n",
       "        vertical-align: top;\n",
       "    }\n",
       "\n",
       "    .dataframe thead th {\n",
       "        text-align: right;\n",
       "    }\n",
       "</style>\n",
       "<table border=\"1\" class=\"dataframe\">\n",
       "  <thead>\n",
       "    <tr style=\"text-align: right;\">\n",
       "      <th></th>\n",
       "      <th>Headline</th>\n",
       "      <th>Sentiment</th>\n",
       "    </tr>\n",
       "  </thead>\n",
       "  <tbody>\n",
       "    <tr>\n",
       "      <th>0</th>\n",
       "      <td>According to Gran , the company has no plans t...</td>\n",
       "      <td>neutral</td>\n",
       "    </tr>\n",
       "    <tr>\n",
       "      <th>1</th>\n",
       "      <td>For the last quarter of 2010 , Componenta 's n...</td>\n",
       "      <td>positive</td>\n",
       "    </tr>\n",
       "    <tr>\n",
       "      <th>2</th>\n",
       "      <td>In the third quarter of 2010 , net sales incre...</td>\n",
       "      <td>positive</td>\n",
       "    </tr>\n",
       "    <tr>\n",
       "      <th>3</th>\n",
       "      <td>Operating profit rose to EUR 13.1 mn from EUR ...</td>\n",
       "      <td>positive</td>\n",
       "    </tr>\n",
       "    <tr>\n",
       "      <th>4</th>\n",
       "      <td>Operating profit totalled EUR 21.1 mn , up fro...</td>\n",
       "      <td>positive</td>\n",
       "    </tr>\n",
       "  </tbody>\n",
       "</table>\n",
       "</div>"
      ],
      "text/plain": [
       "                                            Headline Sentiment\n",
       "0  According to Gran , the company has no plans t...   neutral\n",
       "1  For the last quarter of 2010 , Componenta 's n...  positive\n",
       "2  In the third quarter of 2010 , net sales incre...  positive\n",
       "3  Operating profit rose to EUR 13.1 mn from EUR ...  positive\n",
       "4  Operating profit totalled EUR 21.1 mn , up fro...  positive"
      ]
     },
     "execution_count": 30,
     "metadata": {},
     "output_type": "execute_result"
    }
   ],
   "source": [
    "df = pd.read_csv('../data/df_clean.csv', index_col=0)\n",
    "df.head()"
   ]
  },
  {
   "cell_type": "code",
   "execution_count": 31,
   "metadata": {},
   "outputs": [
    {
     "data": {
      "text/plain": [
       "Sentiment\n",
       "0    3477\n",
       "1    1363\n",
       "Name: count, dtype: int64"
      ]
     },
     "execution_count": 31,
     "metadata": {},
     "output_type": "execute_result"
    }
   ],
   "source": [
    "# Mapping sentiments into binary (consolidating neutral into negative)\n",
    "\n",
    "df['Sentiment'] = np.where(df['Sentiment'] == 'positive', 1, 0)\n",
    "\n",
    "# Sanity check\n",
    "df['Sentiment'].value_counts()"
   ]
  },
  {
   "cell_type": "code",
   "execution_count": 32,
   "metadata": {},
   "outputs": [
    {
     "data": {
      "image/png": "[encoded data removed]",
      "text/plain": [
       "<Figure size 640x480 with 1 Axes>"
      ]
     },
     "metadata": {},
     "output_type": "display_data"
    },
    {
     "name": "stdout",
     "output_type": "stream",
     "text": [
      "Class imbalance: [0.72 0.28]\n"
     ]
    }
   ],
   "source": [
    "# Class imbalance\n",
    "\n",
    "values, counts = np.unique(df['Sentiment'], return_counts=True)\n",
    "normalized_counts = counts/counts.sum()\n",
    "\n",
    "plt.figure()\n",
    "plt.bar([\"0\", \"1\"], normalized_counts*100) # plot normalized counts\n",
    "plt.xlabel('Sentiment')\n",
    "plt.ylabel('% of Dataset')\n",
    "plt.show()\n",
    "\n",
    "print(f\"Class imbalance: {np.round(normalized_counts, 2)}\")"
   ]
  },
  {
   "cell_type": "markdown",
   "metadata": {},
   "source": [
    "From the `1-NLP-Cleaning-EDA` notebook we created our own tokenizer. The components are below:\n",
    "\n",
    "1. Standardization: Transforming text data into all lowercase and take out the punctuations\n",
    "2. Tokenization: Splitting the documents into individual words\n",
    "3. Stop-word removal: Removing words without significant meaning such as 'the' and 'like'\n",
    "4. Lemmatization: Reducing words to their lemma (root)\n",
    "5. Removal of short tokens with 1 or 2 elements"
   ]
  },
  {
   "cell_type": "code",
   "execution_count": 33,
   "metadata": {},
   "outputs": [],
   "source": [
    "wnl = WordNetLemmatizer()\n",
    "stop_words = stopwords.words('english')\n",
    "\n",
    "def my_tokenizer(sentence):\n",
    "    # transform string into lower case and take out punctuations\n",
    "    for punctuation in string.punctuation:\n",
    "        sentence = sentence.replace(punctuation, '').lower()\n",
    "\n",
    "    # tokenization\n",
    "    listofwords = sentence.split(' ')\n",
    "    lemmatized_words = []\n",
    "\n",
    "    # removal of stop-words\n",
    "    for word in listofwords:\n",
    "        if word not in stop_words and (word != ''):\n",
    "            # lemmatizing\n",
    "            lemma = wnl.lemmatize(word)\n",
    "            lemmatized_words.append(lemma)\n",
    "            \n",
    "    # Removing any other words with 1 or 2 letters that are insignificant        \n",
    "    tokenized_list = [word for word in lemmatized_words if (len(word) != 1) and (len(word) != 2)]\n",
    "\n",
    "    return tokenized_list"
   ]
  },
  {
   "cell_type": "code",
   "execution_count": 34,
   "metadata": {},
   "outputs": [
    {
     "name": "stderr",
     "output_type": "stream",
     "text": [
      "c:\\Users\\amato\\anaconda3\\envs\\capstone\\Lib\\site-packages\\sklearn\\feature_extraction\\text.py:523: UserWarning: The parameter 'token_pattern' will not be used since 'tokenizer' is not None'\n",
      "  warnings.warn(\n"
     ]
    },
    {
     "data": {
      "text/html": [
       "<div>\n",
       "<style scoped>\n",
       "    .dataframe tbody tr th:only-of-type {\n",
       "        vertical-align: middle;\n",
       "    }\n",
       "\n",
       "    .dataframe tbody tr th {\n",
       "        vertical-align: top;\n",
       "    }\n",
       "\n",
       "    .dataframe thead th {\n",
       "        text-align: right;\n",
       "    }\n",
       "</style>\n",
       "<table border=\"1\" class=\"dataframe\">\n",
       "  <thead>\n",
       "    <tr style=\"text-align: right;\">\n",
       "      <th></th>\n",
       "      <th>000</th>\n",
       "      <th>021</th>\n",
       "      <th>050</th>\n",
       "      <th>100</th>\n",
       "      <th>1000</th>\n",
       "      <th>10000</th>\n",
       "      <th>100000</th>\n",
       "      <th>105</th>\n",
       "      <th>110</th>\n",
       "      <th>112</th>\n",
       "      <th>...</th>\n",
       "      <th>yard</th>\n",
       "      <th>year</th>\n",
       "      <th>yearonyear</th>\n",
       "      <th>yesterday</th>\n",
       "      <th>yet</th>\n",
       "      <th>yit</th>\n",
       "      <th>york</th>\n",
       "      <th>zinc</th>\n",
       "      <th>zone</th>\n",
       "      <th>àland</th>\n",
       "    </tr>\n",
       "  </thead>\n",
       "  <tbody>\n",
       "    <tr>\n",
       "      <th>0</th>\n",
       "      <td>0</td>\n",
       "      <td>0</td>\n",
       "      <td>0</td>\n",
       "      <td>0</td>\n",
       "      <td>0</td>\n",
       "      <td>0</td>\n",
       "      <td>0</td>\n",
       "      <td>0</td>\n",
       "      <td>0</td>\n",
       "      <td>0</td>\n",
       "      <td>...</td>\n",
       "      <td>0</td>\n",
       "      <td>0</td>\n",
       "      <td>0</td>\n",
       "      <td>0</td>\n",
       "      <td>0</td>\n",
       "      <td>0</td>\n",
       "      <td>0</td>\n",
       "      <td>0</td>\n",
       "      <td>0</td>\n",
       "      <td>0</td>\n",
       "    </tr>\n",
       "    <tr>\n",
       "      <th>1</th>\n",
       "      <td>0</td>\n",
       "      <td>0</td>\n",
       "      <td>0</td>\n",
       "      <td>0</td>\n",
       "      <td>0</td>\n",
       "      <td>0</td>\n",
       "      <td>0</td>\n",
       "      <td>0</td>\n",
       "      <td>0</td>\n",
       "      <td>0</td>\n",
       "      <td>...</td>\n",
       "      <td>0</td>\n",
       "      <td>1</td>\n",
       "      <td>0</td>\n",
       "      <td>0</td>\n",
       "      <td>0</td>\n",
       "      <td>0</td>\n",
       "      <td>0</td>\n",
       "      <td>0</td>\n",
       "      <td>0</td>\n",
       "      <td>0</td>\n",
       "    </tr>\n",
       "    <tr>\n",
       "      <th>2</th>\n",
       "      <td>0</td>\n",
       "      <td>0</td>\n",
       "      <td>0</td>\n",
       "      <td>0</td>\n",
       "      <td>0</td>\n",
       "      <td>0</td>\n",
       "      <td>0</td>\n",
       "      <td>0</td>\n",
       "      <td>0</td>\n",
       "      <td>0</td>\n",
       "      <td>...</td>\n",
       "      <td>0</td>\n",
       "      <td>0</td>\n",
       "      <td>0</td>\n",
       "      <td>0</td>\n",
       "      <td>0</td>\n",
       "      <td>0</td>\n",
       "      <td>0</td>\n",
       "      <td>0</td>\n",
       "      <td>0</td>\n",
       "      <td>0</td>\n",
       "    </tr>\n",
       "    <tr>\n",
       "      <th>3</th>\n",
       "      <td>0</td>\n",
       "      <td>0</td>\n",
       "      <td>0</td>\n",
       "      <td>0</td>\n",
       "      <td>0</td>\n",
       "      <td>0</td>\n",
       "      <td>0</td>\n",
       "      <td>0</td>\n",
       "      <td>0</td>\n",
       "      <td>0</td>\n",
       "      <td>...</td>\n",
       "      <td>0</td>\n",
       "      <td>0</td>\n",
       "      <td>0</td>\n",
       "      <td>0</td>\n",
       "      <td>0</td>\n",
       "      <td>0</td>\n",
       "      <td>0</td>\n",
       "      <td>0</td>\n",
       "      <td>0</td>\n",
       "      <td>0</td>\n",
       "    </tr>\n",
       "    <tr>\n",
       "      <th>4</th>\n",
       "      <td>0</td>\n",
       "      <td>0</td>\n",
       "      <td>0</td>\n",
       "      <td>0</td>\n",
       "      <td>0</td>\n",
       "      <td>0</td>\n",
       "      <td>0</td>\n",
       "      <td>0</td>\n",
       "      <td>0</td>\n",
       "      <td>0</td>\n",
       "      <td>...</td>\n",
       "      <td>0</td>\n",
       "      <td>0</td>\n",
       "      <td>0</td>\n",
       "      <td>0</td>\n",
       "      <td>0</td>\n",
       "      <td>0</td>\n",
       "      <td>0</td>\n",
       "      <td>0</td>\n",
       "      <td>0</td>\n",
       "      <td>0</td>\n",
       "    </tr>\n",
       "    <tr>\n",
       "      <th>...</th>\n",
       "      <td>...</td>\n",
       "      <td>...</td>\n",
       "      <td>...</td>\n",
       "      <td>...</td>\n",
       "      <td>...</td>\n",
       "      <td>...</td>\n",
       "      <td>...</td>\n",
       "      <td>...</td>\n",
       "      <td>...</td>\n",
       "      <td>...</td>\n",
       "      <td>...</td>\n",
       "      <td>...</td>\n",
       "      <td>...</td>\n",
       "      <td>...</td>\n",
       "      <td>...</td>\n",
       "      <td>...</td>\n",
       "      <td>...</td>\n",
       "      <td>...</td>\n",
       "      <td>...</td>\n",
       "      <td>...</td>\n",
       "      <td>...</td>\n",
       "    </tr>\n",
       "    <tr>\n",
       "      <th>4835</th>\n",
       "      <td>0</td>\n",
       "      <td>0</td>\n",
       "      <td>0</td>\n",
       "      <td>0</td>\n",
       "      <td>0</td>\n",
       "      <td>0</td>\n",
       "      <td>0</td>\n",
       "      <td>0</td>\n",
       "      <td>0</td>\n",
       "      <td>0</td>\n",
       "      <td>...</td>\n",
       "      <td>0</td>\n",
       "      <td>0</td>\n",
       "      <td>0</td>\n",
       "      <td>0</td>\n",
       "      <td>0</td>\n",
       "      <td>0</td>\n",
       "      <td>0</td>\n",
       "      <td>0</td>\n",
       "      <td>0</td>\n",
       "      <td>0</td>\n",
       "    </tr>\n",
       "    <tr>\n",
       "      <th>4836</th>\n",
       "      <td>0</td>\n",
       "      <td>0</td>\n",
       "      <td>0</td>\n",
       "      <td>0</td>\n",
       "      <td>0</td>\n",
       "      <td>0</td>\n",
       "      <td>0</td>\n",
       "      <td>0</td>\n",
       "      <td>0</td>\n",
       "      <td>0</td>\n",
       "      <td>...</td>\n",
       "      <td>0</td>\n",
       "      <td>0</td>\n",
       "      <td>0</td>\n",
       "      <td>0</td>\n",
       "      <td>0</td>\n",
       "      <td>0</td>\n",
       "      <td>0</td>\n",
       "      <td>0</td>\n",
       "      <td>0</td>\n",
       "      <td>0</td>\n",
       "    </tr>\n",
       "    <tr>\n",
       "      <th>4837</th>\n",
       "      <td>0</td>\n",
       "      <td>0</td>\n",
       "      <td>0</td>\n",
       "      <td>0</td>\n",
       "      <td>0</td>\n",
       "      <td>0</td>\n",
       "      <td>0</td>\n",
       "      <td>0</td>\n",
       "      <td>0</td>\n",
       "      <td>0</td>\n",
       "      <td>...</td>\n",
       "      <td>0</td>\n",
       "      <td>0</td>\n",
       "      <td>0</td>\n",
       "      <td>0</td>\n",
       "      <td>0</td>\n",
       "      <td>0</td>\n",
       "      <td>0</td>\n",
       "      <td>0</td>\n",
       "      <td>0</td>\n",
       "      <td>0</td>\n",
       "    </tr>\n",
       "    <tr>\n",
       "      <th>4838</th>\n",
       "      <td>0</td>\n",
       "      <td>0</td>\n",
       "      <td>0</td>\n",
       "      <td>0</td>\n",
       "      <td>0</td>\n",
       "      <td>0</td>\n",
       "      <td>0</td>\n",
       "      <td>0</td>\n",
       "      <td>1</td>\n",
       "      <td>0</td>\n",
       "      <td>...</td>\n",
       "      <td>0</td>\n",
       "      <td>0</td>\n",
       "      <td>0</td>\n",
       "      <td>0</td>\n",
       "      <td>0</td>\n",
       "      <td>0</td>\n",
       "      <td>0</td>\n",
       "      <td>0</td>\n",
       "      <td>0</td>\n",
       "      <td>0</td>\n",
       "    </tr>\n",
       "    <tr>\n",
       "      <th>4839</th>\n",
       "      <td>0</td>\n",
       "      <td>0</td>\n",
       "      <td>0</td>\n",
       "      <td>0</td>\n",
       "      <td>0</td>\n",
       "      <td>0</td>\n",
       "      <td>0</td>\n",
       "      <td>0</td>\n",
       "      <td>0</td>\n",
       "      <td>0</td>\n",
       "      <td>...</td>\n",
       "      <td>0</td>\n",
       "      <td>0</td>\n",
       "      <td>0</td>\n",
       "      <td>0</td>\n",
       "      <td>0</td>\n",
       "      <td>0</td>\n",
       "      <td>0</td>\n",
       "      <td>0</td>\n",
       "      <td>0</td>\n",
       "      <td>0</td>\n",
       "    </tr>\n",
       "  </tbody>\n",
       "</table>\n",
       "<p>4840 rows × 1891 columns</p>\n",
       "</div>"
      ],
      "text/plain": [
       "      000  021  050  100  1000  10000  100000  105  110  112  ...  yard  year  \\\n",
       "0       0    0    0    0     0      0       0    0    0    0  ...     0     0   \n",
       "1       0    0    0    0     0      0       0    0    0    0  ...     0     1   \n",
       "2       0    0    0    0     0      0       0    0    0    0  ...     0     0   \n",
       "3       0    0    0    0     0      0       0    0    0    0  ...     0     0   \n",
       "4       0    0    0    0     0      0       0    0    0    0  ...     0     0   \n",
       "...   ...  ...  ...  ...   ...    ...     ...  ...  ...  ...  ...   ...   ...   \n",
       "4835    0    0    0    0     0      0       0    0    0    0  ...     0     0   \n",
       "4836    0    0    0    0     0      0       0    0    0    0  ...     0     0   \n",
       "4837    0    0    0    0     0      0       0    0    0    0  ...     0     0   \n",
       "4838    0    0    0    0     0      0       0    0    1    0  ...     0     0   \n",
       "4839    0    0    0    0     0      0       0    0    0    0  ...     0     0   \n",
       "\n",
       "      yearonyear  yesterday  yet  yit  york  zinc  zone  àland  \n",
       "0              0          0    0    0     0     0     0      0  \n",
       "1              0          0    0    0     0     0     0      0  \n",
       "2              0          0    0    0     0     0     0      0  \n",
       "3              0          0    0    0     0     0     0      0  \n",
       "4              0          0    0    0     0     0     0      0  \n",
       "...          ...        ...  ...  ...   ...   ...   ...    ...  \n",
       "4835           0          0    0    0     0     0     0      0  \n",
       "4836           0          0    0    0     0     0     0      0  \n",
       "4837           0          0    0    0     0     0     0      0  \n",
       "4838           0          0    0    0     0     0     0      0  \n",
       "4839           0          0    0    0     0     0     0      0  \n",
       "\n",
       "[4840 rows x 1891 columns]"
      ]
     },
     "execution_count": 34,
     "metadata": {},
     "output_type": "execute_result"
    }
   ],
   "source": [
    "# Extracting columns\n",
    "\n",
    "X = df['Headline']\n",
    "y = df['Sentiment']\n",
    "\n",
    "# Vectorizing\n",
    "bagofwords = CountVectorizer(min_df=5, tokenizer=my_tokenizer, ngram_range=(1, 1))\n",
    "\n",
    "# Fitting\n",
    "bagofwords.fit(X)\n",
    "X_bow = bagofwords.transform(X)\n",
    "\n",
    "X_bow = pd.DataFrame(data=X_bow.toarray(), columns=bagofwords.get_feature_names_out())\n",
    "\n",
    "X_bow"
   ]
  },
  {
   "cell_type": "code",
   "execution_count": 35,
   "metadata": {},
   "outputs": [
    {
     "data": {
      "image/png": "[encoded data removed]",
      "text/plain": [
       "<Figure size 1500x500 with 1 Axes>"
      ]
     },
     "metadata": {},
     "output_type": "display_data"
    }
   ],
   "source": [
    "# Plotting most occuring words in 'Negative_Review'\n",
    "plt.figure(figsize=(15,5))\n",
    "sns.barplot(X_bow.sum(axis=0).sort_values(ascending=False).head(20))\n",
    "plt.title('Top 20 Most Occurring Words in \\'Negative_Review\\' Column')\n",
    "plt.xticks(rotation=45)\n",
    "plt.show()"
   ]
  },
  {
   "cell_type": "code",
   "execution_count": 78,
   "metadata": {},
   "outputs": [],
   "source": [
    "# Train/Test Split\n",
    "\n",
    "X_remain, X_test, y_remain, y_test = train_test_split(X_bow, y, test_size=0.2, stratify=y, random_state=1)"
   ]
  },
  {
   "cell_type": "code",
   "execution_count": 79,
   "metadata": {},
   "outputs": [],
   "source": [
    "# Creating a fold_scores variable in order to streamline processing folds:\n",
    "def fold_scores(X: pd.DataFrame, y: pd.DataFrame,\n",
    "                train_index: np.ndarray,\n",
    "                validation_index: np.ndarray,\n",
    "                C: float):\n",
    "        \"\"\"This function generates a train and validation scores based on the alpha\n",
    "        hyperparameter, train/validation indexes and respective independent/target \n",
    "        variables from the remainder split.\n",
    "\n",
    "        Args:\n",
    "            X (pd.DataFrame): X dataframe. Should be the remainder split.\n",
    "            y (pd.DataFrame): y dataframe. Should be the remainder split.\n",
    "            train_index (np.ndarray): An array of indexes to split train set from X and y\n",
    "            test_index (np.ndarray): An array of indexes to split validation set from X and y\n",
    "            alpha (float): Sets 'alpha' argument in SGDClassifier() (regularization strength)\n",
    "\n",
    "        Returns:\n",
    "            tuple: [float, float]: Returns a tuple of train score and validation score\n",
    "        \"\"\"\n",
    "        # Splitting the remainder\n",
    "        X_train, X_validation = X.iloc[train_index], X.iloc[validation_index]\n",
    "        y_train, y_validation = y.iloc[train_index], y.iloc[validation_index]\n",
    "        \n",
    "        # Fitting and running the Logistic regression model\n",
    "        LR_model = LogisticRegression(solver='liblinear',\n",
    "                                 penalty='l1',\n",
    "                                 C=C, random_state=1,\n",
    "                                 max_iter=10000)\n",
    "        LR_model.fit(X_train, y_train)    \n",
    "        \n",
    "        # Train scores:\n",
    "        training_score = LR_model.score(X_train, y_train)\n",
    "        \n",
    "        # Validation scores:\n",
    "        validation_score = LR_model.score(X_validation, y_validation)\n",
    "        \n",
    "        return training_score, validation_score"
   ]
  },
  {
   "cell_type": "code",
   "execution_count": 80,
   "metadata": {},
   "outputs": [
    {
     "data": {
      "text/plain": [
       "{1: (array([   0,    1,    2, ..., 3869, 3870, 3871]),\n",
       "  array([   3,    4,    6,    7,   12,   13,   17,   19,   28,   37,   40,\n",
       "           45,   50,   58,   60,   65,   72,   75,   79,   83,   89,   93,\n",
       "           94,   98,   99,  102,  107,  108,  110,  123,  126,  136,  137,\n",
       "          161,  165,  169,  171,  172,  181,  186,  187,  188,  194,  195,\n",
       "          201,  203,  205,  210,  219,  220,  224,  230,  254,  255,  256,\n",
       "          262,  267,  268,  280,  282,  291,  292,  297,  299,  301,  305,\n",
       "          306,  318,  321,  329,  330,  331,  349,  351,  359,  364,  366,\n",
       "          368,  372,  382,  385,  386,  393,  397,  398,  399,  403,  407,\n",
       "          416,  420,  427,  435,  442,  453,  457,  462,  464,  471,  473,\n",
       "          481,  486,  487,  494,  495,  498,  516,  517,  518,  525,  534,\n",
       "          535,  540,  541,  546,  551,  555,  557,  558,  560,  563,  573,\n",
       "          574,  577,  581,  587,  588,  589,  605,  610,  630,  632,  636,\n",
       "          650,  661,  662,  664,  666,  678,  685,  700,  701,  702,  705,\n",
       "          709,  710,  719,  720,  724,  725,  726,  739,  748,  749,  758,\n",
       "          761,  769,  771,  772,  773,  779,  781,  784,  787,  790,  791,\n",
       "          796,  797,  799,  804,  808,  812,  813,  823,  834,  836,  845,\n",
       "          846,  854,  855,  870,  872,  874,  876,  880,  891,  893,  895,\n",
       "          899,  902,  906,  909,  913,  921,  929,  931,  932,  936,  941,\n",
       "          943,  945,  953,  955,  965,  973,  975,  982,  984,  986,  988,\n",
       "          990,  993,  996, 1004, 1006, 1010, 1012, 1017, 1020, 1021, 1026,\n",
       "         1030, 1032, 1034, 1035, 1040, 1044, 1050, 1060, 1064, 1074, 1078,\n",
       "         1080, 1087, 1089, 1093, 1100, 1123, 1126, 1128, 1135, 1140, 1141,\n",
       "         1142, 1143, 1144, 1145, 1156, 1164, 1167, 1169, 1176, 1177, 1179,\n",
       "         1195, 1197, 1201, 1208, 1213, 1215, 1216, 1221, 1227, 1232, 1236,\n",
       "         1237, 1247, 1248, 1255, 1266, 1268, 1270, 1271, 1272, 1291, 1296,\n",
       "         1301, 1305, 1322, 1328, 1329, 1330, 1334, 1335, 1336, 1338, 1342,\n",
       "         1344, 1349, 1363, 1373, 1379, 1386, 1391, 1395, 1396, 1398, 1399,\n",
       "         1402, 1404, 1410, 1412, 1432, 1433, 1435, 1456, 1459, 1468, 1496,\n",
       "         1501, 1503, 1504, 1508, 1518, 1519, 1520, 1535, 1537, 1540, 1544,\n",
       "         1546, 1548, 1551, 1554, 1556, 1562, 1573, 1579, 1586, 1593, 1595,\n",
       "         1596, 1597, 1613, 1621, 1624, 1626, 1631, 1636, 1641, 1647, 1653,\n",
       "         1658, 1659, 1661, 1672, 1674, 1678, 1684, 1687, 1698, 1703, 1721,\n",
       "         1723, 1725, 1728, 1732, 1748, 1758, 1760, 1768, 1772, 1778, 1789,\n",
       "         1791, 1796, 1802, 1808, 1813, 1815, 1819, 1822, 1826, 1828, 1847,\n",
       "         1848, 1856, 1860, 1865, 1873, 1885, 1891, 1892, 1893, 1897, 1899,\n",
       "         1900, 1905, 1906, 1907, 1915, 1918, 1924, 1926, 1938, 1941, 1943,\n",
       "         1944, 1956, 1965, 1966, 1973, 1988, 1990, 1992, 1999, 2000, 2006,\n",
       "         2010, 2015, 2017, 2019, 2038, 2046, 2053, 2054, 2062, 2073, 2096,\n",
       "         2097, 2098, 2099, 2105, 2117, 2121, 2124, 2129, 2130, 2133, 2139,\n",
       "         2142, 2159, 2165, 2167, 2168, 2170, 2179, 2182, 2185, 2188, 2190,\n",
       "         2204, 2209, 2215, 2226, 2227, 2229, 2243, 2245, 2248, 2249, 2253,\n",
       "         2270, 2271, 2273, 2281, 2293, 2296, 2312, 2314, 2316, 2320, 2325,\n",
       "         2328, 2329, 2333, 2336, 2343, 2350, 2351, 2359, 2362, 2369, 2378,\n",
       "         2383, 2387, 2390, 2392, 2396, 2402, 2403, 2404, 2409, 2416, 2426,\n",
       "         2434, 2437, 2444, 2454, 2461, 2466, 2469, 2473, 2481, 2483, 2487,\n",
       "         2489, 2491, 2515, 2526, 2527, 2528, 2538, 2539, 2542, 2544, 2545,\n",
       "         2569, 2572, 2573, 2600, 2601, 2603, 2604, 2605, 2606, 2607, 2609,\n",
       "         2616, 2618, 2623, 2627, 2630, 2633, 2640, 2644, 2647, 2651, 2654,\n",
       "         2656, 2665, 2670, 2671, 2676, 2677, 2679, 2681, 2682, 2686, 2691,\n",
       "         2695, 2701, 2702, 2703, 2706, 2717, 2722, 2724, 2728, 2734, 2735,\n",
       "         2736, 2743, 2749, 2755, 2756, 2767, 2769, 2771, 2773, 2775, 2777,\n",
       "         2778, 2796, 2803, 2805, 2815, 2816, 2820, 2827, 2828, 2834, 2838,\n",
       "         2839, 2842, 2849, 2851, 2852, 2855, 2858, 2860, 2863, 2868, 2870,\n",
       "         2887, 2888, 2890, 2900, 2905, 2911, 2913, 2916, 2917, 2921, 2936,\n",
       "         2940, 2946, 2948, 2950, 2956, 2964, 2973, 2974, 2975, 2987, 2989,\n",
       "         2990, 2995, 2996, 3000, 3003, 3014, 3016, 3018, 3031, 3033, 3035,\n",
       "         3040, 3052, 3064, 3067, 3072, 3076, 3080, 3083, 3085, 3091, 3095,\n",
       "         3108, 3116, 3130, 3131, 3138, 3140, 3150, 3151, 3156, 3158, 3161,\n",
       "         3163, 3164, 3165, 3173, 3175, 3178, 3182, 3193, 3207, 3208, 3213,\n",
       "         3215, 3216, 3218, 3223, 3224, 3227, 3237, 3239, 3243, 3246, 3273,\n",
       "         3274, 3275, 3281, 3282, 3297, 3300, 3308, 3313, 3319, 3330, 3331,\n",
       "         3332, 3333, 3339, 3345, 3346, 3350, 3356, 3369, 3375, 3385, 3388,\n",
       "         3392, 3400, 3403, 3408, 3414, 3416, 3421, 3427, 3432, 3449, 3450,\n",
       "         3455, 3457, 3467, 3472, 3474, 3482, 3485, 3497, 3515, 3516, 3517,\n",
       "         3521, 3532, 3541, 3543, 3545, 3553, 3555, 3556, 3566, 3578, 3583,\n",
       "         3587, 3591, 3595, 3597, 3600, 3602, 3608, 3609, 3612, 3625, 3635,\n",
       "         3641, 3643, 3646, 3652, 3657, 3666, 3668, 3669, 3672, 3684, 3688,\n",
       "         3697, 3705, 3706, 3711, 3720, 3728, 3729, 3730, 3736, 3740, 3746,\n",
       "         3752, 3753, 3758, 3759, 3765, 3766, 3767, 3774, 3782, 3783, 3788,\n",
       "         3793, 3801, 3812, 3819, 3822, 3823, 3826, 3830, 3833, 3849, 3852,\n",
       "         3854, 3857, 3860, 3863, 3867])),\n",
       " 2: (array([   0,    1,    2, ..., 3867, 3868, 3870]),\n",
       "  array([  10,   32,   34,   35,   39,   41,   44,   47,   54,   56,   64,\n",
       "           68,   81,   82,   87,   91,  103,  111,  119,  120,  125,  132,\n",
       "          133,  134,  138,  146,  151,  154,  157,  166,  177,  180,  191,\n",
       "          192,  199,  204,  208,  216,  218,  221,  223,  227,  228,  231,\n",
       "          233,  236,  241,  248,  250,  257,  260,  270,  273,  275,  283,\n",
       "          285,  287,  289,  302,  303,  304,  314,  335,  336,  340,  341,\n",
       "          345,  346,  347,  363,  365,  367,  370,  383,  390,  394,  396,\n",
       "          414,  415,  422,  425,  428,  429,  432,  434,  436,  438,  439,\n",
       "          440,  445,  460,  468,  470,  476,  477,  480,  485,  490,  492,\n",
       "          499,  501,  508,  509,  510,  520,  521,  526,  527,  533,  536,\n",
       "          543,  544,  547,  549,  553,  556,  559,  561,  569,  571,  576,\n",
       "          579,  582,  583,  584,  586,  592,  595,  598,  599,  600,  602,\n",
       "          607,  613,  616,  620,  623,  627,  635,  638,  643,  644,  654,\n",
       "          671,  674,  675,  679,  681,  683,  688,  693,  707,  713,  729,\n",
       "          730,  733,  737,  747,  751,  756,  757,  764,  767,  774,  777,\n",
       "          783,  785,  788,  792,  793,  802,  816,  817,  825,  829,  839,\n",
       "          840,  857,  866,  885,  896,  898,  911,  916,  918,  925,  926,\n",
       "          927,  933,  937,  946,  954,  957,  958,  959,  961,  968,  970,\n",
       "          979,  981,  987,  994, 1000, 1002, 1008, 1009, 1011, 1013, 1016,\n",
       "         1028, 1036, 1038, 1039, 1041, 1043, 1045, 1047, 1051, 1065, 1068,\n",
       "         1070, 1071, 1073, 1077, 1082, 1091, 1097, 1098, 1103, 1104, 1105,\n",
       "         1108, 1114, 1120, 1125, 1131, 1132, 1138, 1149, 1151, 1153, 1159,\n",
       "         1162, 1163, 1171, 1173, 1178, 1189, 1194, 1196, 1206, 1217, 1218,\n",
       "         1219, 1220, 1223, 1224, 1230, 1233, 1238, 1239, 1241, 1263, 1265,\n",
       "         1273, 1281, 1282, 1293, 1299, 1307, 1316, 1333, 1339, 1347, 1351,\n",
       "         1352, 1359, 1375, 1377, 1380, 1385, 1387, 1400, 1403, 1406, 1408,\n",
       "         1413, 1417, 1419, 1421, 1422, 1426, 1427, 1441, 1447, 1448, 1452,\n",
       "         1453, 1457, 1463, 1466, 1467, 1475, 1488, 1489, 1497, 1502, 1507,\n",
       "         1513, 1524, 1525, 1526, 1533, 1536, 1542, 1545, 1549, 1550, 1552,\n",
       "         1555, 1559, 1563, 1564, 1566, 1578, 1584, 1587, 1592, 1603, 1607,\n",
       "         1608, 1610, 1614, 1625, 1637, 1642, 1648, 1649, 1650, 1651, 1657,\n",
       "         1668, 1670, 1673, 1675, 1677, 1680, 1683, 1685, 1688, 1690, 1696,\n",
       "         1707, 1708, 1719, 1720, 1729, 1730, 1734, 1735, 1736, 1742, 1744,\n",
       "         1751, 1765, 1766, 1767, 1773, 1776, 1780, 1782, 1783, 1784, 1785,\n",
       "         1787, 1792, 1794, 1805, 1807, 1814, 1823, 1825, 1827, 1829, 1832,\n",
       "         1833, 1836, 1850, 1851, 1852, 1854, 1858, 1859, 1870, 1875, 1881,\n",
       "         1882, 1884, 1895, 1896, 1903, 1909, 1911, 1919, 1921, 1922, 1925,\n",
       "         1928, 1933, 1946, 1950, 1951, 1953, 1957, 1959, 1960, 1961, 1977,\n",
       "         1986, 1987, 1991, 1993, 1995, 2005, 2008, 2011, 2018, 2022, 2027,\n",
       "         2030, 2031, 2037, 2040, 2043, 2045, 2048, 2049, 2051, 2066, 2068,\n",
       "         2078, 2079, 2095, 2102, 2107, 2114, 2115, 2118, 2123, 2126, 2132,\n",
       "         2135, 2136, 2149, 2150, 2155, 2156, 2157, 2161, 2164, 2173, 2174,\n",
       "         2175, 2181, 2183, 2201, 2213, 2223, 2225, 2234, 2236, 2238, 2240,\n",
       "         2241, 2250, 2256, 2259, 2263, 2264, 2274, 2276, 2279, 2294, 2295,\n",
       "         2297, 2300, 2301, 2306, 2307, 2308, 2315, 2330, 2334, 2338, 2340,\n",
       "         2345, 2348, 2349, 2352, 2353, 2357, 2361, 2367, 2374, 2377, 2384,\n",
       "         2388, 2395, 2415, 2420, 2422, 2430, 2433, 2440, 2447, 2448, 2453,\n",
       "         2456, 2457, 2458, 2462, 2463, 2480, 2494, 2496, 2517, 2529, 2532,\n",
       "         2550, 2553, 2558, 2570, 2577, 2578, 2579, 2580, 2582, 2586, 2589,\n",
       "         2594, 2608, 2610, 2620, 2625, 2629, 2632, 2639, 2645, 2657, 2659,\n",
       "         2660, 2661, 2662, 2680, 2684, 2688, 2689, 2700, 2704, 2711, 2712,\n",
       "         2715, 2725, 2726, 2730, 2731, 2740, 2741, 2750, 2752, 2753, 2764,\n",
       "         2765, 2766, 2768, 2772, 2784, 2798, 2801, 2811, 2813, 2824, 2825,\n",
       "         2830, 2833, 2854, 2856, 2864, 2869, 2872, 2883, 2886, 2889, 2891,\n",
       "         2902, 2904, 2907, 2918, 2926, 2928, 2930, 2932, 2943, 2952, 2957,\n",
       "         2961, 2963, 2967, 2971, 2979, 2991, 3007, 3008, 3017, 3019, 3027,\n",
       "         3028, 3037, 3041, 3045, 3048, 3054, 3056, 3059, 3071, 3077, 3081,\n",
       "         3084, 3086, 3089, 3093, 3096, 3113, 3118, 3119, 3122, 3126, 3128,\n",
       "         3134, 3135, 3137, 3142, 3144, 3146, 3154, 3167, 3169, 3171, 3180,\n",
       "         3183, 3196, 3197, 3198, 3225, 3226, 3229, 3244, 3245, 3252, 3253,\n",
       "         3254, 3261, 3266, 3268, 3269, 3271, 3278, 3285, 3289, 3291, 3293,\n",
       "         3295, 3296, 3309, 3315, 3316, 3317, 3352, 3355, 3357, 3358, 3371,\n",
       "         3373, 3378, 3379, 3381, 3383, 3384, 3390, 3399, 3401, 3409, 3415,\n",
       "         3417, 3419, 3420, 3430, 3433, 3434, 3436, 3441, 3443, 3448, 3451,\n",
       "         3458, 3468, 3476, 3477, 3479, 3488, 3489, 3491, 3492, 3493, 3498,\n",
       "         3506, 3526, 3528, 3531, 3533, 3540, 3544, 3549, 3551, 3552, 3554,\n",
       "         3560, 3563, 3568, 3573, 3577, 3581, 3582, 3584, 3585, 3589, 3593,\n",
       "         3598, 3603, 3605, 3623, 3627, 3650, 3658, 3662, 3676, 3679, 3682,\n",
       "         3685, 3686, 3690, 3691, 3695, 3701, 3710, 3712, 3723, 3735, 3741,\n",
       "         3756, 3764, 3776, 3777, 3781, 3784, 3792, 3809, 3817, 3820, 3821,\n",
       "         3825, 3836, 3853, 3869, 3871])),\n",
       " 3: (array([   2,    3,    4, ..., 3868, 3869, 3871]),\n",
       "  array([   0,    1,    8,   11,   16,   21,   23,   24,   30,   38,   48,\n",
       "           49,   51,   53,   59,   62,   67,   73,   76,   80,   90,  101,\n",
       "          104,  115,  124,  128,  130,  139,  140,  148,  149,  158,  160,\n",
       "          167,  173,  176,  182,  189,  190,  196,  198,  200,  202,  206,\n",
       "          207,  209,  212,  217,  226,  229,  242,  258,  259,  261,  264,\n",
       "          281,  288,  293,  294,  309,  325,  332,  338,  348,  350,  353,\n",
       "          361,  369,  375,  380,  388,  389,  400,  401,  406,  418,  419,\n",
       "          421,  424,  441,  443,  444,  446,  447,  448,  452,  456,  459,\n",
       "          478,  484,  488,  493,  503,  507,  512,  513,  514,  523,  529,\n",
       "          537,  572,  575,  578,  585,  590,  596,  608,  612,  614,  615,\n",
       "          619,  625,  628,  631,  634,  639,  640,  642,  645,  653,  655,\n",
       "          660,  669,  670,  672,  680,  689,  692,  697,  698,  703,  708,\n",
       "          711,  712,  718,  735,  736,  743,  745,  750,  760,  763,  766,\n",
       "          768,  778,  800,  801,  805,  807,  809,  820,  821,  828,  849,\n",
       "          851,  852,  853,  858,  859,  864,  877,  881,  887,  894,  900,\n",
       "          904,  917,  919,  920,  924,  934,  935,  940,  948,  972,  976,\n",
       "          977,  983,  985,  992,  995,  997, 1001, 1015, 1027, 1037, 1053,\n",
       "         1054, 1058, 1059, 1066, 1069, 1081, 1083, 1084, 1094, 1102, 1109,\n",
       "         1112, 1115, 1117, 1118, 1122, 1124, 1129, 1136, 1139, 1146, 1147,\n",
       "         1152, 1157, 1161, 1165, 1172, 1181, 1183, 1185, 1186, 1188, 1193,\n",
       "         1204, 1205, 1210, 1212, 1225, 1226, 1228, 1231, 1234, 1244, 1245,\n",
       "         1246, 1249, 1252, 1260, 1262, 1264, 1269, 1276, 1283, 1285, 1286,\n",
       "         1287, 1289, 1290, 1292, 1294, 1297, 1308, 1310, 1317, 1323, 1325,\n",
       "         1326, 1348, 1353, 1354, 1355, 1357, 1362, 1364, 1365, 1369, 1381,\n",
       "         1382, 1384, 1388, 1392, 1394, 1397, 1401, 1407, 1409, 1414, 1415,\n",
       "         1430, 1436, 1438, 1442, 1443, 1446, 1450, 1454, 1461, 1462, 1470,\n",
       "         1471, 1477, 1480, 1481, 1482, 1483, 1487, 1490, 1494, 1498, 1500,\n",
       "         1506, 1509, 1514, 1515, 1517, 1529, 1532, 1534, 1539, 1541, 1558,\n",
       "         1561, 1565, 1569, 1570, 1575, 1577, 1588, 1589, 1599, 1601, 1604,\n",
       "         1605, 1606, 1609, 1611, 1617, 1623, 1628, 1629, 1644, 1645, 1646,\n",
       "         1652, 1654, 1660, 1663, 1664, 1669, 1681, 1691, 1695, 1697, 1701,\n",
       "         1702, 1710, 1713, 1716, 1724, 1726, 1727, 1737, 1747, 1749, 1754,\n",
       "         1759, 1761, 1777, 1781, 1790, 1804, 1810, 1812, 1816, 1817, 1818,\n",
       "         1837, 1846, 1855, 1857, 1862, 1863, 1864, 1866, 1872, 1894, 1902,\n",
       "         1908, 1913, 1916, 1917, 1929, 1930, 1931, 1934, 1937, 1945, 1947,\n",
       "         1958, 1962, 1964, 1967, 1970, 1994, 2001, 2009, 2013, 2016, 2024,\n",
       "         2026, 2028, 2029, 2032, 2034, 2035, 2039, 2056, 2059, 2064, 2065,\n",
       "         2070, 2074, 2084, 2085, 2087, 2088, 2093, 2101, 2104, 2106, 2108,\n",
       "         2111, 2113, 2119, 2128, 2146, 2152, 2158, 2162, 2163, 2166, 2169,\n",
       "         2177, 2193, 2194, 2206, 2211, 2217, 2231, 2242, 2268, 2275, 2282,\n",
       "         2284, 2289, 2290, 2292, 2298, 2299, 2303, 2313, 2317, 2318, 2322,\n",
       "         2323, 2331, 2341, 2344, 2346, 2347, 2354, 2356, 2358, 2360, 2368,\n",
       "         2372, 2373, 2375, 2379, 2385, 2389, 2399, 2401, 2410, 2414, 2418,\n",
       "         2421, 2423, 2424, 2425, 2427, 2429, 2435, 2438, 2451, 2455, 2459,\n",
       "         2470, 2471, 2472, 2474, 2476, 2482, 2490, 2495, 2497, 2501, 2508,\n",
       "         2509, 2510, 2511, 2513, 2520, 2530, 2535, 2543, 2552, 2554, 2555,\n",
       "         2560, 2567, 2575, 2576, 2583, 2584, 2597, 2611, 2614, 2619, 2624,\n",
       "         2635, 2637, 2641, 2646, 2650, 2655, 2667, 2668, 2672, 2673, 2692,\n",
       "         2694, 2696, 2697, 2698, 2708, 2709, 2710, 2713, 2720, 2721, 2723,\n",
       "         2727, 2738, 2739, 2742, 2744, 2746, 2748, 2751, 2759, 2761, 2774,\n",
       "         2781, 2782, 2785, 2786, 2790, 2793, 2802, 2807, 2812, 2814, 2823,\n",
       "         2837, 2847, 2861, 2866, 2867, 2876, 2878, 2881, 2885, 2894, 2896,\n",
       "         2909, 2914, 2920, 2929, 2931, 2934, 2935, 2938, 2941, 2966, 2968,\n",
       "         2970, 2972, 2977, 2978, 2983, 2988, 2997, 2999, 3005, 3009, 3024,\n",
       "         3025, 3039, 3042, 3053, 3058, 3062, 3063, 3066, 3070, 3074, 3075,\n",
       "         3078, 3079, 3090, 3097, 3099, 3105, 3111, 3117, 3121, 3129, 3141,\n",
       "         3147, 3148, 3152, 3153, 3157, 3160, 3172, 3177, 3179, 3189, 3190,\n",
       "         3191, 3194, 3195, 3201, 3204, 3206, 3210, 3211, 3214, 3219, 3220,\n",
       "         3222, 3233, 3242, 3248, 3255, 3258, 3262, 3264, 3272, 3277, 3279,\n",
       "         3288, 3290, 3294, 3304, 3305, 3323, 3335, 3337, 3338, 3341, 3344,\n",
       "         3348, 3349, 3363, 3366, 3370, 3377, 3380, 3386, 3389, 3393, 3396,\n",
       "         3398, 3407, 3411, 3422, 3426, 3429, 3431, 3440, 3447, 3454, 3461,\n",
       "         3463, 3469, 3473, 3478, 3483, 3486, 3494, 3495, 3499, 3501, 3503,\n",
       "         3504, 3505, 3507, 3509, 3511, 3512, 3513, 3519, 3522, 3534, 3539,\n",
       "         3567, 3570, 3571, 3574, 3575, 3579, 3586, 3590, 3596, 3599, 3601,\n",
       "         3611, 3617, 3619, 3630, 3634, 3636, 3645, 3653, 3659, 3660, 3661,\n",
       "         3670, 3677, 3681, 3687, 3696, 3698, 3699, 3700, 3707, 3708, 3713,\n",
       "         3719, 3722, 3724, 3731, 3734, 3743, 3745, 3749, 3751, 3761, 3768,\n",
       "         3773, 3780, 3785, 3789, 3796, 3797, 3798, 3802, 3807, 3810, 3811,\n",
       "         3815, 3827, 3829, 3838, 3845, 3847, 3848, 3850, 3855, 3856, 3858,\n",
       "         3859, 3861, 3866, 3870])),\n",
       " 4: (array([   0,    1,    3, ..., 3869, 3870, 3871]),\n",
       "  array([   2,    5,    9,   22,   26,   27,   29,   31,   33,   43,   46,\n",
       "           55,   57,   61,   66,   69,   74,   78,   84,   85,   88,   97,\n",
       "          106,  113,  117,  121,  127,  131,  135,  141,  142,  147,  156,\n",
       "          159,  163,  164,  170,  175,  178,  185,  193,  211,  215,  234,\n",
       "          237,  238,  239,  244,  245,  251,  265,  274,  276,  277,  278,\n",
       "          279,  284,  286,  295,  298,  300,  307,  308,  310,  311,  315,\n",
       "          320,  322,  323,  326,  328,  339,  352,  354,  355,  358,  360,\n",
       "          371,  374,  381,  384,  387,  392,  395,  404,  408,  409,  426,\n",
       "          430,  433,  437,  449,  455,  458,  463,  466,  472,  474,  479,\n",
       "          482,  483,  491,  496,  500,  502,  504,  511,  528,  530,  531,\n",
       "          538,  548,  550,  554,  567,  568,  570,  593,  594,  597,  603,\n",
       "          604,  618,  622,  629,  641,  646,  647,  649,  659,  663,  673,\n",
       "          682,  686,  694,  699,  722,  723,  731,  740,  741,  742,  744,\n",
       "          746,  752,  754,  755,  759,  765,  776,  780,  782,  786,  789,\n",
       "          798,  810,  815,  819,  824,  826,  827,  830,  831,  833,  841,\n",
       "          842,  847,  860,  861,  862,  863,  867,  868,  875,  888,  890,\n",
       "          892,  912,  914,  922,  923,  930,  938,  942,  950,  951,  952,\n",
       "          962,  966,  969,  974,  978,  991, 1003, 1005, 1007, 1014, 1023,\n",
       "         1024, 1029, 1048, 1055, 1056, 1057, 1079, 1085, 1086, 1090, 1092,\n",
       "         1101, 1116, 1119, 1127, 1130, 1134, 1148, 1158, 1166, 1180, 1184,\n",
       "         1190, 1198, 1199, 1203, 1209, 1211, 1222, 1229, 1240, 1242, 1243,\n",
       "         1250, 1256, 1257, 1259, 1267, 1274, 1279, 1280, 1298, 1302, 1304,\n",
       "         1314, 1315, 1318, 1319, 1320, 1331, 1340, 1341, 1343, 1346, 1356,\n",
       "         1358, 1361, 1367, 1370, 1371, 1374, 1378, 1390, 1405, 1416, 1418,\n",
       "         1428, 1429, 1437, 1440, 1444, 1451, 1458, 1464, 1476, 1479, 1505,\n",
       "         1510, 1511, 1512, 1516, 1531, 1543, 1553, 1557, 1567, 1568, 1574,\n",
       "         1576, 1583, 1585, 1591, 1600, 1602, 1618, 1633, 1634, 1643, 1655,\n",
       "         1656, 1662, 1665, 1671, 1676, 1682, 1699, 1704, 1705, 1709, 1711,\n",
       "         1714, 1718, 1731, 1733, 1739, 1743, 1746, 1750, 1753, 1755, 1764,\n",
       "         1769, 1770, 1775, 1779, 1786, 1788, 1793, 1797, 1800, 1809, 1811,\n",
       "         1821, 1831, 1839, 1841, 1842, 1843, 1853, 1861, 1867, 1868, 1877,\n",
       "         1886, 1889, 1901, 1904, 1910, 1912, 1923, 1932, 1935, 1940, 1948,\n",
       "         1952, 1954, 1955, 1963, 1969, 1971, 1972, 1974, 1975, 1976, 1978,\n",
       "         1980, 1984, 1985, 1989, 1997, 1998, 2002, 2003, 2004, 2007, 2014,\n",
       "         2020, 2021, 2023, 2036, 2041, 2042, 2044, 2047, 2050, 2057, 2058,\n",
       "         2060, 2061, 2063, 2067, 2071, 2075, 2076, 2080, 2081, 2082, 2083,\n",
       "         2086, 2089, 2090, 2094, 2100, 2109, 2110, 2112, 2116, 2120, 2122,\n",
       "         2131, 2134, 2137, 2138, 2140, 2143, 2145, 2147, 2151, 2153, 2154,\n",
       "         2160, 2184, 2187, 2191, 2192, 2196, 2198, 2199, 2200, 2202, 2203,\n",
       "         2207, 2208, 2212, 2220, 2228, 2232, 2233, 2235, 2237, 2239, 2246,\n",
       "         2252, 2255, 2262, 2266, 2272, 2280, 2285, 2286, 2287, 2291, 2304,\n",
       "         2305, 2310, 2319, 2324, 2332, 2337, 2339, 2342, 2355, 2363, 2364,\n",
       "         2366, 2370, 2371, 2380, 2381, 2391, 2393, 2397, 2398, 2406, 2407,\n",
       "         2411, 2412, 2428, 2431, 2436, 2439, 2441, 2443, 2449, 2452, 2460,\n",
       "         2467, 2475, 2478, 2479, 2484, 2485, 2493, 2500, 2503, 2505, 2507,\n",
       "         2512, 2514, 2519, 2521, 2522, 2531, 2534, 2540, 2541, 2546, 2551,\n",
       "         2557, 2563, 2564, 2568, 2571, 2585, 2591, 2593, 2595, 2596, 2598,\n",
       "         2602, 2612, 2613, 2615, 2621, 2622, 2626, 2642, 2649, 2652, 2664,\n",
       "         2683, 2685, 2687, 2699, 2707, 2718, 2719, 2732, 2733, 2745, 2747,\n",
       "         2757, 2758, 2762, 2776, 2779, 2783, 2789, 2792, 2794, 2800, 2809,\n",
       "         2810, 2817, 2818, 2819, 2821, 2822, 2826, 2841, 2845, 2846, 2848,\n",
       "         2850, 2857, 2859, 2862, 2865, 2871, 2873, 2874, 2875, 2879, 2882,\n",
       "         2893, 2898, 2899, 2901, 2903, 2906, 2908, 2912, 2915, 2922, 2924,\n",
       "         2925, 2927, 2933, 2939, 2942, 2945, 2947, 2951, 2954, 2960, 2969,\n",
       "         2984, 2985, 2986, 2992, 2993, 2998, 3001, 3004, 3010, 3020, 3026,\n",
       "         3030, 3032, 3034, 3038, 3043, 3044, 3051, 3055, 3057, 3060, 3061,\n",
       "         3065, 3068, 3073, 3088, 3092, 3101, 3103, 3106, 3107, 3112, 3114,\n",
       "         3120, 3123, 3124, 3132, 3133, 3143, 3145, 3155, 3162, 3166, 3176,\n",
       "         3181, 3186, 3192, 3200, 3202, 3203, 3205, 3217, 3221, 3228, 3231,\n",
       "         3232, 3240, 3247, 3249, 3250, 3251, 3256, 3257, 3259, 3276, 3283,\n",
       "         3292, 3298, 3299, 3301, 3306, 3307, 3311, 3314, 3318, 3321, 3322,\n",
       "         3324, 3326, 3327, 3329, 3336, 3340, 3354, 3361, 3362, 3365, 3372,\n",
       "         3376, 3391, 3395, 3406, 3413, 3418, 3435, 3437, 3438, 3442, 3444,\n",
       "         3445, 3459, 3464, 3470, 3471, 3475, 3484, 3487, 3500, 3502, 3508,\n",
       "         3510, 3514, 3518, 3523, 3524, 3525, 3535, 3537, 3542, 3547, 3558,\n",
       "         3561, 3565, 3569, 3588, 3594, 3604, 3607, 3613, 3616, 3618, 3621,\n",
       "         3622, 3624, 3626, 3628, 3631, 3639, 3649, 3651, 3654, 3656, 3665,\n",
       "         3667, 3674, 3675, 3680, 3683, 3689, 3693, 3703, 3704, 3709, 3714,\n",
       "         3716, 3732, 3733, 3738, 3742, 3747, 3748, 3754, 3755, 3757, 3760,\n",
       "         3770, 3772, 3775, 3778, 3790, 3794, 3799, 3803, 3814, 3818, 3824,\n",
       "         3832, 3840, 3843, 3864])),\n",
       " 5: (array([   0,    1,    2, ..., 3869, 3870, 3871]),\n",
       "  array([  14,   15,   18,   20,   25,   36,   42,   52,   63,   70,   71,\n",
       "           77,   86,   92,   95,   96,  100,  105,  109,  112,  114,  116,\n",
       "          118,  122,  129,  143,  144,  145,  150,  152,  153,  155,  162,\n",
       "          168,  174,  179,  183,  184,  197,  213,  214,  222,  225,  232,\n",
       "          235,  240,  243,  246,  247,  249,  252,  253,  263,  266,  269,\n",
       "          271,  272,  290,  296,  312,  313,  316,  317,  319,  324,  327,\n",
       "          333,  334,  337,  342,  343,  344,  356,  357,  362,  373,  376,\n",
       "          377,  378,  379,  391,  402,  405,  410,  411,  412,  413,  417,\n",
       "          423,  431,  450,  451,  454,  461,  465,  467,  469,  475,  489,\n",
       "          497,  505,  506,  515,  519,  522,  524,  532,  539,  542,  545,\n",
       "          552,  562,  564,  565,  566,  580,  591,  601,  606,  609,  611,\n",
       "          617,  621,  624,  626,  633,  637,  648,  651,  652,  656,  657,\n",
       "          658,  665,  667,  668,  676,  677,  684,  687,  690,  691,  695,\n",
       "          696,  704,  706,  714,  715,  716,  717,  721,  727,  728,  732,\n",
       "          734,  738,  753,  762,  770,  775,  794,  795,  803,  806,  811,\n",
       "          814,  818,  822,  832,  835,  837,  838,  843,  844,  848,  850,\n",
       "          856,  865,  869,  871,  873,  878,  879,  882,  883,  884,  886,\n",
       "          889,  897,  901,  903,  905,  907,  908,  910,  915,  928,  939,\n",
       "          944,  947,  949,  956,  960,  963,  964,  967,  971,  980,  989,\n",
       "          998,  999, 1018, 1019, 1022, 1025, 1031, 1033, 1042, 1046, 1049,\n",
       "         1052, 1061, 1062, 1063, 1067, 1072, 1075, 1076, 1088, 1095, 1096,\n",
       "         1099, 1106, 1107, 1110, 1111, 1113, 1121, 1133, 1137, 1150, 1154,\n",
       "         1155, 1160, 1168, 1170, 1174, 1175, 1182, 1187, 1191, 1192, 1200,\n",
       "         1202, 1207, 1214, 1235, 1251, 1253, 1254, 1258, 1261, 1275, 1277,\n",
       "         1278, 1284, 1288, 1295, 1300, 1303, 1306, 1309, 1311, 1312, 1313,\n",
       "         1321, 1324, 1327, 1332, 1337, 1345, 1350, 1360, 1366, 1368, 1372,\n",
       "         1376, 1383, 1389, 1393, 1411, 1420, 1423, 1424, 1425, 1431, 1434,\n",
       "         1439, 1445, 1449, 1455, 1460, 1465, 1469, 1472, 1473, 1474, 1478,\n",
       "         1484, 1485, 1486, 1491, 1492, 1493, 1495, 1499, 1521, 1522, 1523,\n",
       "         1527, 1528, 1530, 1538, 1547, 1560, 1571, 1572, 1580, 1581, 1582,\n",
       "         1590, 1594, 1598, 1612, 1615, 1616, 1619, 1620, 1622, 1627, 1630,\n",
       "         1632, 1635, 1638, 1639, 1640, 1666, 1667, 1679, 1686, 1689, 1692,\n",
       "         1693, 1694, 1700, 1706, 1712, 1715, 1717, 1722, 1738, 1740, 1741,\n",
       "         1745, 1752, 1756, 1757, 1762, 1763, 1771, 1774, 1795, 1798, 1799,\n",
       "         1801, 1803, 1806, 1820, 1824, 1830, 1834, 1835, 1838, 1840, 1844,\n",
       "         1845, 1849, 1869, 1871, 1874, 1876, 1878, 1879, 1880, 1883, 1887,\n",
       "         1888, 1890, 1898, 1914, 1920, 1927, 1936, 1939, 1942, 1949, 1968,\n",
       "         1979, 1981, 1982, 1983, 1996, 2012, 2025, 2033, 2052, 2055, 2069,\n",
       "         2072, 2077, 2091, 2092, 2103, 2125, 2127, 2141, 2144, 2148, 2171,\n",
       "         2172, 2176, 2178, 2180, 2186, 2189, 2195, 2197, 2205, 2210, 2214,\n",
       "         2216, 2218, 2219, 2221, 2222, 2224, 2230, 2244, 2247, 2251, 2254,\n",
       "         2257, 2258, 2260, 2261, 2265, 2267, 2269, 2277, 2278, 2283, 2288,\n",
       "         2302, 2309, 2311, 2321, 2326, 2327, 2335, 2365, 2376, 2382, 2386,\n",
       "         2394, 2400, 2405, 2408, 2413, 2417, 2419, 2432, 2442, 2445, 2446,\n",
       "         2450, 2464, 2465, 2468, 2477, 2486, 2488, 2492, 2498, 2499, 2502,\n",
       "         2504, 2506, 2516, 2518, 2523, 2524, 2525, 2533, 2536, 2537, 2547,\n",
       "         2548, 2549, 2556, 2559, 2561, 2562, 2565, 2566, 2574, 2581, 2587,\n",
       "         2588, 2590, 2592, 2599, 2617, 2628, 2631, 2634, 2636, 2638, 2643,\n",
       "         2648, 2653, 2658, 2663, 2666, 2669, 2674, 2675, 2678, 2690, 2693,\n",
       "         2705, 2714, 2716, 2729, 2737, 2754, 2760, 2763, 2770, 2780, 2787,\n",
       "         2788, 2791, 2795, 2797, 2799, 2804, 2806, 2808, 2829, 2831, 2832,\n",
       "         2835, 2836, 2840, 2843, 2844, 2853, 2877, 2880, 2884, 2892, 2895,\n",
       "         2897, 2910, 2919, 2923, 2937, 2944, 2949, 2953, 2955, 2958, 2959,\n",
       "         2962, 2965, 2976, 2980, 2981, 2982, 2994, 3002, 3006, 3011, 3012,\n",
       "         3013, 3015, 3021, 3022, 3023, 3029, 3036, 3046, 3047, 3049, 3050,\n",
       "         3069, 3082, 3087, 3094, 3098, 3100, 3102, 3104, 3109, 3110, 3115,\n",
       "         3125, 3127, 3136, 3139, 3149, 3159, 3168, 3170, 3174, 3184, 3185,\n",
       "         3187, 3188, 3199, 3209, 3212, 3230, 3234, 3235, 3236, 3238, 3241,\n",
       "         3260, 3263, 3265, 3267, 3270, 3280, 3284, 3286, 3287, 3302, 3303,\n",
       "         3310, 3312, 3320, 3325, 3328, 3334, 3342, 3343, 3347, 3351, 3353,\n",
       "         3359, 3360, 3364, 3367, 3368, 3374, 3382, 3387, 3394, 3397, 3402,\n",
       "         3404, 3405, 3410, 3412, 3423, 3424, 3425, 3428, 3439, 3446, 3452,\n",
       "         3453, 3456, 3460, 3462, 3465, 3466, 3480, 3481, 3490, 3496, 3520,\n",
       "         3527, 3529, 3530, 3536, 3538, 3546, 3548, 3550, 3557, 3559, 3562,\n",
       "         3564, 3572, 3576, 3580, 3592, 3606, 3610, 3614, 3615, 3620, 3629,\n",
       "         3632, 3633, 3637, 3638, 3640, 3642, 3644, 3647, 3648, 3655, 3663,\n",
       "         3664, 3671, 3673, 3678, 3692, 3694, 3702, 3715, 3717, 3718, 3721,\n",
       "         3725, 3726, 3727, 3737, 3739, 3744, 3750, 3762, 3763, 3769, 3771,\n",
       "         3779, 3786, 3787, 3791, 3795, 3800, 3804, 3805, 3806, 3808, 3813,\n",
       "         3816, 3828, 3831, 3834, 3835, 3837, 3839, 3841, 3842, 3844, 3846,\n",
       "         3851, 3862, 3865, 3868]))}"
      ]
     },
     "execution_count": 80,
     "metadata": {},
     "output_type": "execute_result"
    }
   ],
   "source": [
    "# The fold variable which splits the remainder data into 5 folds\n",
    "folds = KFold(n_splits=5, shuffle=True, random_state=1)\n",
    "\n",
    "# Storing folds\n",
    "fold_indexes = {fold + 1: (train_index, test_index)\n",
    "                for fold, (train_index, test_index) in enumerate(folds.split(X_remain))}\n",
    "\n",
    "# Sanity check\n",
    "fold_indexes"
   ]
  },
  {
   "cell_type": "code",
   "execution_count": 81,
   "metadata": {},
   "outputs": [
    {
     "name": "stdout",
     "output_type": "stream",
     "text": [
      "Training Size: (3097,) \n",
      "Validation_Size: (775,)\n"
     ]
    }
   ],
   "source": [
    "# Training and validation set overview\n",
    "print(f'Training Size: {fold_indexes[1][0].shape} \\nValidation_Size: {fold_indexes[1][1].shape}')"
   ]
  },
  {
   "cell_type": "markdown",
   "metadata": {},
   "source": [
    "| # of folds | training size | validation size |\n",
    "|:------------:|:---------------:|:-----------------:|\n",
    "| 5          | 3,097            | 775              |"
   ]
  },
  {
   "cell_type": "markdown",
   "metadata": {},
   "source": [
    "#### $C=10^{-6}$"
   ]
  },
  {
   "cell_type": "code",
   "execution_count": 82,
   "metadata": {},
   "outputs": [
    {
     "name": "stdout",
     "output_type": "stream",
     "text": [
      "Train Score: 0.7184912490544069 \n",
      "Cross Validation Score: 0.7184839543219139\n"
     ]
    }
   ],
   "source": [
    "# Instantiating a list of cross-validation scores\n",
    "cross_validation_scores = []\n",
    "\n",
    "# Average cross-train scores\n",
    "all_train_scores = []\n",
    "\n",
    "C_range = np.array([.000001,.00001,.0001,.001,0.01,\\\n",
    "                0.1,1,10,100,1000,10000,100000,1000000])\n",
    "\n",
    "# A list of training and validation scores for each hyperparameter C.\n",
    "train_scores = []\n",
    "val_scores = []\n",
    "\n",
    "# At C = .000001\n",
    "\n",
    "for fold in fold_indexes:\n",
    "    # Retrieving the train and validation scores at each fold\n",
    "    t_score = fold_scores(X_remain, y_remain, fold_indexes[fold][0], fold_indexes[fold][1], C=.000001)[0]\n",
    "    v_score = fold_scores(X_remain, y_remain, fold_indexes[fold][0], fold_indexes[fold][1], C=.000001)[1]\n",
    "    \n",
    "    # Appending the scores to the overall list\n",
    "    train_scores.append(t_score)\n",
    "    val_scores.append(v_score)\n",
    "\n",
    "# Taking the mean of all the validation and train scores for C = .000001 and adding it to our lists\n",
    "cross_validation_scores.append(np.mean(val_scores))\n",
    "all_train_scores.append(np.mean(train_scores))\n",
    "\n",
    "print(f'Train Score: {all_train_scores[-1]} \\nCross Validation Score: {cross_validation_scores[-1]}')"
   ]
  },
  {
   "cell_type": "markdown",
   "metadata": {},
   "source": [
    "***Cross Validation Scores at each C***: <br>\n",
    " \n",
    "| C | Train Score                                 | Cross Validation Score    | Penalty    |\n",
    "|-------|--------------------------------------------|-------|-------|\n",
    "|   $10^{-6}$   | 0.718                                     | 0.718 | L1 |"
   ]
  },
  {
   "cell_type": "markdown",
   "metadata": {},
   "source": [
    "#### $C=10^{-5}$"
   ]
  },
  {
   "cell_type": "code",
   "execution_count": 83,
   "metadata": {},
   "outputs": [
    {
     "name": "stdout",
     "output_type": "stream",
     "text": [
      "Train Score: 0.7184912490544069 \n",
      "Cross Validation Score: 0.7184839543219139\n"
     ]
    }
   ],
   "source": [
    "# A list of training and validation scores for each hyperparameter C.\n",
    "train_scores = []\n",
    "val_scores = []\n",
    "\n",
    "# At C = .00001\n",
    "\n",
    "for fold in fold_indexes:\n",
    "    # Retrieving the train and validation scores at each fold\n",
    "    t_score = fold_scores(X_remain, y_remain, fold_indexes[fold][0], fold_indexes[fold][1], C=.00001)[0]\n",
    "    v_score = fold_scores(X_remain, y_remain, fold_indexes[fold][0], fold_indexes[fold][1], C=.00001)[1]\n",
    "    \n",
    "    # Appending the scores to the overall list\n",
    "    train_scores.append(t_score)\n",
    "    val_scores.append(v_score)\n",
    "\n",
    "# Taking the mean of all the validation and train scores for C = .00001 and adding it to our lists\n",
    "cross_validation_scores.append(np.mean(val_scores))\n",
    "all_train_scores.append(np.mean(train_scores))\n",
    "\n",
    "print(f'Train Score: {all_train_scores[-1]} \\nCross Validation Score: {cross_validation_scores[-1]}')"
   ]
  },
  {
   "cell_type": "markdown",
   "metadata": {},
   "source": [
    "***Cross Validation Scores at each C***: <br>\n",
    " \n",
    "| C | Train Score                                 | Cross Validation Score    | Penalty    |\n",
    "|-------|--------------------------------------------|-------|-------|\n",
    "|   $10^{-6}$   | 0.718                                     | 0.718 | L1 |\n",
    "|   $10^{-5}$   | 0.718                                     | 0.718 | L1 |"
   ]
  },
  {
   "cell_type": "markdown",
   "metadata": {},
   "source": [
    "#### $C=10^{-4}$"
   ]
  },
  {
   "cell_type": "code",
   "execution_count": 84,
   "metadata": {},
   "outputs": [
    {
     "name": "stdout",
     "output_type": "stream",
     "text": [
      "Train Score: 0.7184912490544069 \n",
      "Cross Validation Score: 0.7184839543219139\n"
     ]
    }
   ],
   "source": [
    "# A list of training and validation scores for each hyperparameter C.\n",
    "train_scores = []\n",
    "val_scores = []\n",
    "\n",
    "# At C = .0001\n",
    "\n",
    "for fold in fold_indexes:\n",
    "    # Retrieving the train and validation scores at each fold\n",
    "    t_score = fold_scores(X_remain, y_remain, fold_indexes[fold][0], fold_indexes[fold][1], C=.0001)[0]\n",
    "    v_score = fold_scores(X_remain, y_remain, fold_indexes[fold][0], fold_indexes[fold][1], C=.0001)[1]\n",
    "    \n",
    "    # Appending the scores to the overall list\n",
    "    train_scores.append(t_score)\n",
    "    val_scores.append(v_score)\n",
    "\n",
    "# Taking the mean of all the validation and train scores for C = .0001 and adding it to our lists\n",
    "cross_validation_scores.append(np.mean(val_scores))\n",
    "all_train_scores.append(np.mean(train_scores))\n",
    "\n",
    "print(f'Train Score: {all_train_scores[-1]} \\nCross Validation Score: {cross_validation_scores[-1]}')"
   ]
  },
  {
   "cell_type": "markdown",
   "metadata": {},
   "source": [
    "***Cross Validation Scores at each C***: <br>\n",
    " \n",
    "| C | Train Score                                 | Cross Validation Score    | Penalty    |\n",
    "|-------|--------------------------------------------|-------|-------|\n",
    "|   $10^{-6}$   | 0.718                                     | 0.718 | L1 |\n",
    "|   $10^{-5}$   | 0.718                                     | 0.718 | L1 |\n",
    "|   $10^{-4}$   | 0.718                                     | 0.718 | L1 |"
   ]
  },
  {
   "cell_type": "markdown",
   "metadata": {},
   "source": [
    "#### C = $10^{-3}$"
   ]
  },
  {
   "cell_type": "code",
   "execution_count": 85,
   "metadata": {},
   "outputs": [
    {
     "name": "stdout",
     "output_type": "stream",
     "text": [
      "Train Score: 0.7184912490544069 \n",
      "Cross Validation Score: 0.7184839543219139\n"
     ]
    }
   ],
   "source": [
    "# A list of training and validation scores for each hyperparameter C.\n",
    "train_scores = []\n",
    "val_scores = []\n",
    "\n",
    "# At C = .001\n",
    "\n",
    "for fold in fold_indexes:\n",
    "    # Retrieving the train and validation scores at each fold\n",
    "    t_score = fold_scores(X_remain, y_remain, fold_indexes[fold][0], fold_indexes[fold][1], C=.001)[0]\n",
    "    v_score = fold_scores(X_remain, y_remain, fold_indexes[fold][0], fold_indexes[fold][1], C=.001)[1]\n",
    "    \n",
    "    # Appending the scores to the overall list\n",
    "    train_scores.append(t_score)\n",
    "    val_scores.append(v_score)\n",
    "\n",
    "# Taking the mean of all the validation and train scores for C = .001 and adding it to our lists\n",
    "cross_validation_scores.append(np.mean(val_scores))\n",
    "all_train_scores.append(np.mean(train_scores))\n",
    "\n",
    "print(f'Train Score: {all_train_scores[-1]} \\nCross Validation Score: {cross_validation_scores[-1]}')"
   ]
  },
  {
   "cell_type": "markdown",
   "metadata": {},
   "source": [
    "***Cross Validation Scores at each C***: <br>\n",
    " \n",
    "| C | Train Score                                 | Cross Validation Score    | Penalty    |\n",
    "|-------|--------------------------------------------|-------|-------|\n",
    "|   $10^{-6}$   | 0.718                                     | 0.718 | L1 |\n",
    "|   $10^{-5}$   | 0.718                                     | 0.718 | L1 |\n",
    "|   $10^{-4}$   | 0.718                                     | 0.718 | L1 |\n",
    "|   $10^{-3}$   | 0.718                                     | 0.718 | L1 |"
   ]
  },
  {
   "cell_type": "markdown",
   "metadata": {},
   "source": [
    "#### $C=10^{-2}$"
   ]
  },
  {
   "cell_type": "code",
   "execution_count": 86,
   "metadata": {},
   "outputs": [
    {
     "name": "stdout",
     "output_type": "stream",
     "text": [
      "Train Score: 0.7184912490544069 \n",
      "Cross Validation Score: 0.7184839543219139\n"
     ]
    }
   ],
   "source": [
    "# A list of training and validation scores for each hyperparameter C.\n",
    "train_scores = []\n",
    "val_scores = []\n",
    "\n",
    "# At C = 0.01\n",
    "\n",
    "for fold in fold_indexes:\n",
    "    # Retrieving the train and validation scores at each fold\n",
    "    t_score = fold_scores(X_remain, y_remain, fold_indexes[fold][0], fold_indexes[fold][1], C=0.01)[0]\n",
    "    v_score = fold_scores(X_remain, y_remain, fold_indexes[fold][0], fold_indexes[fold][1], C=0.01)[1]\n",
    "    \n",
    "    # Appending the scores to the overall list\n",
    "    train_scores.append(t_score)\n",
    "    val_scores.append(v_score)\n",
    "\n",
    "# Taking the mean of all the validation and train scores for C = 0.01 and adding it to our lists\n",
    "cross_validation_scores.append(np.mean(val_scores))\n",
    "all_train_scores.append(np.mean(train_scores))\n",
    "\n",
    "print(f'Train Score: {all_train_scores[-1]} \\nCross Validation Score: {cross_validation_scores[-1]}')"
   ]
  },
  {
   "cell_type": "markdown",
   "metadata": {},
   "source": [
    "***Cross Validation Scores at each C***: <br>\n",
    " \n",
    "| C | Train Score                                 | Cross Validation Score    | Penalty    |\n",
    "|-------|--------------------------------------------|-------|-------|\n",
    "|   $10^{-6}$   | 0.718                                     | 0.718 | L1 |\n",
    "|   $10^{-5}$   | 0.718                                     | 0.718 | L1 |\n",
    "|   $10^{-4}$   | 0.718                                     | 0.718 | L1 |\n",
    "|   $10^{-3}$   | 0.718                                     | 0.718 | L1 |\n",
    "|   $10^{-2}$   | 0.718                                    | 0.718 | L1 |"
   ]
  },
  {
   "cell_type": "markdown",
   "metadata": {},
   "source": [
    "#### $C=10^{-1}$"
   ]
  },
  {
   "cell_type": "code",
   "execution_count": 87,
   "metadata": {},
   "outputs": [
    {
     "name": "stdout",
     "output_type": "stream",
     "text": [
      "Train Score: 0.7687887213786724 \n",
      "Cross Validation Score: 0.7587770275902309\n"
     ]
    }
   ],
   "source": [
    "# A list of training and validation scores for each hyperparameter C.\n",
    "train_scores = []\n",
    "val_scores = []\n",
    "\n",
    "# At C = 0.1\n",
    "\n",
    "for fold in fold_indexes:\n",
    "    # Retrieving the train and validation scores at each fold\n",
    "    t_score = fold_scores(X_remain, y_remain, fold_indexes[fold][0], fold_indexes[fold][1], C=0.1)[0]\n",
    "    v_score = fold_scores(X_remain, y_remain, fold_indexes[fold][0], fold_indexes[fold][1], C=0.1)[1]\n",
    "    \n",
    "    # Appending the scores to the overall list\n",
    "    train_scores.append(t_score)\n",
    "    val_scores.append(v_score)\n",
    "\n",
    "# Taking the mean of all the validation and train scores for C = 0.1 and adding it to our lists\n",
    "cross_validation_scores.append(np.mean(val_scores))\n",
    "all_train_scores.append(np.mean(train_scores))\n",
    "\n",
    "print(f'Train Score: {all_train_scores[-1]} \\nCross Validation Score: {cross_validation_scores[-1]}')"
   ]
  },
  {
   "cell_type": "markdown",
   "metadata": {},
   "source": [
    "***Cross Validation Scores at each C***: <br>\n",
    " \n",
    "| C | Train Score                                 | Cross Validation Score    | Penalty    |\n",
    "|-------|--------------------------------------------|-------|-------|\n",
    "|   $10^{-6}$   | 0.718                                     | 0.718 | L1 |\n",
    "|   $10^{-5}$   | 0.718                                     | 0.718 | L1 |\n",
    "|   $10^{-4}$   | 0.718                                     | 0.718 | L1 |\n",
    "|   $10^{-3}$   | 0.718                                     | 0.718 | L1 |\n",
    "|   $10^{-2}$   | 0.718                                    | 0.718 | L1 |\n",
    "|   $10^{-1}$   | 0.769                                     | 0.759 | L1 |"
   ]
  },
  {
   "cell_type": "markdown",
   "metadata": {},
   "source": [
    "#### $C=10^{0}$"
   ]
  },
  {
   "cell_type": "code",
   "execution_count": 88,
   "metadata": {},
   "outputs": [
    {
     "name": "stdout",
     "output_type": "stream",
     "text": [
      "Train Score: 0.9006329872533302 \n",
      "Cross Validation Score: 0.8073338334583646\n"
     ]
    }
   ],
   "source": [
    "# A list of training and validation scores for each hyperparameter C.\n",
    "train_scores = []\n",
    "val_scores = []\n",
    "\n",
    "# At C = 1\n",
    "\n",
    "for fold in fold_indexes:\n",
    "    # Retrieving the train and validation scores at each fold\n",
    "    t_score = fold_scores(X_remain, y_remain, fold_indexes[fold][0], fold_indexes[fold][1], C=1)[0]\n",
    "    v_score = fold_scores(X_remain, y_remain, fold_indexes[fold][0], fold_indexes[fold][1], C=1)[1]\n",
    "    \n",
    "    # Appending the scores to the overall list\n",
    "    train_scores.append(t_score)\n",
    "    val_scores.append(v_score)\n",
    "\n",
    "# Taking the mean of all the validation and train scores for C = 1 and adding it to our lists\n",
    "cross_validation_scores.append(np.mean(val_scores))\n",
    "all_train_scores.append(np.mean(train_scores))\n",
    "\n",
    "print(f'Train Score: {all_train_scores[-1]} \\nCross Validation Score: {cross_validation_scores[-1]}')"
   ]
  },
  {
   "cell_type": "markdown",
   "metadata": {},
   "source": [
    "***Cross Validation Scores at each C***: <br>\n",
    " \n",
    "| C | Train Score                                 | Cross Validation Score    | Penalty    |\n",
    "|-------|--------------------------------------------|-------|-------|\n",
    "|   $10^{-6}$   | 0.718                                     | 0.718 | L1 |\n",
    "|   $10^{-5}$   | 0.718                                     | 0.718 | L1 |\n",
    "|   $10^{-4}$   | 0.718                                     | 0.718 | L1 |\n",
    "|   $10^{-3}$   | 0.718                                     | 0.718 | L1 |\n",
    "|   $10^{-2}$   | 0.718                                    | 0.718 | L1 |\n",
    "|   $10^{-1}$   | 0.769                                     | 0.759 | L1 |\n",
    "|   $10^0$   | 0.901                                     | 0.807 | L1 |"
   ]
  },
  {
   "cell_type": "markdown",
   "metadata": {},
   "source": [
    "#### $C=10^1$"
   ]
  },
  {
   "cell_type": "code",
   "execution_count": 89,
   "metadata": {},
   "outputs": [
    {
     "name": "stdout",
     "output_type": "stream",
     "text": [
      "Train Score: 0.9925103804197946 \n",
      "Cross Validation Score: 0.7587813620071684\n"
     ]
    }
   ],
   "source": [
    "# A list of training and validation scores for each hyperparameter C.\n",
    "train_scores = []\n",
    "val_scores = []\n",
    "\n",
    "# At C = 10\n",
    "\n",
    "for fold in fold_indexes:\n",
    "    # Retrieving the train and validation scores at each fold\n",
    "    t_score = fold_scores(X_remain, y_remain, fold_indexes[fold][0], fold_indexes[fold][1], C=10)[0]\n",
    "    v_score = fold_scores(X_remain, y_remain, fold_indexes[fold][0], fold_indexes[fold][1], C=10)[1]\n",
    "    \n",
    "    # Appending the scores to the overall list\n",
    "    train_scores.append(t_score)\n",
    "    val_scores.append(v_score)\n",
    "\n",
    "# Taking the mean of all the validation and train scores for C = 10 and adding it to our lists\n",
    "cross_validation_scores.append(np.mean(val_scores))\n",
    "all_train_scores.append(np.mean(train_scores))\n",
    "\n",
    "print(f'Train Score: {all_train_scores[-1]} \\nCross Validation Score: {cross_validation_scores[-1]}')"
   ]
  },
  {
   "cell_type": "markdown",
   "metadata": {},
   "source": [
    "***Cross Validation Scores at each C***: <br>\n",
    " \n",
    "| C | Train Score                                 | Cross Validation Score    | Penalty    |\n",
    "|-------|--------------------------------------------|-------|-------|\n",
    "|   $10^{-6}$   | 0.718                                     | 0.718 | L1 |\n",
    "|   $10^{-5}$   | 0.718                                     | 0.718 | L1 |\n",
    "|   $10^{-4}$   | 0.718                                     | 0.718 | L1 |\n",
    "|   $10^{-3}$   | 0.718                                     | 0.718 | L1 |\n",
    "|   $10^{-2}$   | 0.718                                    | 0.718 | L1 |\n",
    "|   $10^{-1}$   | 0.769                                     | 0.759 | L1 |\n",
    "|   $10^0$   | 0.901                                     | 0.807 | L1 |\n",
    "|   $10^1$   | 0.993                                    | 0.759 | L1 |"
   ]
  },
  {
   "cell_type": "markdown",
   "metadata": {},
   "source": [
    "#### $C=10^2$"
   ]
  },
  {
   "cell_type": "code",
   "execution_count": 90,
   "metadata": {},
   "outputs": [
    {
     "name": "stdout",
     "output_type": "stream",
     "text": [
      "Train Score: 0.9976109869544091 \n",
      "Cross Validation Score: 0.7396735850629325\n"
     ]
    }
   ],
   "source": [
    "# A list of training and validation scores for each hyperparameter C.\n",
    "train_scores = []\n",
    "val_scores = []\n",
    "\n",
    "# At C = 100\n",
    "\n",
    "for fold in fold_indexes:\n",
    "    # Retrieving the train and validation scores at each fold\n",
    "    t_score = fold_scores(X_remain, y_remain, fold_indexes[fold][0], fold_indexes[fold][1], C=100)[0]\n",
    "    v_score = fold_scores(X_remain, y_remain, fold_indexes[fold][0], fold_indexes[fold][1], C=100)[1]\n",
    "    \n",
    "    # Appending the scores to the overall list\n",
    "    train_scores.append(t_score)\n",
    "    val_scores.append(v_score)\n",
    "\n",
    "# Taking the mean of all the validation and train scores for C = 100 and adding it to our lists\n",
    "cross_validation_scores.append(np.mean(val_scores))\n",
    "all_train_scores.append(np.mean(train_scores))\n",
    "\n",
    "print(f'Train Score: {all_train_scores[-1]} \\nCross Validation Score: {cross_validation_scores[-1]}')"
   ]
  },
  {
   "cell_type": "markdown",
   "metadata": {},
   "source": [
    "***Cross Validation Scores at each C***: <br>\n",
    " \n",
    "| C | Train Score                                 | Cross Validation Score    | Penalty    |\n",
    "|-------|--------------------------------------------|-------|-------|\n",
    "|   $10^{-6}$   | 0.718                                     | 0.718 | L1 |\n",
    "|   $10^{-5}$   | 0.718                                     | 0.718 | L1 |\n",
    "|   $10^{-4}$   | 0.718                                     | 0.718 | L1 |\n",
    "|   $10^{-3}$   | 0.718                                     | 0.718 | L1 |\n",
    "|   $10^{-2}$   | 0.718                                    | 0.718 | L1 |\n",
    "|   $10^{-1}$   | 0.769                                     | 0.759 | L1 |\n",
    "|   $10^0$   | 0.901                                     | 0.807 | L1 |\n",
    "|   $10^1$   | 0.993                                    | 0.759 | L1 |\n",
    "|   $10^2$   | 0.998                                    | 0.740 | L1 |"
   ]
  },
  {
   "cell_type": "markdown",
   "metadata": {},
   "source": [
    "#### $C=10^3$"
   ]
  },
  {
   "cell_type": "code",
   "execution_count": 91,
   "metadata": {},
   "outputs": [
    {
     "name": "stdout",
     "output_type": "stream",
     "text": [
      "Train Score: 0.9992897810476119 \n",
      "Cross Validation Score: 0.7241813786780028\n"
     ]
    }
   ],
   "source": [
    "# A list of training and validation scores for each hyperparameter C.\n",
    "train_scores = []\n",
    "val_scores = []\n",
    "\n",
    "# At C = 1000\n",
    "\n",
    "for fold in fold_indexes:\n",
    "    # Retrieving the train and validation scores at each fold\n",
    "    t_score = fold_scores(X_remain, y_remain, fold_indexes[fold][0], fold_indexes[fold][1], C=1000)[0]\n",
    "    v_score = fold_scores(X_remain, y_remain, fold_indexes[fold][0], fold_indexes[fold][1], C=1000)[1]\n",
    "    \n",
    "    # Appending the scores to the overall list\n",
    "    train_scores.append(t_score)\n",
    "    val_scores.append(v_score)\n",
    "\n",
    "# Taking the mean of all the validation and train scores for C = 1000 and adding it to our lists\n",
    "cross_validation_scores.append(np.mean(val_scores))\n",
    "all_train_scores.append(np.mean(train_scores))\n",
    "\n",
    "print(f'Train Score: {all_train_scores[-1]} \\nCross Validation Score: {cross_validation_scores[-1]}')"
   ]
  },
  {
   "cell_type": "markdown",
   "metadata": {},
   "source": [
    "***Cross Validation Scores at each C***: <br>\n",
    " \n",
    "| C | Train Score                                 | Cross Validation Score    | Penalty    |\n",
    "|-------|--------------------------------------------|-------|-------|\n",
    "|   $10^{-6}$   | 0.718                                     | 0.718 | L1 |\n",
    "|   $10^{-5}$   | 0.718                                     | 0.718 | L1 |\n",
    "|   $10^{-4}$   | 0.718                                     | 0.718 | L1 |\n",
    "|   $10^{-3}$   | 0.718                                     | 0.718 | L1 |\n",
    "|   $10^{-2}$   | 0.718                                    | 0.718 | L1 |\n",
    "|   $10^{-1}$   | 0.769                                     | 0.759 | L1 |\n",
    "|   $10^0$   | 0.901                                     | 0.807 | L1 |\n",
    "|   $10^1$   | 0.993                                    | 0.759 | L1 |\n",
    "|   $10^2$   | 0.998                                    | 0.740 | L1 |\n",
    "|   $10^3$   | 0.999                                    | 0.724 | L1 |"
   ]
  },
  {
   "cell_type": "markdown",
   "metadata": {},
   "source": [
    "#### $C=10^4$"
   ]
  },
  {
   "cell_type": "code",
   "execution_count": 92,
   "metadata": {},
   "outputs": [
    {
     "name": "stdout",
     "output_type": "stream",
     "text": [
      "Train Score: 0.999483496075775 \n",
      "Cross Validation Score: 0.7048145369675753\n"
     ]
    }
   ],
   "source": [
    "# A list of training and validation scores for each hyperparameter C.\n",
    "train_scores = []\n",
    "val_scores = []\n",
    "\n",
    "# At C = 10000\n",
    "\n",
    "for fold in fold_indexes:\n",
    "    # Retrieving the train and validation scores at each fold\n",
    "    t_score = fold_scores(X_remain, y_remain, fold_indexes[fold][0], fold_indexes[fold][1], C=10000)[0]\n",
    "    v_score = fold_scores(X_remain, y_remain, fold_indexes[fold][0], fold_indexes[fold][1], C=10000)[1]\n",
    "    \n",
    "    # Appending the scores to the overall list\n",
    "    train_scores.append(t_score)\n",
    "    val_scores.append(v_score)\n",
    "\n",
    "# Taking the mean of all the validation and train scores for C = 10000 and adding it to our lists\n",
    "cross_validation_scores.append(np.mean(val_scores))\n",
    "all_train_scores.append(np.mean(train_scores))\n",
    "\n",
    "print(f'Train Score: {all_train_scores[-1]} \\nCross Validation Score: {cross_validation_scores[-1]}')"
   ]
  },
  {
   "cell_type": "markdown",
   "metadata": {},
   "source": [
    "***Cross Validation Scores at each C***: <br>\n",
    " \n",
    "| C | Train Score                                 | Cross Validation Score    | Penalty    |\n",
    "|-------|--------------------------------------------|-------|-------|\n",
    "|   $10^{-6}$   | 0.718                                     | 0.718 | L1 |\n",
    "|   $10^{-5}$   | 0.718                                     | 0.718 | L1 |\n",
    "|   $10^{-4}$   | 0.718                                     | 0.718 | L1 |\n",
    "|   $10^{-3}$   | 0.718                                     | 0.718 | L1 |\n",
    "|   $10^{-2}$   | 0.718                                    | 0.718 | L1 |\n",
    "|   $10^{-1}$   | 0.769                                     | 0.759 | L1 |\n",
    "|   $10^0$   | 0.901                                     | 0.807 | L1 |\n",
    "|   $10^1$   | 0.993                                    | 0.759 | L1 |\n",
    "|   $10^2$   | 0.998                                    | 0.740 | L1 |\n",
    "|   $10^3$   | 0.999                                    | 0.724 | L1 |\n",
    "|   $10^4$   | 0.999                                    | 0.705 | L1 |"
   ]
  },
  {
   "cell_type": "markdown",
   "metadata": {},
   "source": [
    "#### $C=10^5$"
   ]
  },
  {
   "cell_type": "code",
   "execution_count": 93,
   "metadata": {},
   "outputs": [
    {
     "name": "stdout",
     "output_type": "stream",
     "text": [
      "Train Score: 0.999483496075775 \n",
      "Cross Validation Score: 0.7058424606151539\n"
     ]
    }
   ],
   "source": [
    "# A list of training and validation scores for each hyperparameter C.\n",
    "train_scores = []\n",
    "val_scores = []\n",
    "\n",
    "# At C = 100000\n",
    "\n",
    "for fold in fold_indexes:\n",
    "    # Retrieving the train and validation scores at each fold\n",
    "    t_score = fold_scores(X_remain, y_remain, fold_indexes[fold][0], fold_indexes[fold][1], C=100000)[0]\n",
    "    v_score = fold_scores(X_remain, y_remain, fold_indexes[fold][0], fold_indexes[fold][1], C=100000)[1]\n",
    "    \n",
    "    # Appending the scores to the overall list\n",
    "    train_scores.append(t_score)\n",
    "    val_scores.append(v_score)\n",
    "\n",
    "# Taking the mean of all the validation and train scores for C = 100000 and adding it to our lists\n",
    "cross_validation_scores.append(np.mean(val_scores))\n",
    "all_train_scores.append(np.mean(train_scores))\n",
    "\n",
    "print(f'Train Score: {all_train_scores[-1]} \\nCross Validation Score: {cross_validation_scores[-1]}')"
   ]
  },
  {
   "cell_type": "markdown",
   "metadata": {},
   "source": [
    "***Cross Validation Scores at each C***: <br>\n",
    " \n",
    "| C | Train Score                                 | Cross Validation Score    | Penalty    |\n",
    "|-------|--------------------------------------------|-------|-------|\n",
    "|   $10^{-6}$   | 0.718                                     | 0.718 | L1 |\n",
    "|   $10^{-5}$   | 0.718                                     | 0.718 | L1 |\n",
    "|   $10^{-4}$   | 0.718                                     | 0.718 | L1 |\n",
    "|   $10^{-3}$   | 0.718                                     | 0.718 | L1 |\n",
    "|   $10^{-2}$   | 0.718                                    | 0.718 | L1 |\n",
    "|   $10^{-1}$   | 0.769                                     | 0.759 | L1 |\n",
    "|   $10^0$   | 0.901                                     | 0.807 | L1 |\n",
    "|   $10^1$   | 0.993                                    | 0.759 | L1 |\n",
    "|   $10^2$   | 0.998                                    | 0.740 | L1 |\n",
    "|   $10^3$   | 0.999                                    | 0.724 | L1 |\n",
    "|   $10^4$   | 0.999                                    | 0.705 | L1 |\n",
    "|   $10^5$   | 0.999                                    | 0.706 | L1 |"
   ]
  },
  {
   "cell_type": "markdown",
   "metadata": {},
   "source": [
    "#### $C=10^6$"
   ]
  },
  {
   "cell_type": "code",
   "execution_count": 94,
   "metadata": {},
   "outputs": [
    {
     "name": "stdout",
     "output_type": "stream",
     "text": [
      "Train Score: 0.999483496075775 \n",
      "Cross Validation Score: 0.6957719429857464\n"
     ]
    }
   ],
   "source": [
    "# A list of training and validation scores for each hyperparameter C.\n",
    "train_scores = []\n",
    "val_scores = []\n",
    "\n",
    "# At C = 1000000\n",
    "\n",
    "for fold in fold_indexes:\n",
    "    # Retrieving the train and validation scores at each fold\n",
    "    t_score = fold_scores(X_remain, y_remain, fold_indexes[fold][0], fold_indexes[fold][1], C=1000000)[0]\n",
    "    v_score = fold_scores(X_remain, y_remain, fold_indexes[fold][0], fold_indexes[fold][1], C=1000000)[1]\n",
    "    \n",
    "    # Appending the scores to the overall list\n",
    "    train_scores.append(t_score)\n",
    "    val_scores.append(v_score)\n",
    "\n",
    "# Taking the mean of all the validation and train scores for C = 1000000 and adding it to our lists\n",
    "cross_validation_scores.append(np.mean(val_scores))\n",
    "all_train_scores.append(np.mean(train_scores))\n",
    "\n",
    "print(f'Train Score: {all_train_scores[-1]} \\nCross Validation Score: {cross_validation_scores[-1]}')"
   ]
  },
  {
   "cell_type": "markdown",
   "metadata": {},
   "source": [
    "***Cross Validation Scores at each C***: <br>\n",
    " \n",
    "| C | Train Score                                 | Cross Validation Score    | Penalty    |\n",
    "|-------|--------------------------------------------|-------|-------|\n",
    "|   $10^{-6}$   | 0.718                                     | 0.718 | L1 |\n",
    "|   $10^{-5}$   | 0.718                                     | 0.718 | L1 |\n",
    "|   $10^{-4}$   | 0.718                                     | 0.718 | L1 |\n",
    "|   $10^{-3}$   | 0.718                                     | 0.718 | L1 |\n",
    "|   $10^{-2}$   | 0.718                                    | 0.718 | L1 |\n",
    "|   $10^{-1}$   | 0.769                                     | 0.759 | L1 |\n",
    "|   $10^0$   | 0.901                                     | 0.807 | L1 |\n",
    "|   $10^1$   | 0.993                                    | 0.759 | L1 |\n",
    "|   $10^2$   | 0.998                                    | 0.740 | L1 |\n",
    "|   $10^3$   | 0.999                                    | 0.724 | L1 |\n",
    "|   $10^4$   | 0.999                                    | 0.705 | L1 |\n",
    "|   $10^5$   | 0.999                                    | 0.706 | L1 |\n",
    "|   $10^6$   | 0.999                                    | 0.696 | L1 |"
   ]
  },
  {
   "cell_type": "markdown",
   "metadata": {},
   "source": [
    "### Choosing the best Logistic Regression Model"
   ]
  },
  {
   "cell_type": "code",
   "execution_count": 103,
   "metadata": {},
   "outputs": [
    {
     "data": {
      "image/png": "[encoded data removed]",
      "text/plain": [
       "<Figure size 640x480 with 1 Axes>"
      ]
     },
     "metadata": {},
     "output_type": "display_data"
    }
   ],
   "source": [
    "\n",
    "# Plotting results\n",
    "\n",
    "C_range = np.array([.000001,.00001,.0001,.001,0.01,\\\n",
    "                0.1,1,10,100,1000,10000,100000,1000000])\n",
    "\n",
    "plt.figure()\n",
    "plt.plot(C_range, all_train_scores, label='Train Score', marker='.')\n",
    "plt.plot(C_range, cross_validation_scores, label='Validation Scores', marker='.')\n",
    "plt.xlabel('C')\n",
    "plt.ylabel('Accuracy')\n",
    "plt.xscale('log')\n",
    "plt.axvline(0.1, linestyle='--', alpha=0.5, color='black')\n",
    "plt.grid()\n",
    "plt.legend()\n",
    "plt.show()"
   ]
  },
  {
   "cell_type": "markdown",
   "metadata": {},
   "source": [
    "Here we can see that the highest validation accuracy is when $C=1$. However, the model is severely overfitting with train score at 0.993 and validation score at 0.759. The closest point from $C=10$ where train and validation accuracy is closest is $C=10^{-1}$. Here the model gives us comparable poerformance with train score being 0.769 and validation score being 0.759.\n",
    "\n",
    "Now I will fit the Logistic Regresion Model where $C=10^{-1}$ and $Penalty=L1$"
   ]
  },
  {
   "cell_type": "code",
   "execution_count": 104,
   "metadata": {},
   "outputs": [
    {
     "name": "stdout",
     "output_type": "stream",
     "text": [
      "Train Score: 0.7778925619834711 \n",
      "Test Score: 0.7820247933884298\n"
     ]
    }
   ],
   "source": [
    "LR_model = LogisticRegression(solver='liblinear', penalty='l1', C=0.1, max_iter=10000, random_state=1)\n",
    "LR_model.fit(X_remain, y_remain)\n",
    "\n",
    "# Train score\n",
    "LR_model_train_score = LR_model.score(X_remain, y_remain)\n",
    "\n",
    "# Test score\n",
    "LR_model_test_score = LR_model.score(X_test, y_test)\n",
    "\n",
    "print(f'Train Score: {LR_model_train_score} \\nTest Score: {LR_model_test_score}')"
   ]
  },
  {
   "cell_type": "markdown",
   "metadata": {},
   "source": [
    "The best logistic regression model is as follows:\n",
    "\n",
    "| C | Penalty                                 | Cross Validation Score    | Train Score    | Test Score    |\n",
    "|-------|--------------------------------------------|-------|-------|-------|\n",
    "| $10^{-1}$   | L1     | 0.759 | 0.778  | 0.782   |"
   ]
  },
  {
   "cell_type": "code",
   "execution_count": 55,
   "metadata": {},
   "outputs": [],
   "source": [
    "train_scores = []\n",
    "test_scores = []\n",
    "\n",
    "C_range = np.array([.000001,.00001,.0001,.001,0.01,\\\n",
    "                0.1,1,10,100,1000,10000,100000,1000000])\n",
    "\n",
    "for C in C_range:\n",
    "    LR_model = LogisticRegression(solver='liblinear', penalty='l1', C=C, max_iter=10000, random_state=1)\n",
    "    LR_model.fit(X_remain, y_remain)\n",
    "    \n",
    "    # Train Score\n",
    "    train_scores.append(LR_model.score(X_remain, y_remain))\n",
    "    test_scores.append(LR_model.score(X_test, y_test))"
   ]
  },
  {
   "cell_type": "code",
   "execution_count": 75,
   "metadata": {},
   "outputs": [
    {
     "data": {
      "image/png": "[encoded data removed]",
      "text/plain": [
       "<Figure size 640x480 with 1 Axes>"
      ]
     },
     "metadata": {},
     "output_type": "display_data"
    }
   ],
   "source": [
    "C_range = np.array([.000001,.00001,.0001,.001,0.01,\\\n",
    "                0.1,1,10,100,1000,10000,100000,1000000])\n",
    "\n",
    "plt.figure()\n",
    "plt.plot(C_range, train_scores, label='Train Score', marker='.')\n",
    "plt.plot(C_range, test_scores, label='Test Scores', marker='.')\n",
    "plt.xlabel('C')\n",
    "plt.ylabel('Accuracy')\n",
    "plt.xscale('log')\n",
    "plt.grid()\n",
    "plt.legend()\n",
    "plt.show()"
   ]
  },
  {
   "cell_type": "markdown",
   "metadata": {},
   "source": [
    "## Decision Tree"
   ]
  },
  {
   "cell_type": "code",
   "execution_count": 112,
   "metadata": {},
   "outputs": [],
   "source": [
    "# Train/Test Split\n",
    "X_remain, X_test, y_remain, y_test = train_test_split(X_bow, y, test_size=0.2, stratify=y, random_state=1)\n",
    "\n",
    "depths = list(range(1, int(np.sqrt(len(X_remain)))))\n",
    "\n",
    "cross_validation_scores_DT = []\n",
    "all_train_scores_DT = []\n",
    "\n",
    "for depth in depths:\n",
    "    DT = DecisionTreeClassifier(max_depth=depth, random_state=1)\n",
    "    \n",
    "    # Train and cross validation scores\n",
    "    cv_score = np.mean(cross_validate(DT, X_remain, y_remain, cv=5, return_train_score=True)['test_score'])\n",
    "    train_score = np.mean(cross_validate(DT, X_remain, y_remain, cv=5, return_train_score=True)['train_score'])\n",
    "    \n",
    "    # Append to overall list\n",
    "    cross_validation_scores_DT.append(cv_score)\n",
    "    all_train_scores_DT.append(train_score)"
   ]
  },
  {
   "cell_type": "code",
   "execution_count": 113,
   "metadata": {},
   "outputs": [
    {
     "data": {
      "image/png": "[encoded data removed]",
      "text/plain": [
       "<Figure size 640x480 with 1 Axes>"
      ]
     },
     "metadata": {},
     "output_type": "display_data"
    }
   ],
   "source": [
    "plt.figure()\n",
    "plt.plot(depths, all_train_scores_DT, label=\"Train Score\", marker=\".\")\n",
    "plt.plot(depths, cross_validation_scores_DT, label=\"Validation Score\", marker=\".\")\n",
    "plt.xlabel(\"Max Depth\")\n",
    "plt.ylabel(\"Accuracy\")\n",
    "plt.grid()\n",
    "plt.legend()\n",
    "plt.show()"
   ]
  },
  {
   "cell_type": "code",
   "execution_count": 114,
   "metadata": {},
   "outputs": [
    {
     "data": {
      "text/plain": [
       "0.7812509794115196"
      ]
     },
     "execution_count": 114,
     "metadata": {},
     "output_type": "execute_result"
    }
   ],
   "source": [
    "# Cross Validation Score\n",
    "DT = DecisionTreeClassifier(max_depth=11, random_state=1)\n",
    "cross_val_score = np.mean(cross_validate(DT, X_remain, y_remain, cv=5)['test_score'])\n",
    "cross_val_score"
   ]
  },
  {
   "cell_type": "code",
   "execution_count": 115,
   "metadata": {},
   "outputs": [
    {
     "name": "stdout",
     "output_type": "stream",
     "text": [
      "Train Score: 0.8029442148760331 \n",
      "Test Score: 0.8099173553719008\n"
     ]
    }
   ],
   "source": [
    "DT = DecisionTreeClassifier(max_depth=11, random_state=1)\n",
    "DT.fit(X_remain, y_remain)\n",
    "\n",
    "# Scores\n",
    "DT_train_score = DT.score(X_remain, y_remain)\n",
    "DT_test_score = DT.score(X_test, y_test)\n",
    "\n",
    "print(f'Train Score: {DT_train_score} \\nTest Score: {DT_test_score}')"
   ]
  },
  {
   "cell_type": "markdown",
   "metadata": {},
   "source": [
    "The best Decision Tree model is as follows:\n",
    "\n",
    "| Max Depth | Cross Validation Score    | Train Score    | Test Score    |\n",
    "|-------|--------------------------------------------|-------|-------|\n",
    "| 11   | 0.781 | 0.803  | 0.810   |"
   ]
  },
  {
   "cell_type": "markdown",
   "metadata": {},
   "source": [
    "## KNN"
   ]
  },
  {
   "cell_type": "code",
   "execution_count": 126,
   "metadata": {},
   "outputs": [],
   "source": [
    "# Train/Test Split\n",
    "X_remain, X_test, y_remain, y_test = train_test_split(X_bow, y, test_size=0.2, stratify=y, random_state=1)\n",
    "\n",
    "\n",
    "k_values = list(range(1, 40, 2))\n",
    "\n",
    "cross_validation_scores_KNN = []\n",
    "all_train_scores_KNN = []\n",
    "\n",
    "for k in k_values:\n",
    "    KNN = Pipeline([(\"scaler\", StandardScaler()),\n",
    "                    (\"model\", KNeighborsClassifier(n_neighbors=k))])\n",
    "    \n",
    "    # Train and cross validation scores\n",
    "    cv_score = np.mean(cross_validate(KNN, X_remain, y_remain, cv=5)['test_score'])\n",
    "    train_score = np.mean(cross_validate(KNN, X_remain, y_remain, cv=5, return_train_score=True)['train_score'])\n",
    "    \n",
    "    # Append to overall list\n",
    "    cross_validation_scores_KNN.append(cv_score)\n",
    "    all_train_scores_KNN.append(train_score)"
   ]
  },
  {
   "cell_type": "code",
   "execution_count": 127,
   "metadata": {},
   "outputs": [
    {
     "data": {
      "image/png": "[encoded data removed]",
      "text/plain": [
       "<Figure size 640x480 with 1 Axes>"
      ]
     },
     "metadata": {},
     "output_type": "display_data"
    }
   ],
   "source": [
    "plt.figure()\n",
    "plt.plot(k_values, all_train_scores_KNN, label=\"Train Score\", marker=\".\")\n",
    "plt.plot(k_values, cross_validation_scores_KNN, label=\"Validation Score\", marker=\".\")\n",
    "plt.xlabel(\"K-Neighbors\")\n",
    "plt.ylabel(\"Accuracy\")\n",
    "plt.grid()\n",
    "plt.legend()\n",
    "plt.show()"
   ]
  },
  {
   "cell_type": "code",
   "execution_count": 128,
   "metadata": {},
   "outputs": [
    {
     "data": {
      "text/plain": [
       "0.7502538968075352"
      ]
     },
     "execution_count": 128,
     "metadata": {},
     "output_type": "execute_result"
    }
   ],
   "source": [
    "# Cross Validation Score\n",
    "KNN = Pipeline([(\"scaler\", StandardScaler()), (\"model\", KNeighborsClassifier(n_neighbors=5))])\n",
    "cross_val_score = np.mean(cross_validate(KNN, X_remain, y_remain, cv=5)['test_score'])\n",
    "cross_val_score"
   ]
  },
  {
   "cell_type": "code",
   "execution_count": 129,
   "metadata": {},
   "outputs": [
    {
     "name": "stdout",
     "output_type": "stream",
     "text": [
      "Train Score: 0.8029442148760331 \n",
      "Test Score: 0.8099173553719008\n"
     ]
    }
   ],
   "source": [
    "# Final Model\n",
    "\n",
    "KNN = KNeighborsClassifier(n_neighbors=5)\n",
    "KNN.fit(X_remain, y_remain)\n",
    "\n",
    "# Scores\n",
    "KNN_train_score = DT.score(X_remain, y_remain)\n",
    "KNN_test_score = DT.score(X_test, y_test)\n",
    "\n",
    "print(f'Train Score: {KNN_train_score} \\nTest Score: {KNN_test_score}')"
   ]
  },
  {
   "cell_type": "markdown",
   "metadata": {},
   "source": [
    "The best KNN model is as follows:\n",
    "\n",
    "| K-Neighbours | Cross Validation Score    | Train Score    | Test Score    |\n",
    "|-------|--------------------------------------------|-------|-------|\n",
    "| 5   | 0.750 | 0.803  | 0.810   |"
   ]
  },
  {
   "cell_type": "code",
   "execution_count": 130,
   "metadata": {},
   "outputs": [
    {
     "data": {
      "text/plain": [
       "0       0\n",
       "1       1\n",
       "2       1\n",
       "3       1\n",
       "4       1\n",
       "       ..\n",
       "4835    0\n",
       "4836    0\n",
       "4837    1\n",
       "4838    0\n",
       "4839    0\n",
       "Name: Sentiment, Length: 4840, dtype: int32"
      ]
     },
     "execution_count": 130,
     "metadata": {},
     "output_type": "execute_result"
    }
   ],
   "source": [
    "y"
   ]
  },
  {
   "cell_type": "markdown",
   "metadata": {},
   "source": [
    "## Naive-Bayes"
   ]
  },
  {
   "cell_type": "code",
   "execution_count": 131,
   "metadata": {},
   "outputs": [],
   "source": [
    "# Train/Test Split\n",
    "X_remain, X_test, y_remain, y_test = train_test_split(X_bow, y, test_size=0.2, stratify=y, random_state=1)\n",
    "\n",
    "alpha_values = list(range(1, 20))\n",
    "\n",
    "cross_validation_scores_NB = []\n",
    "all_train_scores_NB = []\n",
    "\n",
    "for alpha in alpha_values:\n",
    "    NB = MultinomialNB(alpha=alpha)\n",
    "    \n",
    "    # Train and cross validation scores\n",
    "    cv_score = np.mean(cross_validate(NB, X_remain, y_remain, cv=5)['test_score'])\n",
    "    train_score = np.mean(cross_validate(NB, X_remain, y_remain, cv=5, return_train_score=True)['train_score'])\n",
    "    \n",
    "    # Append to overall list\n",
    "    cross_validation_scores_NB.append(cv_score)\n",
    "    all_train_scores_NB.append(train_score)"
   ]
  },
  {
   "cell_type": "code",
   "execution_count": 132,
   "metadata": {},
   "outputs": [
    {
     "data": {
      "image/png": "[encoded data removed]",
      "text/plain": [
       "<Figure size 640x480 with 1 Axes>"
      ]
     },
     "metadata": {},
     "output_type": "display_data"
    }
   ],
   "source": [
    "plt.figure()\n",
    "plt.plot(alpha_values, all_train_scores_NB, label=\"Train Score\", marker=\".\")\n",
    "plt.plot(alpha_values, cross_validation_scores_NB, label=\"Validation Score\", marker=\".\")\n",
    "plt.xlabel(\"Alpha\")\n",
    "plt.ylabel(\"Accuracy\")\n",
    "plt.grid()\n",
    "plt.legend()\n",
    "plt.show()"
   ]
  },
  {
   "cell_type": "code",
   "execution_count": null,
   "metadata": {},
   "outputs": [],
   "source": []
  }
 ],
 "metadata": {
  "kernelspec": {
   "display_name": "capstone",
   "language": "python",
   "name": "python3"
  },
  "language_info": {
   "codemirror_mode": {
    "name": "ipython",
    "version": 3
   },
   "file_extension": ".py",
   "mimetype": "text/x-python",
   "name": "python",
   "nbconvert_exporter": "python",
   "pygments_lexer": "ipython3",
   "version": "3.12.3"
  }
 },
 "nbformat": 4,
 "nbformat_minor": 2
}
