{
 "cells": [
  {
   "cell_type": "markdown",
   "metadata": {},
   "source": [
    "## **Capstone Sprint 1**\n",
    "\n",
    "### **Submitted by:** Jiro Amato\n",
    "\n",
    "### **Date:** May, 30, 2024"
   ]
  },
  {
   "cell_type": "markdown",
   "metadata": {},
   "source": [
    "Introduction:\n",
    "\n",
    "In this notebook, we wll be going through a first pass of the training dataset for the sentiment analysis model. This dataset contains 4,840 financial articles that have been classified as positive, neutral or negative by 16 financial professionals. It is crucial to complete this step as it sets the foundation for the rest of the model. We will be looking through text-preprocessing and some EDA using techniques such as Bag of Words and TF-IDF to vecotrize the text data.\n",
    "\n",
    "**Other datasets of the project (will investigate further):**\n",
    "\n",
    "The second dataset of the project contains daily news gather from 2009-2020 which has the following:\n",
    "\n",
    "### Data Dictionary (2nd Dataset)\n",
    "\n",
    "**Column Name:**   \n",
    "Contains **843,062** unique articles.\n",
    "\n",
    "- `headline:` The headline of the news article\n",
    "- `url:` Link to the article\n",
    "- `publisher:` Name of the publisher\n",
    "- `date:` Date the article was released\n",
    "- `stock:` The stock that the article refers to\n",
    "\n",
    "Lastly, the third dataset contains the daily historical price of the S&P 500 index from 2000-2024 which has the following:\n",
    "\n",
    "### Data Dictionary (3rd Dataset)\n",
    "\n",
    "**Column Name:**\n",
    "Contains **6,038** observations.  \n",
    "\n",
    "- `Date:` Date of when the price was recorded\n",
    "- `Open:` Price level during the market opening\n",
    "- `High:` Highest that price went to during trading hours\n",
    "- `Low:` Lowest that price went to during trading hours\n",
    "- `Adj Close:` The closing price (adjusted to include any corporate decision made before the next trading day)\n",
    "- `Volume:` The total amount that the index was traded expressed in $"
   ]
  },
  {
   "cell_type": "markdown",
   "metadata": {},
   "source": [
    "## Table of Contents\n",
    "\n",
    "[Preface](#Preface:-Verifying-the-cleanliness-of-our-data) <br>\n",
    "- [Loading Datasets](#Loading-Datasets)\n",
    "- [Data Dictionary](#Data-Dictionary)\n",
    "- [Nulls](#Checking-for-nulls)\n",
    "- [Duplicates](#Checking-for-duplicates)\n",
    "\n",
    "[1. EDA](#1.-Exploratory-Data-Analysis) <br>\n",
    "- [1.1. Sentiment Breakdown](#1.1.-Sentiment-Breakdown/Imbalance) <br>\n",
    "- [1.2. Counts of words and characters](#1.2.-Counts-of-words-and-characters)\n",
    "\n",
    "[2. Vectorization](#2.-Vectorization) <br>\n",
    "- [2.1. Data Standardization](#2.1.-Data-Standardization) <br>\n",
    "- [2.2. Tokenization and Lemmatization](#2.2.-Tokenization-and-Lemmatization)\n",
    "- [2.3. Stop-word and empty string removal](#2.3.-Stop-word-and-empty-string-removal)\n",
    "- [2.4. Custom Tokenizer](#2.4.-Custom-Tokenizer)\n",
    "- [2.5. Bag of Words](#2.5.-Bag-of-Words)\n",
    "- [2.6. TF-IDF](#2.6.-TF-IDF)\n",
    "\n",
    "[3. Next Steps](#3.-Next-Steps) <br>"
   ]
  },
  {
   "cell_type": "code",
   "execution_count": 22,
   "metadata": {},
   "outputs": [
    {
     "name": "stderr",
     "output_type": "stream",
     "text": [
      "[nltk_data] Downloading package wordnet to\n",
      "[nltk_data]     C:\\Users\\amato\\AppData\\Roaming\\nltk_data...\n"
     ]
    }
   ],
   "source": [
    "# Importing necessary libraries\n",
    "\n",
    "# Libraries for data manipulation\n",
    "import numpy as np\n",
    "import pandas as pd\n",
    "import os # For path name manipulation\n",
    "\n",
    "# Libraries for data visualization\n",
    "import matplotlib.pyplot as plt\n",
    "import seaborn as sns\n",
    "\n",
    "# For Train/Test splitting\n",
    "from sklearn.model_selection import train_test_split\n",
    "\n",
    "# NLP specific libraries\n",
    "import nltk\n",
    "nltk.download('wordnet')\n",
    "from nltk.corpus import stopwords\n",
    "from sklearn.feature_extraction.text import CountVectorizer\n",
    "from sklearn.feature_extraction.text import TfidfVectorizer\n",
    "from nltk.stem.wordnet import WordNetLemmatizer\n",
    "import string"
   ]
  },
  {
   "cell_type": "markdown",
   "metadata": {},
   "source": [
    "## Preface: Verifying the cleanliness of our data"
   ]
  },
  {
   "cell_type": "markdown",
   "metadata": {},
   "source": [
    "### Loading Datasets"
   ]
  },
  {
   "cell_type": "markdown",
   "metadata": {},
   "source": [
    "Sourced code to open multiple files in a for-loop [here](https://saturncloud.io/blog/how-to-import-multiple-csv-files-into-pandas-and-concatenate-into-one-dataframe/)."
   ]
  },
  {
   "cell_type": "code",
   "execution_count": 23,
   "metadata": {},
   "outputs": [
    {
     "data": {
      "text/html": [
       "<div>\n",
       "<style scoped>\n",
       "    .dataframe tbody tr th:only-of-type {\n",
       "        vertical-align: middle;\n",
       "    }\n",
       "\n",
       "    .dataframe tbody tr th {\n",
       "        vertical-align: top;\n",
       "    }\n",
       "\n",
       "    .dataframe thead th {\n",
       "        text-align: right;\n",
       "    }\n",
       "</style>\n",
       "<table border=\"1\" class=\"dataframe\">\n",
       "  <thead>\n",
       "    <tr style=\"text-align: right;\">\n",
       "      <th></th>\n",
       "      <th>Headline</th>\n",
       "      <th>Sentiment</th>\n",
       "    </tr>\n",
       "  </thead>\n",
       "  <tbody>\n",
       "    <tr>\n",
       "      <th>0</th>\n",
       "      <td>According to Gran , the company has no plans t...</td>\n",
       "      <td>neutral</td>\n",
       "    </tr>\n",
       "    <tr>\n",
       "      <th>1</th>\n",
       "      <td>For the last quarter of 2010 , Componenta 's n...</td>\n",
       "      <td>positive</td>\n",
       "    </tr>\n",
       "    <tr>\n",
       "      <th>2</th>\n",
       "      <td>In the third quarter of 2010 , net sales incre...</td>\n",
       "      <td>positive</td>\n",
       "    </tr>\n",
       "    <tr>\n",
       "      <th>3</th>\n",
       "      <td>Operating profit rose to EUR 13.1 mn from EUR ...</td>\n",
       "      <td>positive</td>\n",
       "    </tr>\n",
       "    <tr>\n",
       "      <th>4</th>\n",
       "      <td>Operating profit totalled EUR 21.1 mn , up fro...</td>\n",
       "      <td>positive</td>\n",
       "    </tr>\n",
       "    <tr>\n",
       "      <th>...</th>\n",
       "      <td>...</td>\n",
       "      <td>...</td>\n",
       "    </tr>\n",
       "    <tr>\n",
       "      <th>14775</th>\n",
       "      <td>LONDON MarketWatch -- Share prices ended lower...</td>\n",
       "      <td>negative</td>\n",
       "    </tr>\n",
       "    <tr>\n",
       "      <th>14776</th>\n",
       "      <td>Rinkuskiai 's beer sales fell by 6.5 per cent ...</td>\n",
       "      <td>neutral</td>\n",
       "    </tr>\n",
       "    <tr>\n",
       "      <th>14777</th>\n",
       "      <td>Operating profit fell to EUR 35.4 mn from EUR ...</td>\n",
       "      <td>negative</td>\n",
       "    </tr>\n",
       "    <tr>\n",
       "      <th>14778</th>\n",
       "      <td>Net sales of the Paper segment decreased to EU...</td>\n",
       "      <td>negative</td>\n",
       "    </tr>\n",
       "    <tr>\n",
       "      <th>14779</th>\n",
       "      <td>Sales in Finland decreased by 10.5 % in Januar...</td>\n",
       "      <td>negative</td>\n",
       "    </tr>\n",
       "  </tbody>\n",
       "</table>\n",
       "<p>14780 rows × 2 columns</p>\n",
       "</div>"
      ],
      "text/plain": [
       "                                                Headline Sentiment\n",
       "0      According to Gran , the company has no plans t...   neutral\n",
       "1      For the last quarter of 2010 , Componenta 's n...  positive\n",
       "2      In the third quarter of 2010 , net sales incre...  positive\n",
       "3      Operating profit rose to EUR 13.1 mn from EUR ...  positive\n",
       "4      Operating profit totalled EUR 21.1 mn , up fro...  positive\n",
       "...                                                  ...       ...\n",
       "14775  LONDON MarketWatch -- Share prices ended lower...  negative\n",
       "14776  Rinkuskiai 's beer sales fell by 6.5 per cent ...   neutral\n",
       "14777  Operating profit fell to EUR 35.4 mn from EUR ...  negative\n",
       "14778  Net sales of the Paper segment decreased to EU...  negative\n",
       "14779  Sales in Finland decreased by 10.5 % in Januar...  negative\n",
       "\n",
       "[14780 rows x 2 columns]"
      ]
     },
     "execution_count": 23,
     "metadata": {},
     "output_type": "execute_result"
    }
   ],
   "source": [
    "# Loading the dataset for training the sentiment analysis model\n",
    "\n",
    "# Instantiating an empty dataframe\n",
    "phrase_bank_df = pd.DataFrame()\n",
    "\n",
    "# Creating a list of the file names for a for-loop\n",
    "files = ['Sentences_AllAgree.txt', 'Sentences_75Agree.txt', 'Sentences_66Agree.txt', 'Sentences_50Agree.txt']\n",
    "path = 'C:/Users/amato/Desktop/Brainstation/Capstone/data/'\n",
    "\n",
    "# For-loop to load in all the files and combine them into one\n",
    "for file in files:\n",
    "    df = pd.read_csv(os.path.join(path, file), encoding='ISO-8859-1', delimiter='@', names=['Headline', 'Sentiment'])  # The files are in \"@\" separated format\n",
    "    phrase_bank_df = pd.concat([phrase_bank_df, df], axis=0, ignore_index=True)\n",
    "\n",
    "phrase_bank_df\n"
   ]
  },
  {
   "cell_type": "markdown",
   "metadata": {},
   "source": [
    "### Data Dictionary\n",
    "\n",
    "**Column Name:**   \n",
    "\n",
    "- `Headline:` The headline of the news article\n",
    "- `Sentiment:` Classifications by positive, neutral or negative. These classifications were agreed upon by 16 professionals in the Finance domain."
   ]
  },
  {
   "cell_type": "markdown",
   "metadata": {},
   "source": [
    "### Checking for nulls"
   ]
  },
  {
   "cell_type": "code",
   "execution_count": 24,
   "metadata": {},
   "outputs": [
    {
     "data": {
      "text/plain": [
       "Headline     0\n",
       "Sentiment    0\n",
       "dtype: int64"
      ]
     },
     "execution_count": 24,
     "metadata": {},
     "output_type": "execute_result"
    }
   ],
   "source": [
    "# Checking for nulls\n",
    "\n",
    "phrase_bank_df.isna().sum()"
   ]
  },
  {
   "cell_type": "markdown",
   "metadata": {},
   "source": [
    "We do not have any null values."
   ]
  },
  {
   "cell_type": "markdown",
   "metadata": {},
   "source": [
    "### Checking for duplicates"
   ]
  },
  {
   "cell_type": "code",
   "execution_count": 25,
   "metadata": {},
   "outputs": [
    {
     "data": {
      "text/plain": [
       "9940"
      ]
     },
     "execution_count": 25,
     "metadata": {},
     "output_type": "execute_result"
    }
   ],
   "source": [
    "# Checking for duplicates\n",
    "\n",
    "phrase_bank_df.duplicated(keep='first').sum()"
   ]
  },
  {
   "cell_type": "markdown",
   "metadata": {},
   "source": [
    "We have 9,940 duplicates in our dataframe. Let's check what they are ."
   ]
  },
  {
   "cell_type": "code",
   "execution_count": 26,
   "metadata": {},
   "outputs": [
    {
     "data": {
      "text/html": [
       "<div>\n",
       "<style scoped>\n",
       "    .dataframe tbody tr th:only-of-type {\n",
       "        vertical-align: middle;\n",
       "    }\n",
       "\n",
       "    .dataframe tbody tr th {\n",
       "        vertical-align: top;\n",
       "    }\n",
       "\n",
       "    .dataframe thead th {\n",
       "        text-align: right;\n",
       "    }\n",
       "</style>\n",
       "<table border=\"1\" class=\"dataframe\">\n",
       "  <thead>\n",
       "    <tr style=\"text-align: right;\">\n",
       "      <th></th>\n",
       "      <th>Headline</th>\n",
       "      <th>Sentiment</th>\n",
       "    </tr>\n",
       "  </thead>\n",
       "  <tbody>\n",
       "    <tr>\n",
       "      <th>519</th>\n",
       "      <td>The issuer is solely responsible for the conte...</td>\n",
       "      <td>neutral</td>\n",
       "    </tr>\n",
       "    <tr>\n",
       "      <th>626</th>\n",
       "      <td>The report profiles 614 companies including ma...</td>\n",
       "      <td>neutral</td>\n",
       "    </tr>\n",
       "    <tr>\n",
       "      <th>929</th>\n",
       "      <td>Ahlstrom 's share is quoted on the NASDAQ OMX ...</td>\n",
       "      <td>neutral</td>\n",
       "    </tr>\n",
       "    <tr>\n",
       "      <th>1027</th>\n",
       "      <td>SSH Communications Security Corporation is hea...</td>\n",
       "      <td>neutral</td>\n",
       "    </tr>\n",
       "    <tr>\n",
       "      <th>1409</th>\n",
       "      <td>The company serves customers in various indust...</td>\n",
       "      <td>neutral</td>\n",
       "    </tr>\n",
       "  </tbody>\n",
       "</table>\n",
       "</div>"
      ],
      "text/plain": [
       "                                               Headline Sentiment\n",
       "519   The issuer is solely responsible for the conte...   neutral\n",
       "626   The report profiles 614 companies including ma...   neutral\n",
       "929   Ahlstrom 's share is quoted on the NASDAQ OMX ...   neutral\n",
       "1027  SSH Communications Security Corporation is hea...   neutral\n",
       "1409  The company serves customers in various indust...   neutral"
      ]
     },
     "execution_count": 26,
     "metadata": {},
     "output_type": "execute_result"
    }
   ],
   "source": [
    "phrase_bank_df[phrase_bank_df.duplicated(keep='first') == True].head()"
   ]
  },
  {
   "cell_type": "code",
   "execution_count": 27,
   "metadata": {},
   "outputs": [],
   "source": [
    "# Dropping duplicates\n",
    "\n",
    "phrase_bank_df = phrase_bank_df.drop_duplicates(keep='first', ignore_index=True)"
   ]
  },
  {
   "cell_type": "code",
   "execution_count": 28,
   "metadata": {},
   "outputs": [
    {
     "data": {
      "text/plain": [
       "0"
      ]
     },
     "execution_count": 28,
     "metadata": {},
     "output_type": "execute_result"
    }
   ],
   "source": [
    "# Sanity check\n",
    "\n",
    "phrase_bank_df.duplicated().sum()"
   ]
  },
  {
   "cell_type": "code",
   "execution_count": 29,
   "metadata": {},
   "outputs": [
    {
     "name": "stdout",
     "output_type": "stream",
     "text": [
      "<class 'pandas.core.frame.DataFrame'>\n",
      "RangeIndex: 4840 entries, 0 to 4839\n",
      "Data columns (total 2 columns):\n",
      " #   Column     Non-Null Count  Dtype \n",
      "---  ------     --------------  ----- \n",
      " 0   Headline   4840 non-null   object\n",
      " 1   Sentiment  4840 non-null   object\n",
      "dtypes: object(2)\n",
      "memory usage: 75.8+ KB\n"
     ]
    }
   ],
   "source": [
    "# Checking the cleaned dataframe\n",
    "\n",
    "phrase_bank_df.info()"
   ]
  },
  {
   "cell_type": "markdown",
   "metadata": {},
   "source": [
    "The dataframe now has 4840 rows with no nulls and duplicates. We can now proceed to start with an EDA and data-preprocessing."
   ]
  },
  {
   "cell_type": "markdown",
   "metadata": {},
   "source": [
    "## 1. Exploratory Data Analysis"
   ]
  },
  {
   "cell_type": "markdown",
   "metadata": {},
   "source": [
    "### 1.1. Sentiment Breakdown/Imbalance"
   ]
  },
  {
   "cell_type": "markdown",
   "metadata": {},
   "source": [
    "The first thing that I will be exploring is the breakdown of sentiment in the dataset. After, I will be simplifying the problem statement by combining neutral with positive to just have a binary sentiment output"
   ]
  },
  {
   "cell_type": "code",
   "execution_count": 30,
   "metadata": {},
   "outputs": [],
   "source": [
    "# Breakdown of positive, neutral and negative sentiments in percentages\n",
    "\n",
    "positive = phrase_bank_df['Sentiment'].value_counts()['positive'] # We know from our last code that we have 4840 observations\n",
    "negative = phrase_bank_df['Sentiment'].value_counts()['negative']\n",
    "neutral = phrase_bank_df['Sentiment'].value_counts()['neutral']"
   ]
  },
  {
   "cell_type": "code",
   "execution_count": 31,
   "metadata": {},
   "outputs": [
    {
     "data": {
      "image/png": "[encoded data removed]",
      "text/plain": [
       "<Figure size 640x480 with 1 Axes>"
      ]
     },
     "metadata": {},
     "output_type": "display_data"
    }
   ],
   "source": [
    "# Pie chart to show the breakdown of sentiment in the dataset\n",
    "plt.figure()\n",
    "plt.pie([positive, negative, neutral], labels=['Positive', 'Negative', 'Neutral'], autopct='%1.1f%%')\n",
    "plt.show()"
   ]
  },
  {
   "cell_type": "markdown",
   "metadata": {},
   "source": [
    "We can see that the neutral sentiment make up almost 60% of our data with positive at 28.2% and negative at 12.5%. The financial phrase bank is not balanced when it comes to outcomes. If we consolidate `Neutral` to `Positive` we will have data that is tremendously unbalanced towards positive sentiment. By looking at this, it seems more reasonable to consolidate `Neutral` into `Negative`instead. Although the data will still be unbalanced, it will not be as bad as if we consolidated `Neutral` and `Positive` together."
   ]
  },
  {
   "cell_type": "code",
   "execution_count": 32,
   "metadata": {},
   "outputs": [
    {
     "name": "stderr",
     "output_type": "stream",
     "text": [
      "C:\\Users\\amato\\AppData\\Local\\Temp\\ipykernel_65328\\1271611503.py:3: SettingWithCopyWarning: \n",
      "A value is trying to be set on a copy of a slice from a DataFrame.\n",
      "Try using .loc[row_indexer,col_indexer] = value instead\n",
      "\n",
      "See the caveats in the documentation: https://pandas.pydata.org/pandas-docs/stable/user_guide/indexing.html#returning-a-view-versus-a-copy\n",
      "  phrase_bank_df['Sentiment'] = np.where(phrase_bank_df['Sentiment'] == 'positive', 1, 0)\n"
     ]
    },
    {
     "data": {
      "text/plain": [
       "Sentiment\n",
       "0    3477\n",
       "1    1363\n",
       "Name: count, dtype: int64"
      ]
     },
     "execution_count": 32,
     "metadata": {},
     "output_type": "execute_result"
    }
   ],
   "source": [
    "# Mapping sentiments into binary (consolidating neutral into negative)\n",
    "\n",
    "phrase_bank_df['Sentiment'] = np.where(phrase_bank_df['Sentiment'] == 'positive', 1, 0)\n",
    "\n",
    "# Sanity check\n",
    "phrase_bank_df['Sentiment'].value_counts()\n"
   ]
  },
  {
   "cell_type": "code",
   "execution_count": 33,
   "metadata": {},
   "outputs": [
    {
     "data": {
      "image/png": "[encoded data removed]",
      "text/plain": [
       "<Figure size 640x480 with 1 Axes>"
      ]
     },
     "metadata": {},
     "output_type": "display_data"
    },
    {
     "name": "stdout",
     "output_type": "stream",
     "text": [
      "Class imbalance: [0.72 0.28]\n"
     ]
    }
   ],
   "source": [
    "# Class imbalance\n",
    "\n",
    "values, counts = np.unique(phrase_bank_df['Sentiment'], return_counts=True)\n",
    "normalized_counts = counts/counts.sum()\n",
    "\n",
    "plt.figure()\n",
    "plt.bar([\"0\", \"1\"], normalized_counts*100) # plot normalized counts\n",
    "plt.xlabel('Sentiment')\n",
    "plt.ylabel('% of Dataset')\n",
    "plt.show()\n",
    "\n",
    "print(f\"Class imbalance: {np.round(normalized_counts, 2)}\")"
   ]
  },
  {
   "cell_type": "markdown",
   "metadata": {},
   "source": [
    "Quite a big class imbalance here. Since this is a first pass EDA, we will see where this takes us for now. Some changes that I am already thinking about for future iterations are implementing models that allow for multi-class classification like KNN and DT. Logistic regression is also capable of this but it is costly in computation (we can accept this as our dataset is relatively low)."
   ]
  },
  {
   "cell_type": "markdown",
   "metadata": {},
   "source": [
    "### 1.2. Counts of words and characters\n",
    "\n",
    "Before we start vectorizing our data, it is good to explore the nature of our headlines when it comes to the count of characters and words. We will do the following below:"
   ]
  },
  {
   "cell_type": "code",
   "execution_count": 34,
   "metadata": {},
   "outputs": [],
   "source": [
    "# Checking the length of characters in each headline\n",
    "length = len(phrase_bank_df['Headline'][0])\n"
   ]
  },
  {
   "cell_type": "code",
   "execution_count": 35,
   "metadata": {},
   "outputs": [
    {
     "name": "stdout",
     "output_type": "stream",
     "text": [
      "According to Gran , the company has no plans to move all production to Russia , although that is where the company is growing .\n",
      "127\n"
     ]
    }
   ],
   "source": [
    "print(phrase_bank_df['Headline'][0])\n",
    "print(length)"
   ]
  },
  {
   "cell_type": "code",
   "execution_count": 36,
   "metadata": {},
   "outputs": [
    {
     "name": "stderr",
     "output_type": "stream",
     "text": [
      "C:\\Users\\amato\\AppData\\Local\\Temp\\ipykernel_65328\\192333379.py:2: SettingWithCopyWarning: \n",
      "A value is trying to be set on a copy of a slice from a DataFrame.\n",
      "Try using .loc[row_indexer,col_indexer] = value instead\n",
      "\n",
      "See the caveats in the documentation: https://pandas.pydata.org/pandas-docs/stable/user_guide/indexing.html#returning-a-view-versus-a-copy\n",
      "  phrase_bank_df['char_count'] = phrase_bank_df['Headline'].apply(lambda x: len(x))\n"
     ]
    },
    {
     "data": {
      "text/html": [
       "<div>\n",
       "<style scoped>\n",
       "    .dataframe tbody tr th:only-of-type {\n",
       "        vertical-align: middle;\n",
       "    }\n",
       "\n",
       "    .dataframe tbody tr th {\n",
       "        vertical-align: top;\n",
       "    }\n",
       "\n",
       "    .dataframe thead th {\n",
       "        text-align: right;\n",
       "    }\n",
       "</style>\n",
       "<table border=\"1\" class=\"dataframe\">\n",
       "  <thead>\n",
       "    <tr style=\"text-align: right;\">\n",
       "      <th></th>\n",
       "      <th>Headline</th>\n",
       "      <th>Sentiment</th>\n",
       "      <th>char_count</th>\n",
       "    </tr>\n",
       "  </thead>\n",
       "  <tbody>\n",
       "    <tr>\n",
       "      <th>0</th>\n",
       "      <td>According to Gran , the company has no plans t...</td>\n",
       "      <td>0</td>\n",
       "      <td>127</td>\n",
       "    </tr>\n",
       "    <tr>\n",
       "      <th>1</th>\n",
       "      <td>For the last quarter of 2010 , Componenta 's n...</td>\n",
       "      <td>1</td>\n",
       "      <td>193</td>\n",
       "    </tr>\n",
       "    <tr>\n",
       "      <th>2</th>\n",
       "      <td>In the third quarter of 2010 , net sales incre...</td>\n",
       "      <td>1</td>\n",
       "      <td>125</td>\n",
       "    </tr>\n",
       "    <tr>\n",
       "      <th>3</th>\n",
       "      <td>Operating profit rose to EUR 13.1 mn from EUR ...</td>\n",
       "      <td>1</td>\n",
       "      <td>122</td>\n",
       "    </tr>\n",
       "    <tr>\n",
       "      <th>4</th>\n",
       "      <td>Operating profit totalled EUR 21.1 mn , up fro...</td>\n",
       "      <td>1</td>\n",
       "      <td>103</td>\n",
       "    </tr>\n",
       "  </tbody>\n",
       "</table>\n",
       "</div>"
      ],
      "text/plain": [
       "                                            Headline  Sentiment  char_count\n",
       "0  According to Gran , the company has no plans t...          0         127\n",
       "1  For the last quarter of 2010 , Componenta 's n...          1         193\n",
       "2  In the third quarter of 2010 , net sales incre...          1         125\n",
       "3  Operating profit rose to EUR 13.1 mn from EUR ...          1         122\n",
       "4  Operating profit totalled EUR 21.1 mn , up fro...          1         103"
      ]
     },
     "execution_count": 36,
     "metadata": {},
     "output_type": "execute_result"
    }
   ],
   "source": [
    "# Creating a new column that calculates the number of characters in each headline\n",
    "phrase_bank_df['char_count'] = phrase_bank_df['Headline'].apply(lambda x: len(x))\n",
    "\n",
    "# Sanity check\n",
    "phrase_bank_df.head()"
   ]
  },
  {
   "cell_type": "code",
   "execution_count": 37,
   "metadata": {},
   "outputs": [
    {
     "name": "stdout",
     "output_type": "stream",
     "text": [
      "25\n"
     ]
    }
   ],
   "source": [
    "# Counting the words in a headline using split() and len()\n",
    "word_count = len(phrase_bank_df['Headline'][0].split())\n",
    "print(word_count)"
   ]
  },
  {
   "cell_type": "code",
   "execution_count": 38,
   "metadata": {},
   "outputs": [
    {
     "name": "stderr",
     "output_type": "stream",
     "text": [
      "C:\\Users\\amato\\AppData\\Local\\Temp\\ipykernel_65328\\1647580670.py:2: SettingWithCopyWarning: \n",
      "A value is trying to be set on a copy of a slice from a DataFrame.\n",
      "Try using .loc[row_indexer,col_indexer] = value instead\n",
      "\n",
      "See the caveats in the documentation: https://pandas.pydata.org/pandas-docs/stable/user_guide/indexing.html#returning-a-view-versus-a-copy\n",
      "  phrase_bank_df['word_count'] = phrase_bank_df['Headline'].str.split().apply(len)\n"
     ]
    },
    {
     "data": {
      "text/html": [
       "<div>\n",
       "<style scoped>\n",
       "    .dataframe tbody tr th:only-of-type {\n",
       "        vertical-align: middle;\n",
       "    }\n",
       "\n",
       "    .dataframe tbody tr th {\n",
       "        vertical-align: top;\n",
       "    }\n",
       "\n",
       "    .dataframe thead th {\n",
       "        text-align: right;\n",
       "    }\n",
       "</style>\n",
       "<table border=\"1\" class=\"dataframe\">\n",
       "  <thead>\n",
       "    <tr style=\"text-align: right;\">\n",
       "      <th></th>\n",
       "      <th>Headline</th>\n",
       "      <th>Sentiment</th>\n",
       "      <th>char_count</th>\n",
       "      <th>word_count</th>\n",
       "    </tr>\n",
       "  </thead>\n",
       "  <tbody>\n",
       "    <tr>\n",
       "      <th>0</th>\n",
       "      <td>According to Gran , the company has no plans t...</td>\n",
       "      <td>0</td>\n",
       "      <td>127</td>\n",
       "      <td>25</td>\n",
       "    </tr>\n",
       "    <tr>\n",
       "      <th>1</th>\n",
       "      <td>For the last quarter of 2010 , Componenta 's n...</td>\n",
       "      <td>1</td>\n",
       "      <td>193</td>\n",
       "      <td>39</td>\n",
       "    </tr>\n",
       "    <tr>\n",
       "      <th>2</th>\n",
       "      <td>In the third quarter of 2010 , net sales incre...</td>\n",
       "      <td>1</td>\n",
       "      <td>125</td>\n",
       "      <td>29</td>\n",
       "    </tr>\n",
       "    <tr>\n",
       "      <th>3</th>\n",
       "      <td>Operating profit rose to EUR 13.1 mn from EUR ...</td>\n",
       "      <td>1</td>\n",
       "      <td>122</td>\n",
       "      <td>24</td>\n",
       "    </tr>\n",
       "    <tr>\n",
       "      <th>4</th>\n",
       "      <td>Operating profit totalled EUR 21.1 mn , up fro...</td>\n",
       "      <td>1</td>\n",
       "      <td>103</td>\n",
       "      <td>22</td>\n",
       "    </tr>\n",
       "  </tbody>\n",
       "</table>\n",
       "</div>"
      ],
      "text/plain": [
       "                                            Headline  Sentiment  char_count  \\\n",
       "0  According to Gran , the company has no plans t...          0         127   \n",
       "1  For the last quarter of 2010 , Componenta 's n...          1         193   \n",
       "2  In the third quarter of 2010 , net sales incre...          1         125   \n",
       "3  Operating profit rose to EUR 13.1 mn from EUR ...          1         122   \n",
       "4  Operating profit totalled EUR 21.1 mn , up fro...          1         103   \n",
       "\n",
       "   word_count  \n",
       "0          25  \n",
       "1          39  \n",
       "2          29  \n",
       "3          24  \n",
       "4          22  "
      ]
     },
     "execution_count": 38,
     "metadata": {},
     "output_type": "execute_result"
    }
   ],
   "source": [
    "# Applying to the entire row\n",
    "phrase_bank_df['word_count'] = phrase_bank_df['Headline'].str.split().apply(len)\n",
    "\n",
    "# Sanity check\n",
    "phrase_bank_df.head()"
   ]
  },
  {
   "cell_type": "code",
   "execution_count": 39,
   "metadata": {},
   "outputs": [
    {
     "data": {
      "image/png": "[encoded data removed]",
      "text/plain": [
       "<Figure size 1000x2000 with 6 Axes>"
      ]
     },
     "metadata": {},
     "output_type": "display_data"
    }
   ],
   "source": [
    "# Visualizing the character and word counts in box plots\n",
    "\n",
    "plt.subplots(3, 2, figsize=(10, 20))\n",
    "\n",
    "plt.subplot(3, 2, 1)\n",
    "sns.boxplot(y=phrase_bank_df.loc[phrase_bank_df['Sentiment'] == 1, 'char_count'], color='green')\n",
    "plt.ylabel('Character Count')\n",
    "plt.title('Character Count for Positive News')\n",
    "\n",
    "plt.subplot(3, 2, 2)\n",
    "sns.boxplot(y=phrase_bank_df.loc[phrase_bank_df['Sentiment'] == 1, 'word_count'], color='green')\n",
    "plt.ylabel('Word Count')\n",
    "plt.title('Word Count for Positive News')\n",
    "\n",
    "plt.subplot(3, 2, 3)\n",
    "sns.boxplot(y=phrase_bank_df.loc[phrase_bank_df['Sentiment'] == 0, 'char_count'], color='red')\n",
    "plt.ylabel('Character Count')\n",
    "plt.title('Character Count for Negative News')\n",
    "\n",
    "plt.subplot(3, 2, 4)\n",
    "sns.boxplot(y=phrase_bank_df.loc[phrase_bank_df['Sentiment'] == 0, 'word_count'], color='red')\n",
    "plt.ylabel('Character Count')\n",
    "plt.title('Word Count for Negative News')\n",
    "\n",
    "plt.subplot(3, 2, 5)\n",
    "sns.boxplot(y=phrase_bank_df['char_count'])\n",
    "plt.ylabel('Character Count')\n",
    "plt.title('Character Count for All News')\n",
    "\n",
    "plt.subplot(3, 2, 6)\n",
    "sns.boxplot(y=phrase_bank_df['word_count'])\n",
    "plt.ylabel('Word Count')\n",
    "plt.title('Word Count for All News')\n",
    "\n",
    "plt.show()"
   ]
  },
  {
   "cell_type": "markdown",
   "metadata": {},
   "source": [
    "## 2. Vectorization"
   ]
  },
  {
   "cell_type": "markdown",
   "metadata": {},
   "source": [
    "The next part of our data preprocessing is to vectorize our `Headline` column in order to make our data approriate inputs to any model."
   ]
  },
  {
   "cell_type": "markdown",
   "metadata": {},
   "source": [
    "### 2.1. Data Standardization\n",
    "\n",
    "In this step I am going to transform the headlines all in lowercase and take out punctuations."
   ]
  },
  {
   "cell_type": "code",
   "execution_count": 40,
   "metadata": {},
   "outputs": [
    {
     "data": {
      "text/plain": [
       "'according to gran  the company has no plans to move all production to russia  although that is where the company is growing '"
      ]
     },
     "execution_count": 40,
     "metadata": {},
     "output_type": "execute_result"
    }
   ],
   "source": [
    "sentence = phrase_bank_df['Headline'][0]\n",
    "\n",
    "for punctuation in string.punctuation:\n",
    "    sentence = sentence.replace(punctuation,'')\n",
    "\n",
    "sentence_new = sentence.lower()\n",
    "sentence_new"
   ]
  },
  {
   "cell_type": "markdown",
   "metadata": {},
   "source": [
    "### 2.2. Tokenization and Lemmatization\n",
    "\n",
    "After taking out the punctuations, I am going to split the headline into a list of words which I then lemmatize.\n",
    "\n",
    "Lemmatization is the process of reducing a word to its root form called 'lemma'. This is the dictionary form of a root (ex: laziness to lazy). This allows us to have more accurate and meaningful root words in comparison to stemming where it can lead to unusual rootwords as it is 'rules-based' rather than vocabulary-based (ex: laziness to lazi). For this reason, I will attempt to lemmatize the dataset. The only draw back of lemmatization is the computational cost but since we are dealing with a rather small dataset, we can afford to lose some efficiency for accuracy."
   ]
  },
  {
   "cell_type": "code",
   "execution_count": 41,
   "metadata": {},
   "outputs": [
    {
     "data": {
      "text/plain": [
       "['according',\n",
       " 'to',\n",
       " 'gran',\n",
       " '',\n",
       " 'the',\n",
       " 'company',\n",
       " 'has',\n",
       " 'no',\n",
       " 'plans',\n",
       " 'to',\n",
       " 'move',\n",
       " 'all',\n",
       " 'production',\n",
       " 'to',\n",
       " 'russia',\n",
       " '',\n",
       " 'although',\n",
       " 'that',\n",
       " 'is',\n",
       " 'where',\n",
       " 'the',\n",
       " 'company',\n",
       " 'is',\n",
       " 'growing',\n",
       " '']"
      ]
     },
     "execution_count": 41,
     "metadata": {},
     "output_type": "execute_result"
    }
   ],
   "source": [
    "# Splitting the headline into a list of words\n",
    "listofwords = sentence_new.split(' ')\n",
    "listofwords"
   ]
  },
  {
   "cell_type": "code",
   "execution_count": 45,
   "metadata": {},
   "outputs": [
    {
     "data": {
      "text/plain": [
       "['according',\n",
       " 'to',\n",
       " 'gran',\n",
       " '',\n",
       " 'the',\n",
       " 'company',\n",
       " 'ha',\n",
       " 'no',\n",
       " 'plan',\n",
       " 'to',\n",
       " 'move',\n",
       " 'all',\n",
       " 'production',\n",
       " 'to',\n",
       " 'russia',\n",
       " '',\n",
       " 'although',\n",
       " 'that',\n",
       " 'is',\n",
       " 'where',\n",
       " 'the',\n",
       " 'company',\n",
       " 'is',\n",
       " 'growing',\n",
       " '']"
      ]
     },
     "execution_count": 45,
     "metadata": {},
     "output_type": "execute_result"
    }
   ],
   "source": [
    "# Lemmatization\n",
    "\n",
    "wnl = WordNetLemmatizer()\n",
    "\n",
    "lemmatized_sentence = [wnl.lemmatize(i) for i in listofwords]\n",
    "lemmatized_sentence"
   ]
  },
  {
   "cell_type": "markdown",
   "metadata": {},
   "source": [
    "### 2.3. Stop-word and empty string removal\n",
    "\n",
    "The next step is to remove any stop-words (words without significant meaning such as 'the' and 'like') and any leftover whitespaces."
   ]
  },
  {
   "cell_type": "code",
   "execution_count": 49,
   "metadata": {},
   "outputs": [
    {
     "data": {
      "text/plain": [
       "['according',\n",
       " 'gran',\n",
       " 'company',\n",
       " 'ha',\n",
       " 'plan',\n",
       " 'move',\n",
       " 'production',\n",
       " 'russia',\n",
       " 'although',\n",
       " 'company',\n",
       " 'growing']"
      ]
     },
     "execution_count": 49,
     "metadata": {},
     "output_type": "execute_result"
    }
   ],
   "source": [
    "# Removing stop-words and empty strings\n",
    "\n",
    "stop_words = stopwords.words('english')\n",
    "\n",
    "words_final = [word for word in lemmatized_sentence if word not in stop_words and (word != '')]\n",
    "words_final"
   ]
  },
  {
   "cell_type": "markdown",
   "metadata": {},
   "source": [
    "As expected, we now have processed the headline appropriately and is ready to be vectorized."
   ]
  },
  {
   "cell_type": "markdown",
   "metadata": {},
   "source": [
    "### 2.4. Custom-Tokenizer\n",
    "\n",
    "Putting all of the steps above into one function."
   ]
  },
  {
   "cell_type": "code",
   "execution_count": 50,
   "metadata": {},
   "outputs": [],
   "source": [
    "wnl = WordNetLemmatizer()\n",
    "stop_words = stopwords.words('english')\n",
    "\n",
    "def my_tokenizer(sentence):\n",
    "    # transform string into lower case and take out punctuations\n",
    "    for punctuation in string.punctuation:\n",
    "        sentence = sentence.replace(punctuation, '').lower()\n",
    "\n",
    "    # tokenization\n",
    "    listofwords = sentence.split(' ')\n",
    "    lemmatized_words = []\n",
    "\n",
    "    # removal of stop-words\n",
    "    for word in listofwords:\n",
    "        if word not in stop_words and (word != ''):\n",
    "            # lemmatizing\n",
    "            lemma = wnl.lemmatize(word)\n",
    "            lemmatized_words.append(lemma)\n",
    "\n",
    "    return lemmatized_words"
   ]
  },
  {
   "cell_type": "markdown",
   "metadata": {},
   "source": [
    "### 2.5. Bag of Words\n",
    "\n",
    "Now that I have created my own tokenizer, I am going to tokenize the dataset. Here we will be using Bag of words with a min_df=5.\n"
   ]
  },
  {
   "cell_type": "code",
   "execution_count": 75,
   "metadata": {},
   "outputs": [
    {
     "name": "stdout",
     "output_type": "stream",
     "text": [
      "0       According to Gran , the company has no plans t...\n",
      "1       For the last quarter of 2010 , Componenta 's n...\n",
      "2       In the third quarter of 2010 , net sales incre...\n",
      "3       Operating profit rose to EUR 13.1 mn from EUR ...\n",
      "4       Operating profit totalled EUR 21.1 mn , up fro...\n",
      "                              ...                        \n",
      "4835    Bosse added that Trygvesta does not have the f...\n",
      "4836    Finnish-Swedish Stora Enso does not understand...\n",
      "4837    The 2015 target for net sales has been set at ...\n",
      "4838    have notified that as a result of the Company ...\n",
      "4839    Net sales of the Paper segment decreased to EU...\n",
      "Name: Headline, Length: 4840, dtype: object \n",
      "\n",
      "0       0\n",
      "1       1\n",
      "2       1\n",
      "3       1\n",
      "4       1\n",
      "       ..\n",
      "4835    0\n",
      "4836    0\n",
      "4837    1\n",
      "4838    0\n",
      "4839    0\n",
      "Name: Sentiment, Length: 4840, dtype: int32\n"
     ]
    }
   ],
   "source": [
    "# Split the data into Features and Target\n",
    "\n",
    "X = phrase_bank_df['Headline']\n",
    "y = phrase_bank_df['Sentiment']\n",
    "\n",
    "# Sanity Check\n",
    "print(X, '\\n')\n",
    "print(y)"
   ]
  },
  {
   "cell_type": "code",
   "execution_count": 58,
   "metadata": {},
   "outputs": [],
   "source": [
    "# Split the data into Train/Test Split. I will use a test split of 20%\n",
    "\n",
    "X_train, X_test, y_train, y_test = train_test_split(X, y, test_size=0.2, random_state=17)"
   ]
  },
  {
   "cell_type": "code",
   "execution_count": 59,
   "metadata": {},
   "outputs": [
    {
     "name": "stderr",
     "output_type": "stream",
     "text": [
      "c:\\Users\\amato\\anaconda3\\Lib\\site-packages\\sklearn\\feature_extraction\\text.py:528: UserWarning: The parameter 'token_pattern' will not be used since 'tokenizer' is not None'\n",
      "  warnings.warn(\n"
     ]
    },
    {
     "data": {
      "text/plain": [
       "(3872, 1757)"
      ]
     },
     "execution_count": 59,
     "metadata": {},
     "output_type": "execute_result"
    }
   ],
   "source": [
    "# Vectorize\n",
    "\n",
    "bagofwords = CountVectorizer(min_df=5, \n",
    "                             tokenizer=my_tokenizer)\n",
    "bagofwords.fit(X_train)\n",
    "\n",
    "X_train_transformed = bagofwords.transform(X_train)\n",
    "X_test_transformed = bagofwords.transform(X_test)\n",
    "\n",
    "X_train_transformed.shape"
   ]
  },
  {
   "cell_type": "markdown",
   "metadata": {},
   "source": [
    "From our sparse matrix we can visualize the most frequently occuring words in our corpus."
   ]
  },
  {
   "cell_type": "code",
   "execution_count": 65,
   "metadata": {},
   "outputs": [
    {
     "data": {
      "image/png": "[encoded data removed]",
      "text/plain": [
       "<Figure size 1500x500 with 1 Axes>"
      ]
     },
     "metadata": {},
     "output_type": "display_data"
    }
   ],
   "source": [
    "word_counts = pd.DataFrame(\n",
    "    {\"counts\": X_train_transformed.toarray().sum(axis=0)},\n",
    "    index=bagofwords.get_feature_names_out()\n",
    ").sort_values(\"counts\", ascending=False)\n",
    "\n",
    "word_counts.head(20).plot(kind=\"bar\", figsize=(15, 5), legend=False)\n",
    "plt.title(\"Top 20 most frequently occurring words\")\n",
    "plt.ylabel(\"Count\")\n",
    "plt.xticks(rotation=45)\n",
    "plt.show()"
   ]
  },
  {
   "cell_type": "markdown",
   "metadata": {},
   "source": [
    "It looks like `eur` and `company` are the most frequent words in our corpus."
   ]
  },
  {
   "cell_type": "markdown",
   "metadata": {},
   "source": [
    "### 2.6. TF-IDF\n",
    "\n",
    "This way of vectorizing is different than in bag of words as it gives emphasis on the frequency of the word within each document and also how rare the word is in the entire corpus."
   ]
  },
  {
   "cell_type": "code",
   "execution_count": 71,
   "metadata": {},
   "outputs": [
    {
     "name": "stderr",
     "output_type": "stream",
     "text": [
      "c:\\Users\\amato\\anaconda3\\Lib\\site-packages\\sklearn\\feature_extraction\\text.py:528: UserWarning: The parameter 'token_pattern' will not be used since 'tokenizer' is not None'\n",
      "  warnings.warn(\n"
     ]
    }
   ],
   "source": [
    "# using our custom tokenizer in TfidfVectorizer\n",
    "tfidf = TfidfVectorizer(min_df=5,\n",
    "                        tokenizer=my_tokenizer)\n",
    "tfidf.fit(X_train)\n",
    "\n",
    "X_train_transformed = tfidf.transform(X_train)\n",
    "X_test_transformed = tfidf.transform(X_test)"
   ]
  },
  {
   "cell_type": "code",
   "execution_count": 73,
   "metadata": {},
   "outputs": [
    {
     "data": {
      "image/png": "[encoded data removed]",
      "text/plain": [
       "<Figure size 1500x500 with 1 Axes>"
      ]
     },
     "metadata": {},
     "output_type": "display_data"
    }
   ],
   "source": [
    "word_counts = pd.DataFrame(\n",
    "    {\"counts\": X_train_transformed.toarray().sum(axis=0)},\n",
    "    index=tfidf.get_feature_names_out()\n",
    ").sort_values(\"counts\", ascending=False)\n",
    "\n",
    "word_counts.head(20).plot(kind=\"bar\", figsize=(15, 5), legend=False)\n",
    "plt.title(\"Top 20 highest weighted words by TF-IDF\")\n",
    "plt.ylabel(\"Total TF-IDF weight\")\n",
    "plt.xticks(rotation=45)\n",
    "plt.show()"
   ]
  },
  {
   "cell_type": "markdown",
   "metadata": {},
   "source": [
    "It looks like we are getting the similar results as Bag of words. There are some words like million which are emphasized more using TF-IDF and words that weigh less like 'finnish' which are emphasized more in Bag of Words. This graph however looks at the weights associated with each lemma instead of frequency so the differences are tp be expected"
   ]
  },
  {
   "cell_type": "markdown",
   "metadata": {},
   "source": [
    "## 3. Next Steps\n",
    "\n",
    "Now that our data is in numerical form through vectorization, the next steps are to run the appropriate models of classification. So far we have gone over the following: Logistic Regression, KNN and Decision Tree. Compare the performance over all the models. \n",
    "\n",
    "Another topic to visit is to run other vectorization models for text data such as `word2vec` in order to achieve more accurate results. Some models such as VADER (Valence Aware Dictionary and sEntiment Reasoner) don't need vectorization in its data. Comparing the different NLP models is crucial as a next-step.\n",
    "\n",
    "After a model is chosen for sentiment analysis, I will then apply that model to classify the test data for this project which is a collection financial news gathered from 2009 to 2020."
   ]
  },
  {
   "cell_type": "markdown",
   "metadata": {},
   "source": [
    "###"
   ]
  }
 ],
 "metadata": {
  "kernelspec": {
   "display_name": "Python 3 (ipykernel)",
   "language": "python",
   "name": "python3"
  },
  "language_info": {
   "codemirror_mode": {
    "name": "ipython",
    "version": 3
   },
   "file_extension": ".py",
   "mimetype": "text/x-python",
   "name": "python",
   "nbconvert_exporter": "python",
   "pygments_lexer": "ipython3",
   "version": "3.11.7"
  }
 },
 "nbformat": 4,
 "nbformat_minor": 4
}
