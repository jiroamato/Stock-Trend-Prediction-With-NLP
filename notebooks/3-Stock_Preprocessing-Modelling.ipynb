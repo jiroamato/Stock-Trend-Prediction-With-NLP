{
 "cells": [
  {
   "cell_type": "markdown",
   "metadata": {},
   "source": [
    "# **Stock Preprocessing and Modelling**\n",
    "\n",
    "### **By:** Jiro Amato\n",
    "\n",
    "### **Date:** June, 20, 2024\n",
    "\n",
    "---"
   ]
  },
  {
   "cell_type": "markdown",
   "metadata": {},
   "source": [
    "In this notebook, we wll be going through a first pass of preprocessing our stock dataset for the time series model. This dataset contains --. It is crucial to complete this step as it sets the foundation for the rest of the model. We will be looking through different time-series models such as ARMA, SARIMA and LSTM."
   ]
  },
  {
   "cell_type": "code",
   "execution_count": 57,
   "metadata": {},
   "outputs": [],
   "source": [
    "# Necessary imports\n",
    "\n",
    "import numpy as np\n",
    "import pandas as pd\n",
    "\n",
    "# plotting\n",
    "import plotly.express as px\n",
    "from plotly.subplots import make_subplots\n",
    "import plotly.graph_objs as go\n",
    "import matplotlib.pyplot as plt\n",
    "import seaborn as sns\n",
    "from statsmodels.graphics.tsaplots import plot_acf, plot_pacf\n",
    "\n",
    "# stats\n",
    "from statsmodels.api import tsa # time series analysis\n",
    "import statsmodels.api as sm"
   ]
  },
  {
   "cell_type": "code",
   "execution_count": 58,
   "metadata": {},
   "outputs": [
    {
     "data": {
      "text/html": [
       "<div>\n",
       "<style scoped>\n",
       "    .dataframe tbody tr th:only-of-type {\n",
       "        vertical-align: middle;\n",
       "    }\n",
       "\n",
       "    .dataframe tbody tr th {\n",
       "        vertical-align: top;\n",
       "    }\n",
       "\n",
       "    .dataframe thead th {\n",
       "        text-align: right;\n",
       "    }\n",
       "</style>\n",
       "<table border=\"1\" class=\"dataframe\">\n",
       "  <thead>\n",
       "    <tr style=\"text-align: right;\">\n",
       "      <th></th>\n",
       "      <th>Date</th>\n",
       "      <th>Open</th>\n",
       "      <th>High</th>\n",
       "      <th>Low</th>\n",
       "      <th>Close</th>\n",
       "      <th>Adj Close</th>\n",
       "      <th>Volume</th>\n",
       "    </tr>\n",
       "  </thead>\n",
       "  <tbody>\n",
       "    <tr>\n",
       "      <th>0</th>\n",
       "      <td>2000-05-01</td>\n",
       "      <td>1452.430054</td>\n",
       "      <td>1481.510010</td>\n",
       "      <td>1452.430054</td>\n",
       "      <td>1468.250000</td>\n",
       "      <td>1468.250000</td>\n",
       "      <td>966300000</td>\n",
       "    </tr>\n",
       "    <tr>\n",
       "      <th>1</th>\n",
       "      <td>2000-05-02</td>\n",
       "      <td>1468.250000</td>\n",
       "      <td>1468.250000</td>\n",
       "      <td>1445.219971</td>\n",
       "      <td>1446.290039</td>\n",
       "      <td>1446.290039</td>\n",
       "      <td>1011500000</td>\n",
       "    </tr>\n",
       "    <tr>\n",
       "      <th>2</th>\n",
       "      <td>2000-05-03</td>\n",
       "      <td>1446.290039</td>\n",
       "      <td>1446.290039</td>\n",
       "      <td>1398.359985</td>\n",
       "      <td>1415.099976</td>\n",
       "      <td>1415.099976</td>\n",
       "      <td>991600000</td>\n",
       "    </tr>\n",
       "    <tr>\n",
       "      <th>3</th>\n",
       "      <td>2000-05-04</td>\n",
       "      <td>1415.099976</td>\n",
       "      <td>1420.989990</td>\n",
       "      <td>1404.939941</td>\n",
       "      <td>1409.569946</td>\n",
       "      <td>1409.569946</td>\n",
       "      <td>925800000</td>\n",
       "    </tr>\n",
       "    <tr>\n",
       "      <th>4</th>\n",
       "      <td>2000-05-05</td>\n",
       "      <td>1409.569946</td>\n",
       "      <td>1436.030029</td>\n",
       "      <td>1405.079956</td>\n",
       "      <td>1432.630005</td>\n",
       "      <td>1432.630005</td>\n",
       "      <td>805500000</td>\n",
       "    </tr>\n",
       "  </tbody>\n",
       "</table>\n",
       "</div>"
      ],
      "text/plain": [
       "         Date         Open         High          Low        Close  \\\n",
       "0  2000-05-01  1452.430054  1481.510010  1452.430054  1468.250000   \n",
       "1  2000-05-02  1468.250000  1468.250000  1445.219971  1446.290039   \n",
       "2  2000-05-03  1446.290039  1446.290039  1398.359985  1415.099976   \n",
       "3  2000-05-04  1415.099976  1420.989990  1404.939941  1409.569946   \n",
       "4  2000-05-05  1409.569946  1436.030029  1405.079956  1432.630005   \n",
       "\n",
       "     Adj Close      Volume  \n",
       "0  1468.250000   966300000  \n",
       "1  1446.290039  1011500000  \n",
       "2  1415.099976   991600000  \n",
       "3  1409.569946   925800000  \n",
       "4  1432.630005   805500000  "
      ]
     },
     "execution_count": 58,
     "metadata": {},
     "output_type": "execute_result"
    }
   ],
   "source": [
    "stock_df = pd.read_csv(\"../data/^SPX.csv\")\n",
    "stock_df.head()"
   ]
  },
  {
   "cell_type": "code",
   "execution_count": 59,
   "metadata": {},
   "outputs": [
    {
     "name": "stdout",
     "output_type": "stream",
     "text": [
      "<class 'pandas.core.frame.DataFrame'>\n",
      "RangeIndex: 6038 entries, 0 to 6037\n",
      "Data columns (total 7 columns):\n",
      " #   Column     Non-Null Count  Dtype  \n",
      "---  ------     --------------  -----  \n",
      " 0   Date       6038 non-null   object \n",
      " 1   Open       6038 non-null   float64\n",
      " 2   High       6038 non-null   float64\n",
      " 3   Low        6038 non-null   float64\n",
      " 4   Close      6038 non-null   float64\n",
      " 5   Adj Close  6038 non-null   float64\n",
      " 6   Volume     6038 non-null   int64  \n",
      "dtypes: float64(5), int64(1), object(1)\n",
      "memory usage: 330.3+ KB\n"
     ]
    }
   ],
   "source": [
    "stock_df.info()"
   ]
  },
  {
   "cell_type": "code",
   "execution_count": 60,
   "metadata": {},
   "outputs": [
    {
     "name": "stdout",
     "output_type": "stream",
     "text": [
      "<class 'pandas.core.frame.DataFrame'>\n",
      "RangeIndex: 6038 entries, 0 to 6037\n",
      "Data columns (total 7 columns):\n",
      " #   Column     Non-Null Count  Dtype         \n",
      "---  ------     --------------  -----         \n",
      " 0   Date       6038 non-null   datetime64[ns]\n",
      " 1   Open       6038 non-null   float64       \n",
      " 2   High       6038 non-null   float64       \n",
      " 3   Low        6038 non-null   float64       \n",
      " 4   Close      6038 non-null   float64       \n",
      " 5   Adj Close  6038 non-null   float64       \n",
      " 6   Volume     6038 non-null   int64         \n",
      "dtypes: datetime64[ns](1), float64(5), int64(1)\n",
      "memory usage: 330.3 KB\n"
     ]
    }
   ],
   "source": [
    "# Converting 'Date\" column as datetime format\n",
    "stock_df.Date = pd.to_datetime(stock_df.Date)\n",
    "\n",
    "# Sanity check\n",
    "stock_df.info()"
   ]
  },
  {
   "cell_type": "code",
   "execution_count": 61,
   "metadata": {},
   "outputs": [
    {
     "data": {
      "text/html": [
       "<div>\n",
       "<style scoped>\n",
       "    .dataframe tbody tr th:only-of-type {\n",
       "        vertical-align: middle;\n",
       "    }\n",
       "\n",
       "    .dataframe tbody tr th {\n",
       "        vertical-align: top;\n",
       "    }\n",
       "\n",
       "    .dataframe thead th {\n",
       "        text-align: right;\n",
       "    }\n",
       "</style>\n",
       "<table border=\"1\" class=\"dataframe\">\n",
       "  <thead>\n",
       "    <tr style=\"text-align: right;\">\n",
       "      <th></th>\n",
       "      <th>Open</th>\n",
       "      <th>High</th>\n",
       "      <th>Low</th>\n",
       "      <th>Close</th>\n",
       "      <th>Adj Close</th>\n",
       "      <th>Volume</th>\n",
       "    </tr>\n",
       "    <tr>\n",
       "      <th>Date</th>\n",
       "      <th></th>\n",
       "      <th></th>\n",
       "      <th></th>\n",
       "      <th></th>\n",
       "      <th></th>\n",
       "      <th></th>\n",
       "    </tr>\n",
       "  </thead>\n",
       "  <tbody>\n",
       "    <tr>\n",
       "      <th>2000-05-01</th>\n",
       "      <td>1452.430054</td>\n",
       "      <td>1481.510010</td>\n",
       "      <td>1452.430054</td>\n",
       "      <td>1468.250000</td>\n",
       "      <td>1468.250000</td>\n",
       "      <td>966300000</td>\n",
       "    </tr>\n",
       "    <tr>\n",
       "      <th>2000-05-02</th>\n",
       "      <td>1468.250000</td>\n",
       "      <td>1468.250000</td>\n",
       "      <td>1445.219971</td>\n",
       "      <td>1446.290039</td>\n",
       "      <td>1446.290039</td>\n",
       "      <td>1011500000</td>\n",
       "    </tr>\n",
       "    <tr>\n",
       "      <th>2000-05-03</th>\n",
       "      <td>1446.290039</td>\n",
       "      <td>1446.290039</td>\n",
       "      <td>1398.359985</td>\n",
       "      <td>1415.099976</td>\n",
       "      <td>1415.099976</td>\n",
       "      <td>991600000</td>\n",
       "    </tr>\n",
       "    <tr>\n",
       "      <th>2000-05-04</th>\n",
       "      <td>1415.099976</td>\n",
       "      <td>1420.989990</td>\n",
       "      <td>1404.939941</td>\n",
       "      <td>1409.569946</td>\n",
       "      <td>1409.569946</td>\n",
       "      <td>925800000</td>\n",
       "    </tr>\n",
       "    <tr>\n",
       "      <th>2000-05-05</th>\n",
       "      <td>1409.569946</td>\n",
       "      <td>1436.030029</td>\n",
       "      <td>1405.079956</td>\n",
       "      <td>1432.630005</td>\n",
       "      <td>1432.630005</td>\n",
       "      <td>805500000</td>\n",
       "    </tr>\n",
       "    <tr>\n",
       "      <th>...</th>\n",
       "      <td>...</td>\n",
       "      <td>...</td>\n",
       "      <td>...</td>\n",
       "      <td>...</td>\n",
       "      <td>...</td>\n",
       "      <td>...</td>\n",
       "    </tr>\n",
       "    <tr>\n",
       "      <th>2024-04-24</th>\n",
       "      <td>5084.859863</td>\n",
       "      <td>5089.479980</td>\n",
       "      <td>5047.020020</td>\n",
       "      <td>5071.629883</td>\n",
       "      <td>5071.629883</td>\n",
       "      <td>3656740000</td>\n",
       "    </tr>\n",
       "    <tr>\n",
       "      <th>2024-04-25</th>\n",
       "      <td>5019.879883</td>\n",
       "      <td>5057.750000</td>\n",
       "      <td>4990.580078</td>\n",
       "      <td>5048.419922</td>\n",
       "      <td>5048.419922</td>\n",
       "      <td>3958050000</td>\n",
       "    </tr>\n",
       "    <tr>\n",
       "      <th>2024-04-26</th>\n",
       "      <td>5084.649902</td>\n",
       "      <td>5114.620117</td>\n",
       "      <td>5073.140137</td>\n",
       "      <td>5099.959961</td>\n",
       "      <td>5099.959961</td>\n",
       "      <td>3604140000</td>\n",
       "    </tr>\n",
       "    <tr>\n",
       "      <th>2024-04-29</th>\n",
       "      <td>5114.129883</td>\n",
       "      <td>5123.490234</td>\n",
       "      <td>5088.649902</td>\n",
       "      <td>5116.169922</td>\n",
       "      <td>5116.169922</td>\n",
       "      <td>3447450000</td>\n",
       "    </tr>\n",
       "    <tr>\n",
       "      <th>2024-04-30</th>\n",
       "      <td>5103.779785</td>\n",
       "      <td>5110.830078</td>\n",
       "      <td>5035.310059</td>\n",
       "      <td>5035.689941</td>\n",
       "      <td>5035.689941</td>\n",
       "      <td>4082470000</td>\n",
       "    </tr>\n",
       "  </tbody>\n",
       "</table>\n",
       "<p>6038 rows × 6 columns</p>\n",
       "</div>"
      ],
      "text/plain": [
       "                   Open         High          Low        Close    Adj Close  \\\n",
       "Date                                                                          \n",
       "2000-05-01  1452.430054  1481.510010  1452.430054  1468.250000  1468.250000   \n",
       "2000-05-02  1468.250000  1468.250000  1445.219971  1446.290039  1446.290039   \n",
       "2000-05-03  1446.290039  1446.290039  1398.359985  1415.099976  1415.099976   \n",
       "2000-05-04  1415.099976  1420.989990  1404.939941  1409.569946  1409.569946   \n",
       "2000-05-05  1409.569946  1436.030029  1405.079956  1432.630005  1432.630005   \n",
       "...                 ...          ...          ...          ...          ...   \n",
       "2024-04-24  5084.859863  5089.479980  5047.020020  5071.629883  5071.629883   \n",
       "2024-04-25  5019.879883  5057.750000  4990.580078  5048.419922  5048.419922   \n",
       "2024-04-26  5084.649902  5114.620117  5073.140137  5099.959961  5099.959961   \n",
       "2024-04-29  5114.129883  5123.490234  5088.649902  5116.169922  5116.169922   \n",
       "2024-04-30  5103.779785  5110.830078  5035.310059  5035.689941  5035.689941   \n",
       "\n",
       "                Volume  \n",
       "Date                    \n",
       "2000-05-01   966300000  \n",
       "2000-05-02  1011500000  \n",
       "2000-05-03   991600000  \n",
       "2000-05-04   925800000  \n",
       "2000-05-05   805500000  \n",
       "...                ...  \n",
       "2024-04-24  3656740000  \n",
       "2024-04-25  3958050000  \n",
       "2024-04-26  3604140000  \n",
       "2024-04-29  3447450000  \n",
       "2024-04-30  4082470000  \n",
       "\n",
       "[6038 rows x 6 columns]"
      ]
     },
     "execution_count": 61,
     "metadata": {},
     "output_type": "execute_result"
    }
   ],
   "source": [
    "# Setting date as index to make plotting easier\n",
    "stock_df_clean = stock_df.set_index('Date')\n",
    "\n",
    "# Sanity check\n",
    "stock_df_clean"
   ]
  },
  {
   "cell_type": "code",
   "execution_count": 62,
   "metadata": {},
   "outputs": [
    {
     "data": {
      "text/plain": [
       "0"
      ]
     },
     "execution_count": 62,
     "metadata": {},
     "output_type": "execute_result"
    }
   ],
   "source": [
    "stock_df_clean.duplicated().sum()"
   ]
  },
  {
   "cell_type": "markdown",
   "metadata": {},
   "source": [
    "No duplicates"
   ]
  },
  {
   "cell_type": "code",
   "execution_count": 63,
   "metadata": {},
   "outputs": [
    {
     "data": {
      "text/plain": [
       "Open         0\n",
       "High         0\n",
       "Low          0\n",
       "Close        0\n",
       "Adj Close    0\n",
       "Volume       0\n",
       "dtype: int64"
      ]
     },
     "execution_count": 63,
     "metadata": {},
     "output_type": "execute_result"
    }
   ],
   "source": [
    "stock_df_clean.isna().sum()"
   ]
  },
  {
   "cell_type": "markdown",
   "metadata": {},
   "source": [
    "No nulls"
   ]
  },
  {
   "cell_type": "markdown",
   "metadata": {},
   "source": [
    "The dataset include stock price of the S&P 500 (Ticker: SPX) from May 1, 2000 to April 30, 2024 (24 years of stock price)."
   ]
  },
  {
   "cell_type": "code",
   "execution_count": 64,
   "metadata": {},
   "outputs": [
    {
     "data": {
      "text/html": [
       "<div>\n",
       "<style scoped>\n",
       "    .dataframe tbody tr th:only-of-type {\n",
       "        vertical-align: middle;\n",
       "    }\n",
       "\n",
       "    .dataframe tbody tr th {\n",
       "        vertical-align: top;\n",
       "    }\n",
       "\n",
       "    .dataframe thead th {\n",
       "        text-align: right;\n",
       "    }\n",
       "</style>\n",
       "<table border=\"1\" class=\"dataframe\">\n",
       "  <thead>\n",
       "    <tr style=\"text-align: right;\">\n",
       "      <th></th>\n",
       "      <th>Open</th>\n",
       "      <th>High</th>\n",
       "      <th>Low</th>\n",
       "      <th>Close</th>\n",
       "      <th>Adj Close</th>\n",
       "      <th>Volume</th>\n",
       "    </tr>\n",
       "  </thead>\n",
       "  <tbody>\n",
       "    <tr>\n",
       "      <th>count</th>\n",
       "      <td>6038.000000</td>\n",
       "      <td>6038.000000</td>\n",
       "      <td>6038.000000</td>\n",
       "      <td>6038.000000</td>\n",
       "      <td>6038.000000</td>\n",
       "      <td>6.038000e+03</td>\n",
       "    </tr>\n",
       "    <tr>\n",
       "      <th>mean</th>\n",
       "      <td>2022.617793</td>\n",
       "      <td>2034.344138</td>\n",
       "      <td>2010.027827</td>\n",
       "      <td>2022.910899</td>\n",
       "      <td>2022.910899</td>\n",
       "      <td>3.367036e+09</td>\n",
       "    </tr>\n",
       "    <tr>\n",
       "      <th>std</th>\n",
       "      <td>1116.906685</td>\n",
       "      <td>1122.302775</td>\n",
       "      <td>1111.240462</td>\n",
       "      <td>1117.160153</td>\n",
       "      <td>1117.160153</td>\n",
       "      <td>1.489256e+09</td>\n",
       "    </tr>\n",
       "    <tr>\n",
       "      <th>min</th>\n",
       "      <td>679.280029</td>\n",
       "      <td>695.270020</td>\n",
       "      <td>666.789978</td>\n",
       "      <td>676.530029</td>\n",
       "      <td>676.530029</td>\n",
       "      <td>3.560700e+08</td>\n",
       "    </tr>\n",
       "    <tr>\n",
       "      <th>25%</th>\n",
       "      <td>1191.372498</td>\n",
       "      <td>1198.742493</td>\n",
       "      <td>1184.372497</td>\n",
       "      <td>1191.407501</td>\n",
       "      <td>1191.407501</td>\n",
       "      <td>2.246905e+09</td>\n",
       "    </tr>\n",
       "    <tr>\n",
       "      <th>50%</th>\n",
       "      <td>1471.834961</td>\n",
       "      <td>1481.059998</td>\n",
       "      <td>1463.474976</td>\n",
       "      <td>1472.159973</td>\n",
       "      <td>1472.159973</td>\n",
       "      <td>3.482600e+09</td>\n",
       "    </tr>\n",
       "    <tr>\n",
       "      <th>75%</th>\n",
       "      <td>2675.452454</td>\n",
       "      <td>2686.277466</td>\n",
       "      <td>2654.857483</td>\n",
       "      <td>2672.452393</td>\n",
       "      <td>2672.452393</td>\n",
       "      <td>4.173525e+09</td>\n",
       "    </tr>\n",
       "    <tr>\n",
       "      <th>max</th>\n",
       "      <td>5257.970215</td>\n",
       "      <td>5264.850098</td>\n",
       "      <td>5245.819824</td>\n",
       "      <td>5254.350098</td>\n",
       "      <td>5254.350098</td>\n",
       "      <td>1.145623e+10</td>\n",
       "    </tr>\n",
       "  </tbody>\n",
       "</table>\n",
       "</div>"
      ],
      "text/plain": [
       "              Open         High          Low        Close    Adj Close  \\\n",
       "count  6038.000000  6038.000000  6038.000000  6038.000000  6038.000000   \n",
       "mean   2022.617793  2034.344138  2010.027827  2022.910899  2022.910899   \n",
       "std    1116.906685  1122.302775  1111.240462  1117.160153  1117.160153   \n",
       "min     679.280029   695.270020   666.789978   676.530029   676.530029   \n",
       "25%    1191.372498  1198.742493  1184.372497  1191.407501  1191.407501   \n",
       "50%    1471.834961  1481.059998  1463.474976  1472.159973  1472.159973   \n",
       "75%    2675.452454  2686.277466  2654.857483  2672.452393  2672.452393   \n",
       "max    5257.970215  5264.850098  5245.819824  5254.350098  5254.350098   \n",
       "\n",
       "             Volume  \n",
       "count  6.038000e+03  \n",
       "mean   3.367036e+09  \n",
       "std    1.489256e+09  \n",
       "min    3.560700e+08  \n",
       "25%    2.246905e+09  \n",
       "50%    3.482600e+09  \n",
       "75%    4.173525e+09  \n",
       "max    1.145623e+10  "
      ]
     },
     "execution_count": 64,
     "metadata": {},
     "output_type": "execute_result"
    }
   ],
   "source": [
    "# Statistical Parameters\n",
    "stock_df_clean.describe()"
   ]
  },
  {
   "cell_type": "markdown",
   "metadata": {},
   "source": [
    "### Data Dictionary\n",
    "\n",
    "**Column Name:**   \n",
    "\n",
    "- `Open`: The price at market open (9:30AM Eastern)\n",
    "- `High`: The highest price during that trading day\n",
    "- `Low`: The lowest price during that traing day\n",
    "- `Close`: The price at market close (4:00PM Eastern)\n",
    "- `Adj Close`: The closing price after adjustments for all applicable splits and dividend distributions (both affect price)\n",
    "- `Volume`: The number of shares of the stock traded that day"
   ]
  },
  {
   "cell_type": "code",
   "execution_count": 65,
   "metadata": {},
   "outputs": [
    {
     "data": {
      "image/png": "[encoded data removed]",
      "text/plain": [
       "<Figure size 1000x400 with 1 Axes>"
      ]
     },
     "metadata": {},
     "output_type": "display_data"
    }
   ],
   "source": [
    "# Plotting Stock Price over Time\n",
    "\n",
    "plt.figure(figsize=(10,4))\n",
    "plt.plot(stock_df_clean[\"Close\"])\n",
    "plt.title(\"Close Price Over Time\")\n",
    "plt.ylabel(\"Price ($)\")\n",
    "plt.grid()\n",
    "for year in range(2000, 2026):\n",
    "    plt.axvline(pd.to_datetime(str(year)+\"-01-01\"), color=\"black\", linestyle=\"--\", alpha=0.5)\n",
    "plt.xlim(pd.to_datetime('2000-05-01'), pd.to_datetime('2024-04-30'))\n",
    "plt.show()"
   ]
  },
  {
   "cell_type": "markdown",
   "metadata": {},
   "source": [
    "### ACF"
   ]
  },
  {
   "cell_type": "code",
   "execution_count": 71,
   "metadata": {},
   "outputs": [
    {
     "data": {
      "image/png": "[encoded data removed]",
      "text/plain": [
       "<Figure size 640x480 with 1 Axes>"
      ]
     },
     "metadata": {},
     "output_type": "display_data"
    }
   ],
   "source": [
    "# acf plot \n",
    "acf_plot = plot_acf(stock_df_clean[\"Close\"], lags=100)\n",
    "plt.title(\"ACF Plot of Stock Price (Close)\")\n",
    "plt.xlabel(\"Lag\")\n",
    "plt.ylabel(\"Autocorrelation\")\n",
    "plt.show()"
   ]
  },
  {
   "cell_type": "markdown",
   "metadata": {},
   "source": [
    "Does not look like a purely autoregressive process???? Look more into this\n",
    "\n",
    "ACF does decay slowly which tells us that the data is not stationary. This is true since the plot on our data above shows the stock price increasing over time."
   ]
  },
  {
   "cell_type": "markdown",
   "metadata": {},
   "source": [
    "### PACF"
   ]
  },
  {
   "cell_type": "code",
   "execution_count": 72,
   "metadata": {},
   "outputs": [
    {
     "data": {
      "image/png": "[encoded data removed]",
      "text/plain": [
       "<Figure size 640x480 with 1 Axes>"
      ]
     },
     "metadata": {},
     "output_type": "display_data"
    }
   ],
   "source": [
    "# PACF plot\n",
    "pacf_plot = plot_pacf(stock_df_clean[\"Close\"])\n",
    "plt.title(\"ACF Plot of Stock Price (Close)\")\n",
    "plt.xlabel(\"Lag\")\n",
    "plt.ylabel(\"Autocorrelation\")\n",
    "plt.show()"
   ]
  },
  {
   "cell_type": "markdown",
   "metadata": {},
   "source": [
    "So how do we make the stock data more stationary? Using First difference?? \n",
    "\n",
    "First Difference = Close<sub>(t)</sub> - Close<sub>(t-1)</sub>"
   ]
  },
  {
   "cell_type": "code",
   "execution_count": 82,
   "metadata": {},
   "outputs": [
    {
     "data": {
      "text/plain": [
       "array([1446.290039, 1415.099976, 1409.569946, ..., 5099.959961,\n",
       "       5116.169922, 5035.689941])"
      ]
     },
     "execution_count": 82,
     "metadata": {},
     "output_type": "execute_result"
    }
   ],
   "source": [
    "# First differerence\n",
    "stock_df_clean[\"Close\"].values[1:]"
   ]
  },
  {
   "cell_type": "code",
   "execution_count": 83,
   "metadata": {},
   "outputs": [
    {
     "data": {
      "text/plain": [
       "array([1468.25    , 1446.290039, 1415.099976, ..., 5048.419922,\n",
       "       5099.959961, 5116.169922])"
      ]
     },
     "execution_count": 83,
     "metadata": {},
     "output_type": "execute_result"
    }
   ],
   "source": [
    "stock_df_clean[\"Close\"].values[:-1]"
   ]
  },
  {
   "cell_type": "code",
   "execution_count": 84,
   "metadata": {},
   "outputs": [],
   "source": [
    "# First Difference\n",
    "first_diffs = stock_df_clean[\"Close\"].values[1:] - stock_df_clean[\"Close\"].values[:-1]"
   ]
  },
  {
   "cell_type": "code",
   "execution_count": 85,
   "metadata": {},
   "outputs": [
    {
     "data": {
      "text/plain": [
       "array([-21.959961, -31.190063,  -5.53003 , ...,  51.540039,  16.209961,\n",
       "       -80.479981])"
      ]
     },
     "execution_count": 85,
     "metadata": {},
     "output_type": "execute_result"
    }
   ],
   "source": [
    "first_diffs"
   ]
  },
  {
   "cell_type": "code",
   "execution_count": 89,
   "metadata": {},
   "outputs": [],
   "source": [
    "diffs = pd.Series([first_diffs, [0]])"
   ]
  },
  {
   "cell_type": "code",
   "execution_count": 90,
   "metadata": {},
   "outputs": [
    {
     "data": {
      "text/plain": [
       "0    [-21.95996100000002, -31.19006300000001, -5.53...\n",
       "1                                                  [0]\n",
       "dtype: object"
      ]
     },
     "execution_count": 90,
     "metadata": {},
     "output_type": "execute_result"
    }
   ],
   "source": [
    "diffs"
   ]
  },
  {
   "cell_type": "code",
   "execution_count": 91,
   "metadata": {},
   "outputs": [],
   "source": [
    "diffs_df = pd.concat([stock_df_clean[\"Close\"], diffs])"
   ]
  },
  {
   "cell_type": "code",
   "execution_count": 92,
   "metadata": {},
   "outputs": [
    {
     "data": {
      "text/plain": [
       "2000-05-01 00:00:00                                              1468.25\n",
       "2000-05-02 00:00:00                                          1446.290039\n",
       "2000-05-03 00:00:00                                          1415.099976\n",
       "2000-05-04 00:00:00                                          1409.569946\n",
       "2000-05-05 00:00:00                                          1432.630005\n",
       "                                             ...                        \n",
       "2024-04-26 00:00:00                                          5099.959961\n",
       "2024-04-29 00:00:00                                          5116.169922\n",
       "2024-04-30 00:00:00                                          5035.689941\n",
       "0                      [-21.95996100000002, -31.19006300000001, -5.53...\n",
       "1                                                                    [0]\n",
       "Length: 6040, dtype: object"
      ]
     },
     "execution_count": 92,
     "metadata": {},
     "output_type": "execute_result"
    }
   ],
   "source": [
    "diffs_df"
   ]
  },
  {
   "cell_type": "code",
   "execution_count": null,
   "metadata": {},
   "outputs": [],
   "source": []
  }
 ],
 "metadata": {
  "kernelspec": {
   "display_name": "timeseries",
   "language": "python",
   "name": "python3"
  },
  "language_info": {
   "codemirror_mode": {
    "name": "ipython",
    "version": 3
   },
   "file_extension": ".py",
   "mimetype": "text/x-python",
   "name": "python",
   "nbconvert_exporter": "python",
   "pygments_lexer": "ipython3",
   "version": "3.11.4"
  }
 },
 "nbformat": 4,
 "nbformat_minor": 2
}
